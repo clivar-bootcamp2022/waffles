{
 "cells": [
  {
   "cell_type": "markdown",
   "id": "8c5e1a2b-9d09-40ae-a864-23cf32645dd7",
   "metadata": {},
   "source": [
    "## Calculate Bering Strait Transport\n"
   ]
  },
  {
   "cell_type": "markdown",
   "id": "a2ba45ae-c209-46e6-9c7f-c9fe3658734d",
   "metadata": {
    "tags": []
   },
   "source": [
    "## Import packages"
   ]
  },
  {
   "cell_type": "code",
   "execution_count": 1,
   "id": "cc565d94-0292-464d-9c01-7759b60859bb",
   "metadata": {
    "tags": []
   },
   "outputs": [],
   "source": [
    "%matplotlib inline\n",
    "import numpy as np\n",
    "import xarray as xr\n",
    "import s3fs\n",
    "import zarr\n",
    "import util\n",
    "import warnings\n",
    "warnings.filterwarnings('ignore')"
   ]
  },
  {
   "cell_type": "markdown",
   "id": "87c3ac04-db2b-4100-81cc-0be16942a4b6",
   "metadata": {},
   "source": [
    "## Create a new Dask cluster with the Dask Gateway"
   ]
  },
  {
   "cell_type": "code",
   "execution_count": 2,
   "id": "8ae7470d-c905-4891-9443-18df834dda2b",
   "metadata": {
    "tags": [
     "skip-execution"
    ]
   },
   "outputs": [],
   "source": [
    "from dask_gateway import Gateway\n",
    "gateway = Gateway()"
   ]
  },
  {
   "cell_type": "code",
   "execution_count": null,
   "id": "2d3a5fb9-e482-472d-b17d-b4e48e948a2a",
   "metadata": {},
   "outputs": [],
   "source": [
    "##A line of trick to clean your dask cluster before you start your computation\n",
    "from dask.distributed import Client\n",
    "clusters=gateway.list_clusters()\n",
    "print(clusters )\n",
    "for cluster in clusters :\n",
    "    cluster= gateway.connect(cluster.name)\n",
    "    print(cluster)\n",
    "    client = Client(cluster)\n",
    "    client.close()\n",
    "    cluster.shutdown()"
   ]
  },
  {
   "cell_type": "code",
   "execution_count": 4,
   "id": "b8e2b923-07b9-481e-a7bf-9da7a816fff4",
   "metadata": {
    "tags": [
     "skip-execution"
    ]
   },
   "outputs": [
    {
     "data": {
      "application/vnd.jupyter.widget-view+json": {
       "model_id": "296c055835384b9ab866071626a19fdc",
       "version_major": 2,
       "version_minor": 0
      },
      "text/plain": [
       "VBox(children=(HTML(value='<h2>GatewayCluster</h2>'), HBox(children=(HTML(value='\\n<div>\\n<style scoped>\\n    …"
      ]
     },
     "metadata": {},
     "output_type": "display_data"
    }
   ],
   "source": [
    "cluster = gateway.new_cluster(worker_memory=2, worker_cores=1)\n",
    "\n",
    "cluster.scale(8)\n",
    "cluster"
   ]
  },
  {
   "cell_type": "markdown",
   "id": "848ccfd4-c113-43b2-b0d0-feb17bc2d7e5",
   "metadata": {
    "tags": []
   },
   "source": [
    "## Get a client from the Dask Gateway Cluster\n",
    "\n",
    "As stated above, creating a Dask `Client` is mandatory in order to perform following Daks computations on your Dask Cluster."
   ]
  },
  {
   "cell_type": "code",
   "execution_count": 5,
   "id": "3e6c6c71-f19a-48f9-ba7d-f8db2e9cda91",
   "metadata": {},
   "outputs": [
    {
     "data": {
      "text/html": [
       "<div>\n",
       "    <div style=\"width: 24px; height: 24px; background-color: #e1e1e1; border: 3px solid #9D9D9D; border-radius: 5px; position: absolute;\"> </div>\n",
       "    <div style=\"margin-left: 48px;\">\n",
       "        <h3 style=\"margin-bottom: 0px;\">Client</h3>\n",
       "        <p style=\"color: #9D9D9D; margin-bottom: 0px;\">Client-51f10112-4f8e-11ed-86be-56e45e6ce8f2</p>\n",
       "        <table style=\"width: 100%; text-align: left;\">\n",
       "\n",
       "        <tr>\n",
       "        \n",
       "            <td style=\"text-align: left;\"><strong>Connection method:</strong> Cluster object</td>\n",
       "            <td style=\"text-align: left;\"><strong>Cluster type:</strong> dask_gateway.GatewayCluster</td>\n",
       "        \n",
       "        </tr>\n",
       "\n",
       "        \n",
       "            <tr>\n",
       "                <td style=\"text-align: left;\">\n",
       "                    <strong>Dashboard: </strong> <a href=\"/jupyterhub/services/dask-gateway/clusters/daskhub.80064203c68c4960bf4a6cc3ea1dc95c/status\" target=\"_blank\">/jupyterhub/services/dask-gateway/clusters/daskhub.80064203c68c4960bf4a6cc3ea1dc95c/status</a>\n",
       "                </td>\n",
       "                <td style=\"text-align: left;\"></td>\n",
       "            </tr>\n",
       "        \n",
       "\n",
       "        </table>\n",
       "\n",
       "        \n",
       "            <details>\n",
       "            <summary style=\"margin-bottom: 20px;\"><h3 style=\"display: inline;\">Cluster Info</h3></summary>\n",
       "            <div style='background-color: #f2f2f2; display: inline-block; padding: 10px; border: 1px solid #999999;'>\n",
       "  <h3>GatewayCluster</h3>\n",
       "  <ul>\n",
       "    <li><b>Name: </b>daskhub.80064203c68c4960bf4a6cc3ea1dc95c\n",
       "    <li><b>Dashboard: </b><a href='/jupyterhub/services/dask-gateway/clusters/daskhub.80064203c68c4960bf4a6cc3ea1dc95c/status' target='_blank'>/jupyterhub/services/dask-gateway/clusters/daskhub.80064203c68c4960bf4a6cc3ea1dc95c/status</a>\n",
       "  </ul>\n",
       "</div>\n",
       "\n",
       "            </details>\n",
       "        \n",
       "\n",
       "    </div>\n",
       "</div>"
      ],
      "text/plain": [
       "<Client: 'tls://10.244.23.120:8786' processes=0 threads=0, memory=0 B>"
      ]
     },
     "execution_count": 5,
     "metadata": {},
     "output_type": "execute_result"
    }
   ],
   "source": [
    "from distributed import Client\n",
    "\n",
    "if cluster:\n",
    "    client = Client(cluster) # create a dask Gateway cluster\n",
    "else:\n",
    "    client = Client()   # create a local dask cluster on the machine.\n",
    "client"
   ]
  },
  {
   "cell_type": "markdown",
   "id": "69679593-7dcd-45d4-a46e-fe21c7a7553b",
   "metadata": {
    "tags": []
   },
   "source": [
    "## Open dictionary of OMIP2 simulations"
   ]
  },
  {
   "cell_type": "code",
   "execution_count": 6,
   "id": "d77456e3-be97-49fe-ac5c-60f44d085ae6",
   "metadata": {},
   "outputs": [],
   "source": [
    "# Load in file of model names and fnames\n",
    "model_fnames_dict = np.load(\"models.npy\", allow_pickle=True).item()"
   ]
  },
  {
   "cell_type": "code",
   "execution_count": 7,
   "id": "c3fc041b-bdf4-4249-b51d-956ae3c06fc7",
   "metadata": {},
   "outputs": [
    {
     "data": {
      "text/plain": [
       "['CNRM-CM6-1-HR',\n",
       " 'MRI-ESM2-0',\n",
       " 'CMCC-CM2-SR5',\n",
       " 'ACCESS-OM2',\n",
       " 'TaiESM1-TIMCOM2',\n",
       " 'MIROC6',\n",
       " 'ACCESS-OM2-025',\n",
       " 'CMCC-CM2-HR4',\n",
       " 'NorESM2-LM',\n",
       " 'EC-Earth3',\n",
       " 'CNRM-CM6-1',\n",
       " 'FGOALS-f3-L',\n",
       " 'TaiESM1-TIMCOM']"
      ]
     },
     "execution_count": 7,
     "metadata": {},
     "output_type": "execute_result"
    }
   ],
   "source": [
    "list(model_fnames_dict.keys())"
   ]
  },
  {
   "cell_type": "markdown",
   "id": "94f607f8-7fdb-4468-a35b-aaba3d6cf659",
   "metadata": {},
   "source": [
    "## Function for reading data from zarr"
   ]
  },
  {
   "cell_type": "code",
   "execution_count": 3,
   "id": "ae112ccd-f303-4806-a317-af6fb2fad670",
   "metadata": {
    "tags": []
   },
   "outputs": [],
   "source": [
    "def read_dataset_from_zarr(sim_name):\n",
    "    # set path on bucket\n",
    "    path='WAFFLES/OMIP2'\n",
    "    s3_prefix =  \"s3://\"+path\n",
    "    print(s3_prefix)\n",
    "    \n",
    "    # get storage keys\n",
    "    access_key = !aws configure get aws_access_key_id\n",
    "    access_key = access_key[0]\n",
    "    secret_key = !aws configure get aws_secret_access_key\n",
    "    secret_key = secret_key[0]\n",
    "    \n",
    "    # set storage target\n",
    "    client_kwargs={'endpoint_url': 'https://object-store.cloud.muni.cz'}\n",
    "    target = s3fs.S3FileSystem(anon=False,client_kwargs=client_kwargs)\n",
    "    \n",
    "    # file name for variable in simulation\n",
    "    zarr_file_name= sim_name\n",
    "    uri = f\"{s3_prefix}/{zarr_file_name}\"\n",
    "    \n",
    "    # get store argument for zarr\n",
    "    store = zarr.storage.FSStore(uri,client_kwargs=client_kwargs,\n",
    "                                 key=access_key, secret=secret_key)\n",
    "    \n",
    "    # read variable from zarr\n",
    "    ds=xr.open_zarr(store=store)\n",
    "    \n",
    "    return ds"
   ]
  },
  {
   "cell_type": "markdown",
   "id": "b82494fb-1c67-4436-a237-334d625f0f36",
   "metadata": {},
   "source": [
    "## Read, subset, and calc transports"
   ]
  },
  {
   "cell_type": "code",
   "execution_count": 2,
   "id": "9d542655-c2e3-45ca-b014-6cb064e6a620",
   "metadata": {},
   "outputs": [],
   "source": [
    "## Set Bering Straight region \n",
    "lon_bs_min = 190\n",
    "lon_bs_max = 192\n",
    "#Note that most models are very sensitive to the maxlon value as most of the grids slant that way\n",
    "lat_bs = 66 + (19.6/60) - 0.65"
   ]
  },
  {
   "cell_type": "code",
   "execution_count": null,
   "id": "4cf957a5-2360-4c2b-ba3b-b5ff4adb6b20",
   "metadata": {},
   "outputs": [],
   "source": [
    "for sim_name in list(model_fnames_dict.keys()):\n",
    "    # read in ds from bucket\n",
    "    ds = read_dataset_from_zarr(sim_name)\n",
    "    \n",
    "    # extract Bering Strait transect\n",
    "    ds_BS = util.subset_ds_bering_trans(ds,sim_name,lat_bs,lon_bs_min,lon_bs_max)\n",
    "    \n",
    "    # Calc transports\n",
    "    ds_BS = util.calc_Bering_fluxes(ds_BS)\n",
    "    \n",
    "    # write transport flux files?\n",
    "    "
   ]
  },
  {
   "cell_type": "code",
   "execution_count": null,
   "id": "42b3be3a-b496-4e06-85b3-aff1edf28baf",
   "metadata": {},
   "outputs": [],
   "source": []
  },
  {
   "cell_type": "markdown",
   "id": "721f9279-d3fd-4e6d-84bb-f9f3d90bb916",
   "metadata": {},
   "source": [
    "## Test code below this line"
   ]
  },
  {
   "cell_type": "code",
   "execution_count": null,
   "id": "6464dab6-30a3-47b3-abe5-4fb57963b75d",
   "metadata": {},
   "outputs": [],
   "source": []
  },
  {
   "cell_type": "code",
   "execution_count": null,
   "id": "49c8b4a6-eb1f-4fd2-abfb-30aade05d111",
   "metadata": {},
   "outputs": [],
   "source": []
  }
 ],
 "metadata": {
  "kernelspec": {
   "display_name": "Python [conda env:notebook] *",
   "language": "python",
   "name": "conda-env-notebook-py"
  },
  "language_info": {
   "codemirror_mode": {
    "name": "ipython",
    "version": 3
   },
   "file_extension": ".py",
   "mimetype": "text/x-python",
   "name": "python",
   "nbconvert_exporter": "python",
   "pygments_lexer": "ipython3",
   "version": "3.9.13"
  }
 },
 "nbformat": 4,
 "nbformat_minor": 5
}
