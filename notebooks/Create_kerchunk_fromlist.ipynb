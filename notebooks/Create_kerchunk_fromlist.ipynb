{
 "cells": [
  {
   "cell_type": "markdown",
   "id": "de379df7-a2fa-4149-80ec-940bb41e0fe3",
   "metadata": {},
   "source": [
    "# Problem: Loading 4D variables and writing output to zarr\n"
   ]
  },
  {
   "cell_type": "code",
   "execution_count": null,
   "id": "b2d58f9e-2dd0-46b9-8489-0c65b10e81dd",
   "metadata": {
    "tags": []
   },
   "outputs": [],
   "source": [
    "pip install xmip"
   ]
  },
  {
   "cell_type": "markdown",
   "id": "f8f3e567-edf9-4289-86e0-7e6bd14d46a6",
   "metadata": {
    "tags": []
   },
   "source": [
    "## Import packages"
   ]
  },
  {
   "cell_type": "code",
   "execution_count": 1,
   "id": "b3c8c929-6e21-4ea7-a77d-960de4612b4e",
   "metadata": {
    "tags": []
   },
   "outputs": [],
   "source": [
    "import numpy as np\n",
    "import xarray as xr\n",
    "import dask\n",
    "import s3fs\n",
    "import zarr\n",
    "import warnings\n",
    "warnings.filterwarnings('ignore')"
   ]
  },
  {
   "cell_type": "markdown",
   "id": "957f1b3f-4cf7-49ed-8ccd-d960eb0f5f82",
   "metadata": {},
   "source": [
    "## Create a new Dask cluster with the Dask Gateway"
   ]
  },
  {
   "cell_type": "code",
   "execution_count": 2,
   "id": "6cc3c096-941c-4df6-a93c-b2c36db47588",
   "metadata": {
    "tags": [
     "skip-execution"
    ]
   },
   "outputs": [],
   "source": [
    "from dask_gateway import Gateway\n",
    "gateway = Gateway()"
   ]
  },
  {
   "cell_type": "code",
   "execution_count": 4,
   "id": "ac3ffd3f-3975-431d-9e6d-7f3dc16c66c6",
   "metadata": {},
   "outputs": [
    {
     "name": "stdout",
     "output_type": "stream",
     "text": [
      "[]\n"
     ]
    }
   ],
   "source": [
    "##A line of trick to clean your dask cluster before you start your computation\n",
    "from dask.distributed import Client\n",
    "clusters=gateway.list_clusters()\n",
    "print(clusters )\n",
    "for cluster in clusters :\n",
    "    cluster= gateway.connect(cluster.name)\n",
    "    print(cluster)\n",
    "    client = Client(cluster)\n",
    "    client.close()\n",
    "    cluster.shutdown()"
   ]
  },
  {
   "cell_type": "code",
   "execution_count": 5,
   "id": "c89c35c9-8037-4f79-b681-ba8f0b64d872",
   "metadata": {
    "tags": [
     "skip-execution"
    ]
   },
   "outputs": [
    {
     "data": {
      "application/vnd.jupyter.widget-view+json": {
       "model_id": "3ef86bc7d14e407299c61316c7c034d7",
       "version_major": 2,
       "version_minor": 0
      },
      "text/plain": [
       "VBox(children=(HTML(value='<h2>GatewayCluster</h2>'), HBox(children=(HTML(value='\\n<div>\\n<style scoped>\\n    …"
      ]
     },
     "metadata": {},
     "output_type": "display_data"
    }
   ],
   "source": [
    "cluster = gateway.new_cluster(worker_memory=2, worker_cores=1)\n",
    "\n",
    "cluster.scale(40)\n",
    "cluster"
   ]
  },
  {
   "cell_type": "markdown",
   "id": "403296af-7ebd-41c6-b422-dbd49ecfdb36",
   "metadata": {
    "tags": []
   },
   "source": [
    "## Get a client from the Dask Gateway Cluster\n",
    "\n",
    "As stated above, creating a Dask `Client` is mandatory in order to perform following Daks computations on your Dask Cluster."
   ]
  },
  {
   "cell_type": "code",
   "execution_count": 6,
   "id": "5d349eb0-4e7f-414e-9b53-4311ba3852ea",
   "metadata": {},
   "outputs": [
    {
     "data": {
      "text/html": [
       "<div>\n",
       "    <div style=\"width: 24px; height: 24px; background-color: #e1e1e1; border: 3px solid #9D9D9D; border-radius: 5px; position: absolute;\"> </div>\n",
       "    <div style=\"margin-left: 48px;\">\n",
       "        <h3 style=\"margin-bottom: 0px;\">Client</h3>\n",
       "        <p style=\"color: #9D9D9D; margin-bottom: 0px;\">Client-4daacbe5-6426-11ed-b8d6-faf20ee973b9</p>\n",
       "        <table style=\"width: 100%; text-align: left;\">\n",
       "\n",
       "        <tr>\n",
       "        \n",
       "            <td style=\"text-align: left;\"><strong>Connection method:</strong> Cluster object</td>\n",
       "            <td style=\"text-align: left;\"><strong>Cluster type:</strong> dask_gateway.GatewayCluster</td>\n",
       "        \n",
       "        </tr>\n",
       "\n",
       "        \n",
       "            <tr>\n",
       "                <td style=\"text-align: left;\">\n",
       "                    <strong>Dashboard: </strong> <a href=\"/jupyterhub/services/dask-gateway/clusters/daskhub.81ee0c0bae63493790a3629168290d7f/status\" target=\"_blank\">/jupyterhub/services/dask-gateway/clusters/daskhub.81ee0c0bae63493790a3629168290d7f/status</a>\n",
       "                </td>\n",
       "                <td style=\"text-align: left;\"></td>\n",
       "            </tr>\n",
       "        \n",
       "\n",
       "        </table>\n",
       "\n",
       "        \n",
       "            <details>\n",
       "            <summary style=\"margin-bottom: 20px;\"><h3 style=\"display: inline;\">Cluster Info</h3></summary>\n",
       "            <div style='background-color: #f2f2f2; display: inline-block; padding: 10px; border: 1px solid #999999;'>\n",
       "  <h3>GatewayCluster</h3>\n",
       "  <ul>\n",
       "    <li><b>Name: </b>daskhub.81ee0c0bae63493790a3629168290d7f\n",
       "    <li><b>Dashboard: </b><a href='/jupyterhub/services/dask-gateway/clusters/daskhub.81ee0c0bae63493790a3629168290d7f/status' target='_blank'>/jupyterhub/services/dask-gateway/clusters/daskhub.81ee0c0bae63493790a3629168290d7f/status</a>\n",
       "  </ul>\n",
       "</div>\n",
       "\n",
       "            </details>\n",
       "        \n",
       "\n",
       "    </div>\n",
       "</div>"
      ],
      "text/plain": [
       "<Client: 'tls://10.244.30.145:8786' processes=0 threads=0, memory=0 B>"
      ]
     },
     "execution_count": 6,
     "metadata": {},
     "output_type": "execute_result"
    }
   ],
   "source": [
    "from distributed import Client\n",
    "\n",
    "if cluster:\n",
    "    client = Client(cluster) # create a dask Gateway cluster\n",
    "else:\n",
    "    client = Client()   # create a local dask cluster on the machine.\n",
    "client"
   ]
  },
  {
   "cell_type": "markdown",
   "id": "c4bbea05-5728-48c5-bd2d-b24039326041",
   "metadata": {
    "tags": []
   },
   "source": [
    "## Open dictionary of OMIP2 simulations\n",
    "With file lists taken from the ESGF Search Catalog with the following search requirements:\n",
    "1. On the native grid\n",
    "2. Have the varaibles:`umo`, `vmo`, `so`, `thetao`, `zos`, `mlotst`, `siconc`, `deptho`, `areacello`\n",
    "3. At monthly time steps\n",
    "4. The last 61 years of the simulation"
   ]
  },
  {
   "cell_type": "code",
   "execution_count": 7,
   "id": "222ff166-7999-4f34-8a7c-3bc78731be8e",
   "metadata": {},
   "outputs": [],
   "source": [
    "# Load in file of model names and fnames\n",
    "model_fnames_dict = np.load(\"models.npy\", allow_pickle=True).item()\n"
   ]
  },
  {
   "cell_type": "markdown",
   "id": "8809ab9a-1f04-4bce-bd93-f6a8d054f4a5",
   "metadata": {
    "tags": []
   },
   "source": [
    "## Function for transforming threads file path to kerchunk'ed json files.\n",
    "\n"
   ]
  },
  {
   "cell_type": "code",
   "execution_count": 54,
   "id": "a01ff815-50a9-4a3f-98e6-3d2cff8e5950",
   "metadata": {},
   "outputs": [],
   "source": [
    "#setting for accessing s3\n",
    "\n",
    "# get storage keys\n",
    "access_key = !aws configure get aws_access_key_id\n",
    "access_key = access_key[0]\n",
    "secret_key = !aws configure get aws_secret_access_key\n",
    "secret_key = secret_key[0]\n",
    "\n",
    "# set storage target\n",
    "client_kwargs = {'endpoint_url': 'https://object-store.cloud.muni.cz'}\n",
    "\n",
    "import dask\n",
    "@dask.delayed\n",
    "def path_to_kerchunk(httppath,modelname,client_kwargs,access_key,secret_key):\n",
    "    import kerchunk.hdf\n",
    "    import fsspec\n",
    "    import json\n",
    "    with fsspec.open(httppath) as inf:\n",
    "        info = kerchunk.hdf.SingleHdf5ToZarr(inf, httppath, inline_threshold=100).translate()\n",
    "    jsonname=httppath.rsplit('/')[-1].rsplit('.nc')[0]+'.json'\n",
    "    path='WAFFLES/kerchunk/'+modelname\n",
    "    path='tmp/kerchunk/'+modelname\n",
    "\n",
    "\n",
    "    #path='tmp/kerchunk/'+modelname\n",
    "    s3_prefix = \"s3://\" + path\n",
    "    jsonfile = f\"{s3_prefix}/{jsonname}\"\n",
    "    print(jsonfile)\n",
    "    target = s3fs.S3FileSystem(anon=False,client_kwargs=client_kwargs,key=access_key,secret=secret_key)\n",
    "    with target.open(jsonfile, mode='w') as f:\n",
    "        json.dump(info,f)\n",
    "    return jsonfile\n",
    "\n"
   ]
  },
  {
   "cell_type": "code",
   "execution_count": 9,
   "id": "824227c6-da66-4553-ac7f-eb6a2567e450",
   "metadata": {},
   "outputs": [
    {
     "name": "stdout",
     "output_type": "stream",
     "text": [
      "368 EC-Earth3\n",
      "44 NorESM2-LM\n",
      "8 MRI-ESM2-0\n",
      "8 CMCC-CM2-SR5\n",
      "107 CNRM-CM6-1\n",
      "8 FGOALS-f3-L\n",
      "28 CMCC-CM2-HR4\n",
      "34 MIROC6\n",
      "8 TaiESM1-TIMCOM2\n",
      "107 CNRM-CM6-1-HR\n",
      "260 ACCESS-OM2-025\n",
      "260 ACCESS-OM2\n",
      "8 TaiESM1-TIMCOM\n"
     ]
    }
   ],
   "source": [
    "for a in model_fnames_dict.keys():\n",
    "    print(len(model_fnames_dict.get(a)),a)"
   ]
  },
  {
   "cell_type": "code",
   "execution_count": 61,
   "id": "fefe4ed7-8646-41f6-856f-7d5c84a14f71",
   "metadata": {
    "tags": []
   },
   "outputs": [
    {
     "name": "stdout",
     "output_type": "stream",
     "text": [
      "FGOALS-f3-L\n",
      "CPU times: user 4 µs, sys: 0 ns, total: 4 µs\n",
      "Wall time: 8.58 µs\n"
     ]
    },
    {
     "ename": "Exception",
     "evalue": "FileNotFoundError('http://esg.lasg.ac.cn/thredds/fileServer/esg_dataroot/CMIP6/OMIP/CAS/FGOALS-f3-L/omip2/r1i1p1f1/Omon/umo/gn/v20191119/umo_Omon_FGOALS-f3-L_omip2_r1i1p1f1_gn_195801-201812.nc')",
     "output_type": "error",
     "traceback": [
      "\u001b[0;31m---------------------------------------------------------------------------\u001b[0m",
      "\u001b[0;31mException\u001b[0m                                 Traceback (most recent call last)",
      "Input \u001b[0;32mIn [61]\u001b[0m, in \u001b[0;36m<cell line: 3>\u001b[0;34m()\u001b[0m\n\u001b[1;32m      7\u001b[0m     jsons\u001b[38;5;241m=\u001b[39m[ path_to_kerchunk(httppath,modelname,client_kwargs,access_key,secret_key) \u001b[38;5;28;01mfor\u001b[39;00m httppath \u001b[38;5;129;01min\u001b[39;00m httppaths]\n\u001b[1;32m      8\u001b[0m     get_ipython()\u001b[38;5;241m.\u001b[39mrun_line_magic(\u001b[38;5;124m'\u001b[39m\u001b[38;5;124mtime\u001b[39m\u001b[38;5;124m'\u001b[39m, \u001b[38;5;124m'\u001b[39m\u001b[38;5;124m'\u001b[39m)\n\u001b[0;32m----> 9\u001b[0m     ok\u001b[38;5;241m=\u001b[39m\u001b[43mdask\u001b[49m\u001b[38;5;241;43m.\u001b[39;49m\u001b[43mcompute\u001b[49m\u001b[43m(\u001b[49m\u001b[38;5;241;43m*\u001b[39;49m\u001b[43mjsons\u001b[49m\u001b[43m)\u001b[49m\n\u001b[1;32m     10\u001b[0m     d[modelname]\u001b[38;5;241m=\u001b[39mok\n\u001b[1;32m     11\u001b[0m d\n",
      "File \u001b[0;32m/srv/conda/envs/notebook/lib/python3.9/site-packages/dask/base.py:598\u001b[0m, in \u001b[0;36mcompute\u001b[0;34m(traverse, optimize_graph, scheduler, get, *args, **kwargs)\u001b[0m\n\u001b[1;32m    595\u001b[0m     keys\u001b[38;5;241m.\u001b[39mappend(x\u001b[38;5;241m.\u001b[39m__dask_keys__())\n\u001b[1;32m    596\u001b[0m     postcomputes\u001b[38;5;241m.\u001b[39mappend(x\u001b[38;5;241m.\u001b[39m__dask_postcompute__())\n\u001b[0;32m--> 598\u001b[0m results \u001b[38;5;241m=\u001b[39m \u001b[43mschedule\u001b[49m\u001b[43m(\u001b[49m\u001b[43mdsk\u001b[49m\u001b[43m,\u001b[49m\u001b[43m \u001b[49m\u001b[43mkeys\u001b[49m\u001b[43m,\u001b[49m\u001b[43m \u001b[49m\u001b[38;5;241;43m*\u001b[39;49m\u001b[38;5;241;43m*\u001b[39;49m\u001b[43mkwargs\u001b[49m\u001b[43m)\u001b[49m\n\u001b[1;32m    599\u001b[0m \u001b[38;5;28;01mreturn\u001b[39;00m repack([f(r, \u001b[38;5;241m*\u001b[39ma) \u001b[38;5;28;01mfor\u001b[39;00m r, (f, a) \u001b[38;5;129;01min\u001b[39;00m \u001b[38;5;28mzip\u001b[39m(results, postcomputes)])\n",
      "File \u001b[0;32m/srv/conda/envs/notebook/lib/python3.9/site-packages/distributed/client.py:3036\u001b[0m, in \u001b[0;36mClient.get\u001b[0;34m(self, dsk, keys, workers, allow_other_workers, resources, sync, asynchronous, direct, retries, priority, fifo_timeout, actors, **kwargs)\u001b[0m\n\u001b[1;32m   3034\u001b[0m         should_rejoin \u001b[38;5;241m=\u001b[39m \u001b[38;5;28;01mFalse\u001b[39;00m\n\u001b[1;32m   3035\u001b[0m \u001b[38;5;28;01mtry\u001b[39;00m:\n\u001b[0;32m-> 3036\u001b[0m     results \u001b[38;5;241m=\u001b[39m \u001b[38;5;28;43mself\u001b[39;49m\u001b[38;5;241;43m.\u001b[39;49m\u001b[43mgather\u001b[49m\u001b[43m(\u001b[49m\u001b[43mpacked\u001b[49m\u001b[43m,\u001b[49m\u001b[43m \u001b[49m\u001b[43masynchronous\u001b[49m\u001b[38;5;241;43m=\u001b[39;49m\u001b[43masynchronous\u001b[49m\u001b[43m,\u001b[49m\u001b[43m \u001b[49m\u001b[43mdirect\u001b[49m\u001b[38;5;241;43m=\u001b[39;49m\u001b[43mdirect\u001b[49m\u001b[43m)\u001b[49m\n\u001b[1;32m   3037\u001b[0m \u001b[38;5;28;01mfinally\u001b[39;00m:\n\u001b[1;32m   3038\u001b[0m     \u001b[38;5;28;01mfor\u001b[39;00m f \u001b[38;5;129;01min\u001b[39;00m futures\u001b[38;5;241m.\u001b[39mvalues():\n",
      "File \u001b[0;32m/srv/conda/envs/notebook/lib/python3.9/site-packages/distributed/client.py:2210\u001b[0m, in \u001b[0;36mClient.gather\u001b[0;34m(self, futures, errors, direct, asynchronous)\u001b[0m\n\u001b[1;32m   2208\u001b[0m \u001b[38;5;28;01melse\u001b[39;00m:\n\u001b[1;32m   2209\u001b[0m     local_worker \u001b[38;5;241m=\u001b[39m \u001b[38;5;28;01mNone\u001b[39;00m\n\u001b[0;32m-> 2210\u001b[0m \u001b[38;5;28;01mreturn\u001b[39;00m \u001b[38;5;28;43mself\u001b[39;49m\u001b[38;5;241;43m.\u001b[39;49m\u001b[43msync\u001b[49m\u001b[43m(\u001b[49m\n\u001b[1;32m   2211\u001b[0m \u001b[43m    \u001b[49m\u001b[38;5;28;43mself\u001b[39;49m\u001b[38;5;241;43m.\u001b[39;49m\u001b[43m_gather\u001b[49m\u001b[43m,\u001b[49m\n\u001b[1;32m   2212\u001b[0m \u001b[43m    \u001b[49m\u001b[43mfutures\u001b[49m\u001b[43m,\u001b[49m\n\u001b[1;32m   2213\u001b[0m \u001b[43m    \u001b[49m\u001b[43merrors\u001b[49m\u001b[38;5;241;43m=\u001b[39;49m\u001b[43merrors\u001b[49m\u001b[43m,\u001b[49m\n\u001b[1;32m   2214\u001b[0m \u001b[43m    \u001b[49m\u001b[43mdirect\u001b[49m\u001b[38;5;241;43m=\u001b[39;49m\u001b[43mdirect\u001b[49m\u001b[43m,\u001b[49m\n\u001b[1;32m   2215\u001b[0m \u001b[43m    \u001b[49m\u001b[43mlocal_worker\u001b[49m\u001b[38;5;241;43m=\u001b[39;49m\u001b[43mlocal_worker\u001b[49m\u001b[43m,\u001b[49m\n\u001b[1;32m   2216\u001b[0m \u001b[43m    \u001b[49m\u001b[43masynchronous\u001b[49m\u001b[38;5;241;43m=\u001b[39;49m\u001b[43masynchronous\u001b[49m\u001b[43m,\u001b[49m\n\u001b[1;32m   2217\u001b[0m \u001b[43m\u001b[49m\u001b[43m)\u001b[49m\n",
      "File \u001b[0;32m/srv/conda/envs/notebook/lib/python3.9/site-packages/distributed/utils.py:338\u001b[0m, in \u001b[0;36mSyncMethodMixin.sync\u001b[0;34m(self, func, asynchronous, callback_timeout, *args, **kwargs)\u001b[0m\n\u001b[1;32m    336\u001b[0m     \u001b[38;5;28;01mreturn\u001b[39;00m future\n\u001b[1;32m    337\u001b[0m \u001b[38;5;28;01melse\u001b[39;00m:\n\u001b[0;32m--> 338\u001b[0m     \u001b[38;5;28;01mreturn\u001b[39;00m \u001b[43msync\u001b[49m\u001b[43m(\u001b[49m\n\u001b[1;32m    339\u001b[0m \u001b[43m        \u001b[49m\u001b[38;5;28;43mself\u001b[39;49m\u001b[38;5;241;43m.\u001b[39;49m\u001b[43mloop\u001b[49m\u001b[43m,\u001b[49m\u001b[43m \u001b[49m\u001b[43mfunc\u001b[49m\u001b[43m,\u001b[49m\u001b[43m \u001b[49m\u001b[38;5;241;43m*\u001b[39;49m\u001b[43margs\u001b[49m\u001b[43m,\u001b[49m\u001b[43m \u001b[49m\u001b[43mcallback_timeout\u001b[49m\u001b[38;5;241;43m=\u001b[39;49m\u001b[43mcallback_timeout\u001b[49m\u001b[43m,\u001b[49m\u001b[43m \u001b[49m\u001b[38;5;241;43m*\u001b[39;49m\u001b[38;5;241;43m*\u001b[39;49m\u001b[43mkwargs\u001b[49m\n\u001b[1;32m    340\u001b[0m \u001b[43m    \u001b[49m\u001b[43m)\u001b[49m\n",
      "File \u001b[0;32m/srv/conda/envs/notebook/lib/python3.9/site-packages/distributed/utils.py:405\u001b[0m, in \u001b[0;36msync\u001b[0;34m(loop, func, callback_timeout, *args, **kwargs)\u001b[0m\n\u001b[1;32m    403\u001b[0m \u001b[38;5;28;01mif\u001b[39;00m error:\n\u001b[1;32m    404\u001b[0m     typ, exc, tb \u001b[38;5;241m=\u001b[39m error\n\u001b[0;32m--> 405\u001b[0m     \u001b[38;5;28;01mraise\u001b[39;00m exc\u001b[38;5;241m.\u001b[39mwith_traceback(tb)\n\u001b[1;32m    406\u001b[0m \u001b[38;5;28;01melse\u001b[39;00m:\n\u001b[1;32m    407\u001b[0m     \u001b[38;5;28;01mreturn\u001b[39;00m result\n",
      "File \u001b[0;32m/srv/conda/envs/notebook/lib/python3.9/site-packages/distributed/utils.py:378\u001b[0m, in \u001b[0;36msync.<locals>.f\u001b[0;34m()\u001b[0m\n\u001b[1;32m    376\u001b[0m         future \u001b[38;5;241m=\u001b[39m asyncio\u001b[38;5;241m.\u001b[39mwait_for(future, callback_timeout)\n\u001b[1;32m    377\u001b[0m     future \u001b[38;5;241m=\u001b[39m asyncio\u001b[38;5;241m.\u001b[39mensure_future(future)\n\u001b[0;32m--> 378\u001b[0m     result \u001b[38;5;241m=\u001b[39m \u001b[38;5;28;01myield\u001b[39;00m future\n\u001b[1;32m    379\u001b[0m \u001b[38;5;28;01mexcept\u001b[39;00m \u001b[38;5;167;01mException\u001b[39;00m:\n\u001b[1;32m    380\u001b[0m     error \u001b[38;5;241m=\u001b[39m sys\u001b[38;5;241m.\u001b[39mexc_info()\n",
      "File \u001b[0;32m/srv/conda/envs/notebook/lib/python3.9/site-packages/tornado/gen.py:762\u001b[0m, in \u001b[0;36mRunner.run\u001b[0;34m(self)\u001b[0m\n\u001b[1;32m    759\u001b[0m exc_info \u001b[38;5;241m=\u001b[39m \u001b[38;5;28;01mNone\u001b[39;00m\n\u001b[1;32m    761\u001b[0m \u001b[38;5;28;01mtry\u001b[39;00m:\n\u001b[0;32m--> 762\u001b[0m     value \u001b[38;5;241m=\u001b[39m \u001b[43mfuture\u001b[49m\u001b[38;5;241;43m.\u001b[39;49m\u001b[43mresult\u001b[49m\u001b[43m(\u001b[49m\u001b[43m)\u001b[49m\n\u001b[1;32m    763\u001b[0m \u001b[38;5;28;01mexcept\u001b[39;00m \u001b[38;5;167;01mException\u001b[39;00m:\n\u001b[1;32m    764\u001b[0m     exc_info \u001b[38;5;241m=\u001b[39m sys\u001b[38;5;241m.\u001b[39mexc_info()\n",
      "File \u001b[0;32m/srv/conda/envs/notebook/lib/python3.9/site-packages/distributed/client.py:2073\u001b[0m, in \u001b[0;36mClient._gather\u001b[0;34m(self, futures, errors, direct, local_worker)\u001b[0m\n\u001b[1;32m   2071\u001b[0m         exc \u001b[38;5;241m=\u001b[39m CancelledError(key)\n\u001b[1;32m   2072\u001b[0m     \u001b[38;5;28;01melse\u001b[39;00m:\n\u001b[0;32m-> 2073\u001b[0m         \u001b[38;5;28;01mraise\u001b[39;00m exception\u001b[38;5;241m.\u001b[39mwith_traceback(traceback)\n\u001b[1;32m   2074\u001b[0m     \u001b[38;5;28;01mraise\u001b[39;00m exc\n\u001b[1;32m   2075\u001b[0m \u001b[38;5;28;01mif\u001b[39;00m errors \u001b[38;5;241m==\u001b[39m \u001b[38;5;124m\"\u001b[39m\u001b[38;5;124mskip\u001b[39m\u001b[38;5;124m\"\u001b[39m:\n",
      "Input \u001b[0;32mIn [54]\u001b[0m, in \u001b[0;36mpath_to_kerchunk\u001b[0;34m()\u001b[0m\n\u001b[1;32m     16\u001b[0m \u001b[38;5;28;01mimport\u001b[39;00m \u001b[38;5;21;01mfsspec\u001b[39;00m\n\u001b[1;32m     17\u001b[0m \u001b[38;5;28;01mimport\u001b[39;00m \u001b[38;5;21;01mjson\u001b[39;00m\n\u001b[0;32m---> 18\u001b[0m \u001b[38;5;28;01mwith\u001b[39;00m fsspec\u001b[38;5;241m.\u001b[39mopen(httppath) \u001b[38;5;28;01mas\u001b[39;00m inf:\n\u001b[1;32m     19\u001b[0m     info \u001b[38;5;241m=\u001b[39m kerchunk\u001b[38;5;241m.\u001b[39mhdf\u001b[38;5;241m.\u001b[39mSingleHdf5ToZarr(inf, httppath, inline_threshold\u001b[38;5;241m=\u001b[39m\u001b[38;5;241m100\u001b[39m)\u001b[38;5;241m.\u001b[39mtranslate()\n\u001b[1;32m     20\u001b[0m jsonname\u001b[38;5;241m=\u001b[39mhttppath\u001b[38;5;241m.\u001b[39mrsplit(\u001b[38;5;124m'\u001b[39m\u001b[38;5;124m/\u001b[39m\u001b[38;5;124m'\u001b[39m)[\u001b[38;5;241m-\u001b[39m\u001b[38;5;241m1\u001b[39m]\u001b[38;5;241m.\u001b[39mrsplit(\u001b[38;5;124m'\u001b[39m\u001b[38;5;124m.nc\u001b[39m\u001b[38;5;124m'\u001b[39m)[\u001b[38;5;241m0\u001b[39m]\u001b[38;5;241m+\u001b[39m\u001b[38;5;124m'\u001b[39m\u001b[38;5;124m.json\u001b[39m\u001b[38;5;124m'\u001b[39m\n",
      "File \u001b[0;32m/srv/conda/envs/notebook/lib/python3.9/site-packages/fsspec/core.py:104\u001b[0m, in \u001b[0;36m__enter__\u001b[0;34m()\u001b[0m\n\u001b[1;32m    101\u001b[0m \u001b[38;5;28;01mdef\u001b[39;00m \u001b[38;5;21m__enter__\u001b[39m(\u001b[38;5;28mself\u001b[39m):\n\u001b[1;32m    102\u001b[0m     mode \u001b[38;5;241m=\u001b[39m \u001b[38;5;28mself\u001b[39m\u001b[38;5;241m.\u001b[39mmode\u001b[38;5;241m.\u001b[39mreplace(\u001b[38;5;124m\"\u001b[39m\u001b[38;5;124mt\u001b[39m\u001b[38;5;124m\"\u001b[39m, \u001b[38;5;124m\"\u001b[39m\u001b[38;5;124m\"\u001b[39m)\u001b[38;5;241m.\u001b[39mreplace(\u001b[38;5;124m\"\u001b[39m\u001b[38;5;124mb\u001b[39m\u001b[38;5;124m\"\u001b[39m, \u001b[38;5;124m\"\u001b[39m\u001b[38;5;124m\"\u001b[39m) \u001b[38;5;241m+\u001b[39m \u001b[38;5;124m\"\u001b[39m\u001b[38;5;124mb\u001b[39m\u001b[38;5;124m\"\u001b[39m\n\u001b[0;32m--> 104\u001b[0m     f \u001b[38;5;241m=\u001b[39m \u001b[38;5;28mself\u001b[39m\u001b[38;5;241m.\u001b[39mfs\u001b[38;5;241m.\u001b[39mopen(\u001b[38;5;28mself\u001b[39m\u001b[38;5;241m.\u001b[39mpath, mode\u001b[38;5;241m=\u001b[39mmode)\n\u001b[1;32m    106\u001b[0m     \u001b[38;5;28mself\u001b[39m\u001b[38;5;241m.\u001b[39mfobjects \u001b[38;5;241m=\u001b[39m [f]\n\u001b[1;32m    108\u001b[0m     \u001b[38;5;28;01mif\u001b[39;00m \u001b[38;5;28mself\u001b[39m\u001b[38;5;241m.\u001b[39mcompression \u001b[38;5;129;01mis\u001b[39;00m \u001b[38;5;129;01mnot\u001b[39;00m \u001b[38;5;28;01mNone\u001b[39;00m:\n",
      "File \u001b[0;32m/srv/conda/envs/notebook/lib/python3.9/site-packages/fsspec/spec.py:1034\u001b[0m, in \u001b[0;36mopen\u001b[0;34m()\u001b[0m\n\u001b[1;32m   1032\u001b[0m \u001b[38;5;28;01melse\u001b[39;00m:\n\u001b[1;32m   1033\u001b[0m     ac \u001b[38;5;241m=\u001b[39m kwargs\u001b[38;5;241m.\u001b[39mpop(\u001b[38;5;124m\"\u001b[39m\u001b[38;5;124mautocommit\u001b[39m\u001b[38;5;124m\"\u001b[39m, \u001b[38;5;129;01mnot\u001b[39;00m \u001b[38;5;28mself\u001b[39m\u001b[38;5;241m.\u001b[39m_intrans)\n\u001b[0;32m-> 1034\u001b[0m     f \u001b[38;5;241m=\u001b[39m \u001b[38;5;28mself\u001b[39m\u001b[38;5;241m.\u001b[39m_open(\n\u001b[1;32m   1035\u001b[0m         path,\n\u001b[1;32m   1036\u001b[0m         mode\u001b[38;5;241m=\u001b[39mmode,\n\u001b[1;32m   1037\u001b[0m         block_size\u001b[38;5;241m=\u001b[39mblock_size,\n\u001b[1;32m   1038\u001b[0m         autocommit\u001b[38;5;241m=\u001b[39mac,\n\u001b[1;32m   1039\u001b[0m         cache_options\u001b[38;5;241m=\u001b[39mcache_options,\n\u001b[1;32m   1040\u001b[0m         \u001b[38;5;241m*\u001b[39m\u001b[38;5;241m*\u001b[39mkwargs,\n\u001b[1;32m   1041\u001b[0m     )\n\u001b[1;32m   1042\u001b[0m     \u001b[38;5;28;01mif\u001b[39;00m compression \u001b[38;5;129;01mis\u001b[39;00m \u001b[38;5;129;01mnot\u001b[39;00m \u001b[38;5;28;01mNone\u001b[39;00m:\n\u001b[1;32m   1043\u001b[0m         \u001b[38;5;28;01mfrom\u001b[39;00m \u001b[38;5;21;01mfsspec\u001b[39;00m\u001b[38;5;21;01m.\u001b[39;00m\u001b[38;5;21;01mcompression\u001b[39;00m \u001b[38;5;28;01mimport\u001b[39;00m compr\n",
      "File \u001b[0;32m/srv/conda/envs/notebook/lib/python3.9/site-packages/fsspec/implementations/http.py:340\u001b[0m, in \u001b[0;36m_open\u001b[0;34m()\u001b[0m\n\u001b[1;32m    338\u001b[0m kw[\u001b[38;5;124m\"\u001b[39m\u001b[38;5;124masynchronous\u001b[39m\u001b[38;5;124m\"\u001b[39m] \u001b[38;5;241m=\u001b[39m \u001b[38;5;28mself\u001b[39m\u001b[38;5;241m.\u001b[39masynchronous\n\u001b[1;32m    339\u001b[0m kw\u001b[38;5;241m.\u001b[39mupdate(kwargs)\n\u001b[0;32m--> 340\u001b[0m size \u001b[38;5;241m=\u001b[39m size \u001b[38;5;129;01mor\u001b[39;00m \u001b[38;5;28mself\u001b[39m\u001b[38;5;241m.\u001b[39minfo(path, \u001b[38;5;241m*\u001b[39m\u001b[38;5;241m*\u001b[39mkwargs)[\u001b[38;5;124m\"\u001b[39m\u001b[38;5;124msize\u001b[39m\u001b[38;5;124m\"\u001b[39m]\n\u001b[1;32m    341\u001b[0m session \u001b[38;5;241m=\u001b[39m sync(\u001b[38;5;28mself\u001b[39m\u001b[38;5;241m.\u001b[39mloop, \u001b[38;5;28mself\u001b[39m\u001b[38;5;241m.\u001b[39mset_session)\n\u001b[1;32m    342\u001b[0m \u001b[38;5;28;01mif\u001b[39;00m block_size \u001b[38;5;129;01mand\u001b[39;00m size:\n",
      "File \u001b[0;32m/srv/conda/envs/notebook/lib/python3.9/site-packages/fsspec/asyn.py:111\u001b[0m, in \u001b[0;36mwrapper\u001b[0;34m()\u001b[0m\n\u001b[1;32m    108\u001b[0m \u001b[38;5;129m@functools\u001b[39m\u001b[38;5;241m.\u001b[39mwraps(func)\n\u001b[1;32m    109\u001b[0m \u001b[38;5;28;01mdef\u001b[39;00m \u001b[38;5;21mwrapper\u001b[39m(\u001b[38;5;241m*\u001b[39margs, \u001b[38;5;241m*\u001b[39m\u001b[38;5;241m*\u001b[39mkwargs):\n\u001b[1;32m    110\u001b[0m     \u001b[38;5;28mself\u001b[39m \u001b[38;5;241m=\u001b[39m obj \u001b[38;5;129;01mor\u001b[39;00m args[\u001b[38;5;241m0\u001b[39m]\n\u001b[0;32m--> 111\u001b[0m     \u001b[38;5;28;01mreturn\u001b[39;00m sync(\u001b[38;5;28mself\u001b[39m\u001b[38;5;241m.\u001b[39mloop, func, \u001b[38;5;241m*\u001b[39margs, \u001b[38;5;241m*\u001b[39m\u001b[38;5;241m*\u001b[39mkwargs)\n",
      "File \u001b[0;32m/srv/conda/envs/notebook/lib/python3.9/site-packages/fsspec/asyn.py:96\u001b[0m, in \u001b[0;36msync\u001b[0;34m()\u001b[0m\n\u001b[1;32m     94\u001b[0m     \u001b[38;5;28;01mraise\u001b[39;00m FSTimeoutError \u001b[38;5;28;01mfrom\u001b[39;00m \u001b[38;5;21;01mreturn_result\u001b[39;00m\n\u001b[1;32m     95\u001b[0m \u001b[38;5;28;01melif\u001b[39;00m \u001b[38;5;28misinstance\u001b[39m(return_result, \u001b[38;5;167;01mBaseException\u001b[39;00m):\n\u001b[0;32m---> 96\u001b[0m     \u001b[38;5;28;01mraise\u001b[39;00m return_result\n\u001b[1;32m     97\u001b[0m \u001b[38;5;28;01melse\u001b[39;00m:\n\u001b[1;32m     98\u001b[0m     \u001b[38;5;28;01mreturn\u001b[39;00m return_result\n",
      "File \u001b[0;32m/srv/conda/envs/notebook/lib/python3.9/site-packages/fsspec/asyn.py:53\u001b[0m, in \u001b[0;36m_runner\u001b[0;34m()\u001b[0m\n\u001b[1;32m     51\u001b[0m     coro \u001b[38;5;241m=\u001b[39m asyncio\u001b[38;5;241m.\u001b[39mwait_for(coro, timeout\u001b[38;5;241m=\u001b[39mtimeout)\n\u001b[1;32m     52\u001b[0m \u001b[38;5;28;01mtry\u001b[39;00m:\n\u001b[0;32m---> 53\u001b[0m     result[\u001b[38;5;241m0\u001b[39m] \u001b[38;5;241m=\u001b[39m \u001b[38;5;28;01mawait\u001b[39;00m coro\n\u001b[1;32m     54\u001b[0m \u001b[38;5;28;01mexcept\u001b[39;00m \u001b[38;5;167;01mException\u001b[39;00m \u001b[38;5;28;01mas\u001b[39;00m ex:\n\u001b[1;32m     55\u001b[0m     result[\u001b[38;5;241m0\u001b[39m] \u001b[38;5;241m=\u001b[39m ex\n",
      "File \u001b[0;32m/srv/conda/envs/notebook/lib/python3.9/site-packages/fsspec/implementations/http.py:404\u001b[0m, in \u001b[0;36m_info\u001b[0;34m()\u001b[0m\n\u001b[1;32m    401\u001b[0m     \u001b[38;5;28;01mexcept\u001b[39;00m \u001b[38;5;167;01mException\u001b[39;00m \u001b[38;5;28;01mas\u001b[39;00m exc:\n\u001b[1;32m    402\u001b[0m         \u001b[38;5;28;01mif\u001b[39;00m policy \u001b[38;5;241m==\u001b[39m \u001b[38;5;124m\"\u001b[39m\u001b[38;5;124mget\u001b[39m\u001b[38;5;124m\"\u001b[39m:\n\u001b[1;32m    403\u001b[0m             \u001b[38;5;66;03m# If get failed, then raise a FileNotFoundError\u001b[39;00m\n\u001b[0;32m--> 404\u001b[0m             \u001b[38;5;28;01mraise\u001b[39;00m \u001b[38;5;167;01mFileNotFoundError\u001b[39;00m(url) \u001b[38;5;28;01mfrom\u001b[39;00m \u001b[38;5;21;01mexc\u001b[39;00m\n\u001b[1;32m    405\u001b[0m         logger\u001b[38;5;241m.\u001b[39mdebug(\u001b[38;5;28mstr\u001b[39m(exc))\n\u001b[1;32m    407\u001b[0m \u001b[38;5;28;01mreturn\u001b[39;00m {\u001b[38;5;124m\"\u001b[39m\u001b[38;5;124mname\u001b[39m\u001b[38;5;124m\"\u001b[39m: url, \u001b[38;5;124m\"\u001b[39m\u001b[38;5;124msize\u001b[39m\u001b[38;5;124m\"\u001b[39m: \u001b[38;5;28;01mNone\u001b[39;00m, \u001b[38;5;241m*\u001b[39m\u001b[38;5;241m*\u001b[39minfo, \u001b[38;5;124m\"\u001b[39m\u001b[38;5;124mtype\u001b[39m\u001b[38;5;124m\"\u001b[39m: \u001b[38;5;124m\"\u001b[39m\u001b[38;5;124mfile\u001b[39m\u001b[38;5;124m\"\u001b[39m}\n",
      "\u001b[0;31mException\u001b[0m: FileNotFoundError('http://esg.lasg.ac.cn/thredds/fileServer/esg_dataroot/CMIP6/OMIP/CAS/FGOALS-f3-L/omip2/r1i1p1f1/Omon/umo/gn/v20191119/umo_Omon_FGOALS-f3-L_omip2_r1i1p1f1_gn_195801-201812.nc')"
     ]
    },
    {
     "name": "stderr",
     "output_type": "stream",
     "text": [
      "2022-11-14 17:27:42,152 - distributed.client - ERROR - Exception raised while shutting down cluster daskhub.81ee0c0bae63493790a3629168290d7f\n",
      "Traceback (most recent call last):\n",
      "  File \"/srv/conda/envs/notebook/lib/python3.9/site-packages/dask_gateway/client.py\", line 993, in _stop_internal\n",
      "    await self.gateway._stop_cluster(self.name)\n",
      "  File \"/srv/conda/envs/notebook/lib/python3.9/site-packages/dask_gateway/client.py\", line 654, in _stop_cluster\n",
      "    await self._request(\"DELETE\", url)\n",
      "  File \"/srv/conda/envs/notebook/lib/python3.9/site-packages/dask_gateway/client.py\", line 397, in _request\n",
      "    resp = await session.request(method, url, json=json, **self._request_kwargs)\n",
      "  File \"/srv/conda/envs/notebook/lib/python3.9/site-packages/aiohttp/client.py\", line 535, in _request\n",
      "    conn = await self._connector.connect(\n",
      "  File \"/srv/conda/envs/notebook/lib/python3.9/site-packages/aiohttp/connector.py\", line 542, in connect\n",
      "    proto = await self._create_connection(req, traces, timeout)\n",
      "  File \"/srv/conda/envs/notebook/lib/python3.9/site-packages/aiohttp/connector.py\", line 907, in _create_connection\n",
      "    _, proto = await self._create_direct_connection(req, traces, timeout)\n",
      "  File \"/srv/conda/envs/notebook/lib/python3.9/site-packages/aiohttp/connector.py\", line 1154, in _create_direct_connection\n",
      "    hosts = await asyncio.shield(host_resolved)\n",
      "  File \"/srv/conda/envs/notebook/lib/python3.9/site-packages/aiohttp/connector.py\", line 880, in _resolve_host\n",
      "    addrs = await self._resolver.resolve(host, port, family=self._family)\n",
      "  File \"/srv/conda/envs/notebook/lib/python3.9/site-packages/aiohttp/resolver.py\", line 33, in resolve\n",
      "    infos = await self._loop.getaddrinfo(\n",
      "  File \"/srv/conda/envs/notebook/lib/python3.9/asyncio/base_events.py\", line 861, in getaddrinfo\n",
      "    return await self.run_in_executor(\n",
      "  File \"/srv/conda/envs/notebook/lib/python3.9/asyncio/base_events.py\", line 819, in run_in_executor\n",
      "    executor.submit(func, *args), loop=self)\n",
      "  File \"/srv/conda/envs/notebook/lib/python3.9/concurrent/futures/thread.py\", line 167, in submit\n",
      "    raise RuntimeError('cannot schedule new futures after shutdown')\n",
      "RuntimeError: cannot schedule new futures after shutdown\n"
     ]
    }
   ],
   "source": [
    "modelnames=[a for a in model_fnames_dict.keys()]\n",
    "d={}\n",
    "for modelname in [modelnames[5]]:\n",
    "    print(modelname)\n",
    "    fpaths=model_fnames_dict.get(modelname)\n",
    "    httppaths=[fpath.replace('dodsC', 'fileServer') for fpath in fpaths]\n",
    "    jsons=[ path_to_kerchunk(httppath,modelname,client_kwargs,access_key,secret_key) for httppath in httppaths]\n",
    "    %time\n",
    "    ok=dask.compute(*jsons)\n",
    "    d[modelname]=ok\n",
    "d\n",
    "\n"
   ]
  },
  {
   "cell_type": "code",
   "execution_count": 56,
   "id": "3b704071-e95a-43a2-8217-fa20ea53e889",
   "metadata": {
    "tags": []
   },
   "outputs": [
    {
     "data": {
      "text/plain": [
       "8"
      ]
     },
     "execution_count": 56,
     "metadata": {},
     "output_type": "execute_result"
    }
   ],
   "source": [
    "len(d[modelname])"
   ]
  },
  {
   "cell_type": "code",
   "execution_count": 57,
   "id": "a6777d1d-8624-42a8-ac27-0c7b8f48c092",
   "metadata": {},
   "outputs": [
    {
     "data": {
      "text/plain": [
       "{'TaiESM1-TIMCOM': ('s3://tmp/kerchunk/TaiESM1-TIMCOM/areacello_Ofx_TaiESM1-TIMCOM_omip1_r1i1p1f1_gn.json',\n",
       "  's3://tmp/kerchunk/TaiESM1-TIMCOM/deptho_Ofx_TaiESM1-TIMCOM_omip1_r1i1p1f1_gn.json',\n",
       "  's3://tmp/kerchunk/TaiESM1-TIMCOM/vmo_Omon_TaiESM1-TIMCOM2_omip2_r1i1p1f1_gn_030601-036612.json',\n",
       "  's3://tmp/kerchunk/TaiESM1-TIMCOM/thetao_Omon_TaiESM1-TIMCOM2_omip2_r1i1p1f1_gn_030601-036612.json',\n",
       "  's3://tmp/kerchunk/TaiESM1-TIMCOM/so_Omon_TaiESM1-TIMCOM2_omip2_r1i1p1f1_gn_030601-036612.json',\n",
       "  's3://tmp/kerchunk/TaiESM1-TIMCOM/umo_Omon_TaiESM1-TIMCOM2_omip2_r1i1p1f1_gn_030601-036612.json',\n",
       "  's3://tmp/kerchunk/TaiESM1-TIMCOM/mlotst_Omon_TaiESM1-TIMCOM2_omip2_r1i1p1f1_gn_030601-036612.json',\n",
       "  's3://tmp/kerchunk/TaiESM1-TIMCOM/zos_Omon_TaiESM1-TIMCOM2_omip2_r1i1p1f1_gn_030601-036612.json')}"
      ]
     },
     "execution_count": 57,
     "metadata": {},
     "output_type": "execute_result"
    }
   ],
   "source": [
    "d"
   ]
  },
  {
   "cell_type": "markdown",
   "id": "7bb4bc98-a655-4562-abe9-ac5d4637c514",
   "metadata": {},
   "source": [
    "# wget of file does not work on\n",
    "MRI-ESM2-0(8), FGOALS-f3-L(8), MIROC6(34), "
   ]
  },
  {
   "cell_type": "code",
   "execution_count": 20,
   "id": "633c8131-a753-4387-bb51-1bb09d6dbee1",
   "metadata": {},
   "outputs": [
    {
     "name": "stdout",
     "output_type": "stream",
     "text": [
      "--2022-11-14 14:39:01--  http://esgf-data2.diasjp.net/thredds/fileServer/esg_dataroot/CMIP6/OMIP/MRI/MRI-ESM2-0/omip2/r1i1p1f1/Omon/umo/gn/v20200406/umo_Omon_MRI-ESM2-0_omip2_r1i1p1f1_gn_195801-201812.nc\n",
      "Resolving esgf-data2.diasjp.net (esgf-data2.diasjp.net)... 157.1.137.37\n",
      "Connecting to esgf-data2.diasjp.net (esgf-data2.diasjp.net)|157.1.137.37|:80... connected.\n",
      "HTTP request sent, awaiting response... 503 Service Temporarily Unavailable\n",
      "2022-11-14 14:39:01 ERROR 503: Service Temporarily Unavailable.\n",
      "\n"
     ]
    }
   ],
   "source": [
    "!wget http://esgf-data2.diasjp.net/thredds/fileServer/esg_dataroot/CMIP6/OMIP/MRI/MRI-ESM2-0/omip2/r1i1p1f1/Omon/umo/gn/v20200406/umo_Omon_MRI-ESM2-0_omip2_r1i1p1f1_gn_195801-201812.nc"
   ]
  },
  {
   "cell_type": "code",
   "execution_count": 25,
   "id": "ef891ed9-e184-4904-bb17-00930ada8069",
   "metadata": {},
   "outputs": [
    {
     "name": "stdout",
     "output_type": "stream",
     "text": [
      "--2022-11-14 14:59:23--  http://esg.lasg.ac.cn/thredds/fileServer/esg_dataroot/CMIP6/OMIP/CAS/FGOALS-f3-L/omip2/r1i1p1f1/Omon/mlotst/gn/v20191104/mlotst_Omon_FGOALS-f3-L_omip2_r1i1p1f1_gn_165301-201812.nc\n",
      "Resolving esg.lasg.ac.cn (esg.lasg.ac.cn)... 210.75.240.163\n",
      "Connecting to esg.lasg.ac.cn (esg.lasg.ac.cn)|210.75.240.163|:80... connected.\n",
      "HTTP request sent, awaiting response... 503 Service Unavailable\n",
      "2022-11-14 14:59:24 ERROR 503: Service Unavailable.\n",
      "\n"
     ]
    }
   ],
   "source": [
    "!wget http://esg.lasg.ac.cn/thredds/fileServer/esg_dataroot/CMIP6/OMIP/CAS/FGOALS-f3-L/omip2/r1i1p1f1/Omon/mlotst/gn/v20191104/mlotst_Omon_FGOALS-f3-L_omip2_r1i1p1f1_gn_165301-201812.nc"
   ]
  },
  {
   "cell_type": "code",
   "execution_count": 35,
   "id": "ec51c8b3-dc76-490f-aa4a-18204ca13d7e",
   "metadata": {},
   "outputs": [
    {
     "name": "stdout",
     "output_type": "stream",
     "text": [
      "--2022-11-14 16:23:41--  http://esgf-data2.diasjp.net/thredds/fileServer/esg_dataroot/CMIP6/OMIP/MIROC/MIROC6/omip2/r2i1p1f1/Omon/so/gn/v20200612/so_Omon_MIROC6_omip2_r2i1p1f1_gn_196801-197712.nc\n",
      "Resolving esgf-data2.diasjp.net (esgf-data2.diasjp.net)... 157.1.137.37\n",
      "Connecting to esgf-data2.diasjp.net (esgf-data2.diasjp.net)|157.1.137.37|:80... connected.\n",
      "HTTP request sent, awaiting response... 503 Service Temporarily Unavailable\n",
      "2022-11-14 16:23:42 ERROR 503: Service Temporarily Unavailable.\n",
      "\n"
     ]
    }
   ],
   "source": [
    "!wget http://esgf-data2.diasjp.net/thredds/fileServer/esg_dataroot/CMIP6/OMIP/MIROC/MIROC6/omip2/r2i1p1f1/Omon/so/gn/v20200612/so_Omon_MIROC6_omip2_r2i1p1f1_gn_196801-197712.nc"
   ]
  },
  {
   "cell_type": "markdown",
   "id": "41e9f18d-10ab-4835-8670-dbb796119b5b",
   "metadata": {},
   "source": [
    "### List the transformed kerchunk files"
   ]
  },
  {
   "cell_type": "code",
   "execution_count": 59,
   "id": "b36e5876-7dae-418d-86c5-1c282741953e",
   "metadata": {
    "tags": []
   },
   "outputs": [
    {
     "name": "stdout",
     "output_type": "stream",
     "text": [
      "WAFFLES/kerchunk/ACCESS-OM2\n",
      "WAFFLES/kerchunk/ACCESS-OM2-025\n",
      "WAFFLES/kerchunk/CMCC-CM2-HR4\n",
      "WAFFLES/kerchunk/CMCC-CM2-SR5\n",
      "WAFFLES/kerchunk/CNRM-CM6-1\n",
      "WAFFLES/kerchunk/CNRM-CM6-1-HR\n",
      "WAFFLES/kerchunk/EC-Earth3\n",
      "WAFFLES/kerchunk/MIROC6\n",
      "WAFFLES/kerchunk/NorESM2-LM\n",
      "WAFFLES/kerchunk/TaiESM1-TIMCOM\n",
      "WAFFLES/kerchunk/TaiESM1-TIMCOM2\n",
      "EC-Earth3 368 transformed done 368\n",
      "NorESM2-LM 44 transformed done 44\n",
      "MRI-ESM2-0 8 transformed done None\n",
      "CMCC-CM2-SR5 8 transformed done 8\n",
      "CNRM-CM6-1 107 transformed done 107\n",
      "FGOALS-f3-L 8 transformed done None\n",
      "CMCC-CM2-HR4 28 transformed done 28\n",
      "MIROC6 34 transformed done 1\n",
      "TaiESM1-TIMCOM2 8 transformed done 8\n",
      "CNRM-CM6-1-HR 107 transformed done 107\n",
      "ACCESS-OM2-025 260 transformed done 260\n",
      "ACCESS-OM2 260 transformed done 260\n",
      "TaiESM1-TIMCOM 8 transformed done 8\n"
     ]
    }
   ],
   "source": [
    "#setting for accessing s3\n",
    "\n",
    "# get storage keys\n",
    "access_key = !aws configure get aws_access_key_id\n",
    "access_key = access_key[0]\n",
    "secret_key = !aws configure get aws_secret_access_key\n",
    "secret_key = secret_key[0]\n",
    "\n",
    "# set storage target\n",
    "client_kwargs = {'endpoint_url': 'https://object-store.cloud.muni.cz'}\n",
    "\n",
    "def dict_kerchunk(client_kwargs,access_key,secret_key):\n",
    "    import kerchunk.hdf\n",
    "    import fsspec\n",
    "\n",
    "    path='WAFFLES/kerchunk/'\n",
    "    #path='tmp/kerchunk/'\n",
    "\n",
    "\n",
    "    target = s3fs.S3FileSystem(anon=False,client_kwargs=client_kwargs,key=access_key,secret=secret_key)\n",
    "    modelnames=target.ls(path)\n",
    "    modelnames=[name.rsplit('/')[-1] for name in modelnames]\n",
    "    d={}\n",
    "    for name in modelnames :\n",
    "        d[name]=target.ls(path+name)\n",
    "        d[name]=['s3://'+n for n in d[name]]\n",
    "        print(path+name)\n",
    "    return d\n",
    "d=dict_kerchunk(client_kwargs,access_key,secret_key)\n",
    "\n",
    "\n",
    "for a in model_fnames_dict.keys():\n",
    "    computed=len(d.get(a)) if (a in d) else 'None'\n",
    "    print(a, len(model_fnames_dict.get(a)), 'transformed done' ,computed)"
   ]
  },
  {
   "cell_type": "code",
   "execution_count": null,
   "id": "683c8854-e440-49f1-afe4-dd3248bde390",
   "metadata": {},
   "outputs": [],
   "source": []
  }
 ],
 "metadata": {
  "kernelspec": {
   "display_name": "Python [conda env:notebook] *",
   "language": "python",
   "name": "conda-env-notebook-py"
  },
  "language_info": {
   "codemirror_mode": {
    "name": "ipython",
    "version": 3
   },
   "file_extension": ".py",
   "mimetype": "text/x-python",
   "name": "python",
   "nbconvert_exporter": "python",
   "pygments_lexer": "ipython3",
   "version": "3.9.13"
  }
 },
 "nbformat": 4,
 "nbformat_minor": 5
}
