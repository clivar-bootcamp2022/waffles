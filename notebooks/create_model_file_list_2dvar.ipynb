{
 "cells": [
  {
   "cell_type": "code",
   "execution_count": 2,
   "id": "9a515688-b20b-4cbc-b248-7d6482e3facd",
   "metadata": {},
   "outputs": [],
   "source": [
    "from matplotlib import pyplot as plt\n",
    "import xmip\n",
    "import numpy as np\n",
    "import pandas as pd\n",
    "import xarray as xr\n",
    "import cftime\n",
    "import cmaps\n",
    "import cartopy.crs as ccrs\n",
    "import matplotlib.path as mpath\n",
    "\n",
    "from util import *\n",
    "\n",
    "xr.set_options(display_style='html')\n",
    "%matplotlib inline\n",
    "%config InlineBackend.figure_format = 'retina' "
   ]
  },
  {
   "cell_type": "code",
   "execution_count": null,
   "id": "ae44af9b-c4c6-421b-8793-d8110ab8c6b7",
   "metadata": {},
   "outputs": [],
   "source": []
  },
  {
   "cell_type": "code",
   "execution_count": 19,
   "id": "6d6b1c54-7b73-4f4d-85e0-f9258c9960ff",
   "metadata": {},
   "outputs": [
    {
     "name": "stdout",
     "output_type": "stream",
     "text": [
      "https://esgf-node.llnl.gov/esg-search/search/?activity_id=OMIP&variable_id=areacello&experiment_id=omip2&frequency=mon&grid_label=gn&project=CMIP6&type=File&distrib=false&format=application%2Fsolr%2Bjson&offset=0\n"
     ]
    }
   ],
   "source": [
    "vari_2d = 'areacello' #['vmo','thetao','so','umo','siconc','zos','mlotst']\n",
    "\n",
    "result = []\n",
    "for var in variables:\n",
    "    result.append(esgf_search(activity_id='OMIP', variable_id=var,\n",
    "                              experiment_id='omip2',frequency='mon',grid_label='gn'))"
   ]
  },
  {
   "cell_type": "code",
   "execution_count": 24,
   "id": "baec155c-62c3-44e3-b5e7-1865ae333984",
   "metadata": {},
   "outputs": [
    {
     "name": "stdout",
     "output_type": "stream",
     "text": [
      "https://esgf-node.llnl.gov/esg-search/search/?variable_id=areacello&grid_label=gn&model=CMCC-CM2-SR5&project=CMIP6&type=File&distrib=false&format=application%2Fsolr%2Bjson&offset=0\n",
      "https://esgf-node.llnl.gov/esg-search/search/?variable_id=areacello&grid_label=gn&model=NorESM2-LM&project=CMIP6&type=File&distrib=false&format=application%2Fsolr%2Bjson&offset=0\n",
      "https://esgf-node.llnl.gov/esg-search/search/?variable_id=areacello&grid_label=gn&model=MRI-ESM2-0&project=CMIP6&type=File&distrib=false&format=application%2Fsolr%2Bjson&offset=0\n",
      "https://esgf-node.llnl.gov/esg-search/search/?variable_id=areacello&grid_label=gn&model=CNRM-CM6-1&project=CMIP6&type=File&distrib=false&format=application%2Fsolr%2Bjson&offset=0\n",
      "https://esgf-node.llnl.gov/esg-search/search/?variable_id=areacello&grid_label=gn&model=FGOALS-f3-L&project=CMIP6&type=File&distrib=false&format=application%2Fsolr%2Bjson&offset=0\n",
      "https://esgf-node.llnl.gov/esg-search/search/?variable_id=areacello&grid_label=gn&model=CNRM-CM6-1-HR&project=CMIP6&type=File&distrib=false&format=application%2Fsolr%2Bjson&offset=0\n",
      "https://esgf-node.llnl.gov/esg-search/search/?variable_id=areacello&grid_label=gn&model=TaiESM1-TIMCOM&project=CMIP6&type=File&distrib=false&format=application%2Fsolr%2Bjson&offset=0\n",
      "https://esgf-node.llnl.gov/esg-search/search/?variable_id=areacello&grid_label=gn&model=CMCC-CM2-HR4&project=CMIP6&type=File&distrib=false&format=application%2Fsolr%2Bjson&offset=0\n",
      "https://esgf-node.llnl.gov/esg-search/search/?variable_id=areacello&grid_label=gn&model=TaiESM1-TIMCOM2&project=CMIP6&type=File&distrib=false&format=application%2Fsolr%2Bjson&offset=0\n",
      "https://esgf-node.llnl.gov/esg-search/search/?variable_id=areacello&grid_label=gn&model=ACCESS-OM2&project=CMIP6&type=File&distrib=false&format=application%2Fsolr%2Bjson&offset=0\n",
      "https://esgf-node.llnl.gov/esg-search/search/?variable_id=areacello&grid_label=gn&model=EC-Earth3&project=CMIP6&type=File&distrib=false&format=application%2Fsolr%2Bjson&offset=0\n",
      "https://esgf-node.llnl.gov/esg-search/search/?variable_id=areacello&grid_label=gn&model=ACCESS-OM2-025&project=CMIP6&type=File&distrib=false&format=application%2Fsolr%2Bjson&offset=0\n",
      "https://esgf-node.llnl.gov/esg-search/search/?variable_id=areacello&grid_label=gn&model=MIROC6&project=CMIP6&type=File&distrib=false&format=application%2Fsolr%2Bjson&offset=0\n"
     ]
    },
    {
     "data": {
      "text/plain": [
       "{'CMCC-CM2-SR5': [],\n",
       " 'NorESM2-LM': [],\n",
       " 'MRI-ESM2-0': [],\n",
       " 'CNRM-CM6-1': [],\n",
       " 'FGOALS-f3-L': [],\n",
       " 'CNRM-CM6-1-HR': [],\n",
       " 'TaiESM1-TIMCOM': [],\n",
       " 'CMCC-CM2-HR4': [],\n",
       " 'TaiESM1-TIMCOM2': [],\n",
       " 'ACCESS-OM2': [],\n",
       " 'EC-Earth3': [],\n",
       " 'ACCESS-OM2-025': [],\n",
       " 'MIROC6': []}"
      ]
     },
     "execution_count": 24,
     "metadata": {},
     "output_type": "execute_result"
    }
   ],
   "source": [
    "\n",
    "model_fnames_2d_dict = {}\n",
    "\n",
    "if \"model_fnames_dict\" in locals() : \n",
    "    pass\n",
    "else : \n",
    "    ## Load in file of model names and fnames\n",
    "    model_fnames_dict = np.load(\"../models.npy\", allow_pickle=True).item()\n",
    "\n",
    "for model in model_fnames_dict : \n",
    "    model_fnames_2d_dict[model] = esgf_search(variable_id=vari_2d, grid_label='gn', model=model)\n",
    "\n",
    "model_fnames_2d_dict"
   ]
  },
  {
   "cell_type": "code",
   "execution_count": 23,
   "id": "1e53bb50-9ad7-418c-af8b-307df2d40387",
   "metadata": {},
   "outputs": [
    {
     "name": "stdout",
     "output_type": "stream",
     "text": [
      "https://esgf-node.llnl.gov/esg-search/search/?variable_id=areacello&grid_label=gn&model=MIROC6&project=CMIP6&type=File&distrib=false&format=application%2Fsolr%2Bjson&offset=0\n"
     ]
    },
    {
     "data": {
      "text/plain": [
       "('MIROC6', [])"
      ]
     },
     "execution_count": 23,
     "metadata": {},
     "output_type": "execute_result"
    }
   ],
   "source": [
    "model, esgf_search(variable_id=vari_2d, grid_label='gn', model=model)\n"
   ]
  }
 ],
 "metadata": {
  "kernelspec": {
   "display_name": "Python 3 (ipykernel)",
   "language": "python",
   "name": "python3"
  },
  "language_info": {
   "codemirror_mode": {
    "name": "ipython",
    "version": 3
   },
   "file_extension": ".py",
   "mimetype": "text/x-python",
   "name": "python",
   "nbconvert_exporter": "python",
   "pygments_lexer": "ipython3",
   "version": "3.9.13"
  }
 },
 "nbformat": 4,
 "nbformat_minor": 5
}
