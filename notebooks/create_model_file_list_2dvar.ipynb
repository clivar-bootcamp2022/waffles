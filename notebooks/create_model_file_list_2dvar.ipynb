{
 "cells": [
  {
   "cell_type": "code",
   "execution_count": 25,
   "id": "9a515688-b20b-4cbc-b248-7d6482e3facd",
   "metadata": {},
   "outputs": [],
   "source": [
    "from matplotlib import pyplot as plt\n",
    "import xmip\n",
    "import numpy as np\n",
    "import pandas as pd\n",
    "import xarray as xr\n",
    "import cftime\n",
    "import cmaps\n",
    "import cartopy.crs as ccrs\n",
    "import matplotlib.path as mpath\n",
    "\n",
    "from util import *\n",
    "\n",
    "xr.set_options(display_style='html')\n",
    "%matplotlib inline\n",
    "%config InlineBackend.figure_format = 'retina' "
   ]
  },
  {
   "cell_type": "code",
   "execution_count": null,
   "id": "ae44af9b-c4c6-421b-8793-d8110ab8c6b7",
   "metadata": {},
   "outputs": [],
   "source": []
  },
  {
   "cell_type": "code",
   "execution_count": 26,
   "id": "6d6b1c54-7b73-4f4d-85e0-f9258c9960ff",
   "metadata": {},
   "outputs": [
    {
     "name": "stdout",
     "output_type": "stream",
     "text": [
      "https://esgf-node.llnl.gov/esg-search/search/?activity_id=OMIP&variable_id=areacello&experiment_id=omip2&frequency=mon&grid_label=gn&project=CMIP6&type=File&distrib=false&format=application%2Fsolr%2Bjson&offset=0\n"
     ]
    }
   ],
   "source": [
    "vari_2d = 'deptho' #'areacello' #['vmo','thetao','so','umo','siconc','zos','mlotst']\n",
    "\n",
    "result = []\n",
    "for var in variables:\n",
    "    result.append(esgf_search(activity_id='OMIP', variable_id=var,\n",
    "                              experiment_id='omip2',frequency='mon',grid_label='gn'))"
   ]
  },
  {
   "cell_type": "code",
   "execution_count": 41,
   "id": "baec155c-62c3-44e3-b5e7-1865ae333984",
   "metadata": {},
   "outputs": [
    {
     "name": "stdout",
     "output_type": "stream",
     "text": [
      "https://esgf-node.llnl.gov/esg-search/search/?activity_id=OMIP&variable_id=deptho&source_id=CMCC-CM2-SR5&grid_label=gn&project=CMIP6&type=File&distrib=false&format=application%2Fsolr%2Bjson&offset=0\n",
      "https://esgf-node.llnl.gov/esg-search/search/?activity_id=OMIP&variable_id=deptho&source_id=NorESM2-LM&grid_label=gn&project=CMIP6&type=File&distrib=false&format=application%2Fsolr%2Bjson&offset=0\n",
      "https://esgf-node.llnl.gov/esg-search/search/?activity_id=OMIP&variable_id=deptho&source_id=MRI-ESM2-0&grid_label=gn&project=CMIP6&type=File&distrib=false&format=application%2Fsolr%2Bjson&offset=0\n",
      "https://esgf-node.llnl.gov/esg-search/search/?activity_id=OMIP&variable_id=deptho&source_id=MRI-ESM2-0&grid_label=gn&project=CMIP6&type=File&distrib=false&format=application%2Fsolr%2Bjson&offset=10\n",
      "https://esgf-node.llnl.gov/esg-search/search/?activity_id=OMIP&variable_id=deptho&source_id=MRI-ESM2-0&grid_label=gn&project=CMIP6&type=File&distrib=false&format=application%2Fsolr%2Bjson&offset=20\n",
      "https://esgf-node.llnl.gov/esg-search/search/?activity_id=OMIP&variable_id=deptho&source_id=CNRM-CM6-1&grid_label=gn&project=CMIP6&type=File&distrib=false&format=application%2Fsolr%2Bjson&offset=0\n",
      "https://esgf-node.llnl.gov/esg-search/search/?activity_id=OMIP&variable_id=deptho&source_id=FGOALS-f3-L&grid_label=gn&project=CMIP6&type=File&distrib=false&format=application%2Fsolr%2Bjson&offset=0\n",
      "https://esgf-node.llnl.gov/esg-search/search/?activity_id=OMIP&variable_id=deptho&source_id=CNRM-CM6-1-HR&grid_label=gn&project=CMIP6&type=File&distrib=false&format=application%2Fsolr%2Bjson&offset=0\n",
      "https://esgf-node.llnl.gov/esg-search/search/?activity_id=OMIP&variable_id=deptho&source_id=TaiESM1-TIMCOM&grid_label=gn&project=CMIP6&type=File&distrib=false&format=application%2Fsolr%2Bjson&offset=0\n",
      "https://esgf-node.llnl.gov/esg-search/search/?activity_id=OMIP&variable_id=deptho&source_id=CMCC-CM2-HR4&grid_label=gn&project=CMIP6&type=File&distrib=false&format=application%2Fsolr%2Bjson&offset=0\n",
      "https://esgf-node.llnl.gov/esg-search/search/?activity_id=OMIP&variable_id=deptho&source_id=TaiESM1-TIMCOM2&grid_label=gn&project=CMIP6&type=File&distrib=false&format=application%2Fsolr%2Bjson&offset=0\n",
      "https://esgf-node.llnl.gov/esg-search/search/?activity_id=OMIP&variable_id=deptho&source_id=ACCESS-OM2&grid_label=gn&project=CMIP6&type=File&distrib=false&format=application%2Fsolr%2Bjson&offset=0\n",
      "https://esgf-node.llnl.gov/esg-search/search/?activity_id=OMIP&variable_id=deptho&source_id=EC-Earth3&grid_label=gn&project=CMIP6&type=File&distrib=false&format=application%2Fsolr%2Bjson&offset=0\n",
      "https://esgf-node.llnl.gov/esg-search/search/?activity_id=OMIP&variable_id=deptho&source_id=ACCESS-OM2-025&grid_label=gn&project=CMIP6&type=File&distrib=false&format=application%2Fsolr%2Bjson&offset=0\n",
      "https://esgf-node.llnl.gov/esg-search/search/?activity_id=OMIP&variable_id=deptho&source_id=MIROC6&grid_label=gn&project=CMIP6&type=File&distrib=false&format=application%2Fsolr%2Bjson&offset=0\n"
     ]
    },
    {
     "data": {
      "text/plain": [
       "{'CMCC-CM2-SR5': ['http://esgf-data1.llnl.gov/thredds/dodsC/css03_data/CMIP6/OMIP/CMCC/CMCC-CM2-SR5/omip1/r1i1p1f1/Ofx/deptho/gn/v20200226/deptho_Ofx_CMCC-CM2-SR5_omip1_r1i1p1f1_gn.nc',\n",
       "  'http://esgf-data1.llnl.gov/thredds/dodsC/css03_data/CMIP6/OMIP/CMCC/CMCC-CM2-SR5/omip2/r1i1p1f1/Ofx/deptho/gn/v20200226/deptho_Ofx_CMCC-CM2-SR5_omip2_r1i1p1f1_gn.nc'],\n",
       " 'NorESM2-LM': ['https://esgf-data1.llnl.gov/thredds/dodsC/css03_data/CMIP6/OMIP/NCC/NorESM2-LM/omip1-spunup/r1i1p1f1/Ofx/deptho/gn/v20200218/deptho_Ofx_NorESM2-LM_omip1-spunup_r1i1p1f1_gn.nc',\n",
       "  'https://esgf-data1.llnl.gov/thredds/dodsC/css03_data/CMIP6/OMIP/NCC/NorESM2-LM/omip1/r1i1p1f1/Ofx/deptho/gn/v20190920/deptho_Ofx_NorESM2-LM_omip1_r1i1p1f1_gn.nc',\n",
       "  'https://esgf-data1.llnl.gov/thredds/dodsC/css03_data/CMIP6/OMIP/NCC/NorESM2-LM/omip2/r1i1p1f1/Ofx/deptho/gn/v20190920/deptho_Ofx_NorESM2-LM_omip2_r1i1p1f1_gn.nc'],\n",
       " 'MRI-ESM2-0': ['http://esgf-data2.diasjp.net/thredds/dodsC/esg_dataroot/CMIP6/OMIP/MRI/MRI-ESM2-0/omip1-spunup/r1i1p1f1/Ofx/deptho/gn/v20210510/deptho_Ofx_MRI-ESM2-0_omip1-spunup_r1i1p1f1_gn.nc',\n",
       "  'http://esgf-data2.diasjp.net/thredds/dodsC/esg_dataroot/CMIP6/OMIP/MRI/MRI-ESM2-0/omip1-spunup/r2i1p1f1/Ofx/deptho/gn/v20210510/deptho_Ofx_MRI-ESM2-0_omip1-spunup_r2i1p1f1_gn.nc',\n",
       "  'http://esgf-data2.diasjp.net/thredds/dodsC/esg_dataroot/CMIP6/OMIP/MRI/MRI-ESM2-0/omip1/r1i1p1f1/Ofx/deptho/gn/v20210510/deptho_Ofx_MRI-ESM2-0_omip1_r1i1p1f1_gn.nc',\n",
       "  'http://esgf-data2.diasjp.net/thredds/dodsC/esg_dataroot/CMIP6/OMIP/MRI/MRI-ESM2-0/omip1/r2i1p1f1/Ofx/deptho/gn/v20210510/deptho_Ofx_MRI-ESM2-0_omip1_r2i1p1f1_gn.nc',\n",
       "  'http://esgf-data2.diasjp.net/thredds/dodsC/esg_dataroot/CMIP6/OMIP/MRI/MRI-ESM2-0/omip1/r3i1p1f1/Ofx/deptho/gn/v20210510/deptho_Ofx_MRI-ESM2-0_omip1_r3i1p1f1_gn.nc',\n",
       "  'http://esgf-data2.diasjp.net/thredds/dodsC/esg_dataroot/CMIP6/OMIP/MRI/MRI-ESM2-0/omip2/r1i1p1f1/Ofx/deptho/gn/v20210510/deptho_Ofx_MRI-ESM2-0_omip2_r1i1p1f1_gn.nc',\n",
       "  'http://esgf-data2.diasjp.net/thredds/dodsC/esg_dataroot/CMIP6/OMIP/MRI/MRI-ESM2-0/omip2/r1i1p2f1/Ofx/deptho/gn/v20210510/deptho_Ofx_MRI-ESM2-0_omip2_r1i1p2f1_gn.nc',\n",
       "  'http://esgf-data2.diasjp.net/thredds/dodsC/esg_dataroot/CMIP6/OMIP/MRI/MRI-ESM2-0/omip2/r1i1p3f1/Ofx/deptho/gn/v20210510/deptho_Ofx_MRI-ESM2-0_omip2_r1i1p3f1_gn.nc',\n",
       "  'http://esgf-data2.diasjp.net/thredds/dodsC/esg_dataroot/CMIP6/OMIP/MRI/MRI-ESM2-0/omip2/r1i1p4f1/Ofx/deptho/gn/v20210510/deptho_Ofx_MRI-ESM2-0_omip2_r1i1p4f1_gn.nc',\n",
       "  'http://esgf-data2.diasjp.net/thredds/dodsC/esg_dataroot/CMIP6/OMIP/MRI/MRI-ESM2-0/omip2/r2i1p1f1/Ofx/deptho/gn/v20210510/deptho_Ofx_MRI-ESM2-0_omip2_r2i1p1f1_gn.nc',\n",
       "  'https://esgf-data1.llnl.gov/thredds/dodsC/css03_data/CMIP6/OMIP/MRI/MRI-ESM2-0/omip1-spunup/r2i1p1f1/Ofx/deptho/gn/v20200427/deptho_Ofx_MRI-ESM2-0_omip1-spunup_r2i1p1f1_gn.nc',\n",
       "  'https://esgf-data1.llnl.gov/thredds/dodsC/css03_data/CMIP6/OMIP/MRI/MRI-ESM2-0/omip1-spunup/r2i1p1f1/Ofx/deptho/gn/v20210510/deptho_Ofx_MRI-ESM2-0_omip1-spunup_r2i1p1f1_gn.nc',\n",
       "  'https://esgf-data1.llnl.gov/thredds/dodsC/css03_data/CMIP6/OMIP/MRI/MRI-ESM2-0/omip1/r1i1p1f1/Ofx/deptho/gn/v20200406/deptho_Ofx_MRI-ESM2-0_omip1_r1i1p1f1_gn.nc',\n",
       "  'https://esgf-data1.llnl.gov/thredds/dodsC/css03_data/CMIP6/OMIP/MRI/MRI-ESM2-0/omip1/r1i1p1f1/Ofx/deptho/gn/v20210510/deptho_Ofx_MRI-ESM2-0_omip1_r1i1p1f1_gn.nc',\n",
       "  'https://esgf-data1.llnl.gov/thredds/dodsC/css03_data/CMIP6/OMIP/MRI/MRI-ESM2-0/omip1/r2i1p1f1/Ofx/deptho/gn/v20200427/deptho_Ofx_MRI-ESM2-0_omip1_r2i1p1f1_gn.nc',\n",
       "  'https://esgf-data1.llnl.gov/thredds/dodsC/css03_data/CMIP6/OMIP/MRI/MRI-ESM2-0/omip1/r2i1p1f1/Ofx/deptho/gn/v20210510/deptho_Ofx_MRI-ESM2-0_omip1_r2i1p1f1_gn.nc',\n",
       "  'https://esgf-data1.llnl.gov/thredds/dodsC/css03_data/CMIP6/OMIP/MRI/MRI-ESM2-0/omip1/r3i1p1f1/Ofx/deptho/gn/v20200427/deptho_Ofx_MRI-ESM2-0_omip1_r3i1p1f1_gn.nc',\n",
       "  'https://esgf-data1.llnl.gov/thredds/dodsC/css03_data/CMIP6/OMIP/MRI/MRI-ESM2-0/omip1/r3i1p1f1/Ofx/deptho/gn/v20210510/deptho_Ofx_MRI-ESM2-0_omip1_r3i1p1f1_gn.nc',\n",
       "  'https://esgf-data1.llnl.gov/thredds/dodsC/css03_data/CMIP6/OMIP/MRI/MRI-ESM2-0/omip2/r1i1p1f1/Ofx/deptho/gn/v20200406/deptho_Ofx_MRI-ESM2-0_omip2_r1i1p1f1_gn.nc',\n",
       "  'https://esgf-data1.llnl.gov/thredds/dodsC/css03_data/CMIP6/OMIP/MRI/MRI-ESM2-0/omip2/r1i1p1f1/Ofx/deptho/gn/v20210510/deptho_Ofx_MRI-ESM2-0_omip2_r1i1p1f1_gn.nc',\n",
       "  'https://esgf-data1.llnl.gov/thredds/dodsC/css03_data/CMIP6/OMIP/MRI/MRI-ESM2-0/omip2/r1i1p2f1/Ofx/deptho/gn/v20200427/deptho_Ofx_MRI-ESM2-0_omip2_r1i1p2f1_gn.nc',\n",
       "  'https://esgf-data1.llnl.gov/thredds/dodsC/css03_data/CMIP6/OMIP/MRI/MRI-ESM2-0/omip2/r1i1p2f1/Ofx/deptho/gn/v20210510/deptho_Ofx_MRI-ESM2-0_omip2_r1i1p2f1_gn.nc',\n",
       "  'https://esgf-data1.llnl.gov/thredds/dodsC/css03_data/CMIP6/OMIP/MRI/MRI-ESM2-0/omip2/r1i1p3f1/Ofx/deptho/gn/v20200427/deptho_Ofx_MRI-ESM2-0_omip2_r1i1p3f1_gn.nc',\n",
       "  'https://esgf-data1.llnl.gov/thredds/dodsC/css03_data/CMIP6/OMIP/MRI/MRI-ESM2-0/omip2/r1i1p3f1/Ofx/deptho/gn/v20210510/deptho_Ofx_MRI-ESM2-0_omip2_r1i1p3f1_gn.nc',\n",
       "  'https://esgf-data1.llnl.gov/thredds/dodsC/css03_data/CMIP6/OMIP/MRI/MRI-ESM2-0/omip2/r1i1p4f1/Ofx/deptho/gn/v20200427/deptho_Ofx_MRI-ESM2-0_omip2_r1i1p4f1_gn.nc',\n",
       "  'https://esgf-data1.llnl.gov/thredds/dodsC/css03_data/CMIP6/OMIP/MRI/MRI-ESM2-0/omip2/r1i1p4f1/Ofx/deptho/gn/v20210510/deptho_Ofx_MRI-ESM2-0_omip2_r1i1p4f1_gn.nc',\n",
       "  'https://esgf-data1.llnl.gov/thredds/dodsC/css03_data/CMIP6/OMIP/MRI/MRI-ESM2-0/omip2/r2i1p1f1/Ofx/deptho/gn/v20200427/deptho_Ofx_MRI-ESM2-0_omip2_r2i1p1f1_gn.nc',\n",
       "  'https://esgf-data1.llnl.gov/thredds/dodsC/css03_data/CMIP6/OMIP/MRI/MRI-ESM2-0/omip2/r2i1p1f1/Ofx/deptho/gn/v20210510/deptho_Ofx_MRI-ESM2-0_omip2_r2i1p1f1_gn.nc'],\n",
       " 'CNRM-CM6-1': ['http://aims3.llnl.gov/thredds/dodsC/css03_data/CMIP6/OMIP/CNRM-CERFACS/CNRM-CM6-1/omip1/r1i1p1f2/Ofx/deptho/gn/v20190328/deptho_Ofx_CNRM-CM6-1_omip1_r1i1p1f2_gn.nc',\n",
       "  'https://esgf-data1.llnl.gov/thredds/dodsC/css03_data/CMIP6/OMIP/CNRM-CERFACS/CNRM-CM6-1/omip2/r1i1p1f2/Ofx/deptho/gn/v20200724/deptho_Ofx_CNRM-CM6-1_omip2_r1i1p1f2_gn.nc'],\n",
       " 'FGOALS-f3-L': ['http://esg.lasg.ac.cn/thredds/dodsC/esg_dataroot/CMIP6/OMIP/CAS/FGOALS-f3-L/omip1/r1i1p1f1/Ofx/deptho/gn/v20191118/deptho_Ofx_FGOALS-f3-L_omip1_r1i1p1f1_gn.nc',\n",
       "  'https://esgf-data1.llnl.gov/thredds/dodsC/css03_data/CMIP6/OMIP/CAS/FGOALS-f3-L/omip1/r1i1p1f1/Ofx/deptho/gn/v20191118/deptho_Ofx_FGOALS-f3-L_omip1_r1i1p1f1_gn.nc'],\n",
       " 'CNRM-CM6-1-HR': ['https://esgf-data1.llnl.gov/thredds/dodsC/css03_data/CMIP6/OMIP/CNRM-CERFACS/CNRM-CM6-1-HR/omip2/r1i1p1f2/Ofx/deptho/gn/v20210412/deptho_Ofx_CNRM-CM6-1-HR_omip2_r1i1p1f2_gn.nc'],\n",
       " 'TaiESM1-TIMCOM': ['https://esgf-data1.llnl.gov/thredds/dodsC/css03_data/CMIP6/OMIP/NTU/TaiESM1-TIMCOM/omip1/r1i1p1f1/Ofx/deptho/gn/v20201028/deptho_Ofx_TaiESM1-TIMCOM_omip1_r1i1p1f1_gn.nc',\n",
       "  'https://esgf-data1.llnl.gov/thredds/dodsC/css03_data/CMIP6/OMIP/NTU/TaiESM1-TIMCOM/omip2/r1i1p1f1/Ofx/deptho/gn/v20201028/deptho_Ofx_TaiESM1-TIMCOM_omip2_r1i1p1f1_gn.nc',\n",
       "  'https://esgf-data1.llnl.gov/thredds/dodsC/css03_data/CMIP6/OMIP/NTU/TaiESM1-TIMCOM/omip2/r1i1p2f1/Ofx/deptho/gn/v20201028/deptho_Ofx_TaiESM1-TIMCOM_omip2_r1i1p2f1_gn.nc'],\n",
       " 'CMCC-CM2-HR4': ['http://esgf-data1.llnl.gov/thredds/dodsC/css03_data/CMIP6/OMIP/CMCC/CMCC-CM2-HR4/omip2/r1i1p1f1/Ofx/deptho/gn/v20200226/deptho_Ofx_CMCC-CM2-HR4_omip2_r1i1p1f1_gn.nc'],\n",
       " 'TaiESM1-TIMCOM2': ['https://esgf-data1.llnl.gov/thredds/dodsC/css03_data/CMIP6/OMIP/NTU/TaiESM1-TIMCOM2/omip1/r1i1p1f1/Ofx/deptho/gn/v20211213/deptho_Ofx_TaiESM1-TIMCOM2_omip1_r1i1p1f1_gn.nc',\n",
       "  'https://esgf-data1.llnl.gov/thredds/dodsC/css03_data/CMIP6/OMIP/NTU/TaiESM1-TIMCOM2/omip2/r1i1p1f1/Ofx/deptho/gn/v20211216/deptho_Ofx_TaiESM1-TIMCOM2_omip2_r1i1p1f1_gn.nc'],\n",
       " 'ACCESS-OM2': ['https://esgf-data1.llnl.gov/thredds/dodsC/css03_data/CMIP6/OMIP/CSIRO-COSIMA/ACCESS-OM2/omip2-spunup/r1i1p1f1/Ofx/deptho/gn/v20210616/deptho_Ofx_ACCESS-OM2_omip2-spunup_r1i1p1f1_gn.nc',\n",
       "  'https://esgf-data1.llnl.gov/thredds/dodsC/css03_data/CMIP6/OMIP/CSIRO-COSIMA/ACCESS-OM2/omip2/r1i1p1f1/Ofx/deptho/gn/v20210616/deptho_Ofx_ACCESS-OM2_omip2_r1i1p1f1_gn.nc'],\n",
       " 'EC-Earth3': ['https://esgf-data1.llnl.gov/thredds/dodsC/css03_data/CMIP6/OMIP/EC-Earth-Consortium/EC-Earth3/omip2/r1i1p1f1/Ofx/deptho/gn/v20200928/deptho_Ofx_EC-Earth3_omip2_r1i1p1f1_gn.nc'],\n",
       " 'ACCESS-OM2-025': ['https://esgf-data1.llnl.gov/thredds/dodsC/css03_data/CMIP6/OMIP/CSIRO-COSIMA/ACCESS-OM2-025/omip2/r1i1p1f1/Ofx/deptho/gn/v20210617/deptho_Ofx_ACCESS-OM2-025_omip2_r1i1p1f1_gn.nc'],\n",
       " 'MIROC6': ['http://esgf-data1.llnl.gov/thredds/dodsC/css03_data/CMIP6/OMIP/MIROC/MIROC6/omip1/r1i1p1f1/Ofx/deptho/gn/v20190821/deptho_Ofx_MIROC6_omip1_r1i1p1f1_gn.nc',\n",
       "  'http://esgf-data1.llnl.gov/thredds/dodsC/css03_data/CMIP6/OMIP/MIROC/MIROC6/omip2/r1i1p1f1/Ofx/deptho/gn/v20190821/deptho_Ofx_MIROC6_omip2_r1i1p1f1_gn.nc',\n",
       "  'http://esgf-data2.diasjp.net/thredds/dodsC/esg_dataroot/CMIP6/OMIP/MIROC/MIROC6/omip1/r1i1p1f1/Ofx/deptho/gn/v20190821/deptho_Ofx_MIROC6_omip1_r1i1p1f1_gn.nc',\n",
       "  'http://esgf-data2.diasjp.net/thredds/dodsC/esg_dataroot/CMIP6/OMIP/MIROC/MIROC6/omip1/r2i1p1f1/Ofx/deptho/gn/v20200612/deptho_Ofx_MIROC6_omip1_r2i1p1f1_gn.nc',\n",
       "  'http://esgf-data2.diasjp.net/thredds/dodsC/esg_dataroot/CMIP6/OMIP/MIROC/MIROC6/omip2/r1i1p1f1/Ofx/deptho/gn/v20190821/deptho_Ofx_MIROC6_omip2_r1i1p1f1_gn.nc',\n",
       "  'http://esgf-data2.diasjp.net/thredds/dodsC/esg_dataroot/CMIP6/OMIP/MIROC/MIROC6/omip2/r2i1p1f1/Ofx/deptho/gn/v20200612/deptho_Ofx_MIROC6_omip2_r2i1p1f1_gn.nc',\n",
       "  'https://esgf-data1.llnl.gov/thredds/dodsC/css03_data/CMIP6/OMIP/MIROC/MIROC6/omip1/r2i1p1f1/Ofx/deptho/gn/v20200612/deptho_Ofx_MIROC6_omip1_r2i1p1f1_gn.nc',\n",
       "  'https://esgf-data1.llnl.gov/thredds/dodsC/css03_data/CMIP6/OMIP/MIROC/MIROC6/omip2/r2i1p1f1/Ofx/deptho/gn/v20200612/deptho_Ofx_MIROC6_omip2_r2i1p1f1_gn.nc']}"
      ]
     },
     "execution_count": 41,
     "metadata": {},
     "output_type": "execute_result"
    }
   ],
   "source": [
    "\n",
    "model_fnames_2d_dict = {}\n",
    "\n",
    "if \"model_fnames_dict\" in locals() : \n",
    "    pass\n",
    "else : \n",
    "    ## Load in file of model names and fnames\n",
    "    model_fnames_dict = np.load(\"../models.npy\", allow_pickle=True).item()\n",
    "\n",
    "for model in model_fnames_dict : \n",
    "    model_fnames_2d_dict[model] = esgf_search(activity_id='OMIP', variable_id=vari_2d, source_id=model, grid_label='gn')\n",
    "\n",
    "model_fnames_2d_dict"
   ]
  },
  {
   "cell_type": "code",
   "execution_count": 42,
   "id": "54b5cbf3-fe91-4c58-9df0-c3ac2a7045d5",
   "metadata": {},
   "outputs": [],
   "source": [
    "np.save('models_depth.npy',model_fnames_2d_dict)"
   ]
  },
  {
   "cell_type": "code",
   "execution_count": 33,
   "id": "1e53bb50-9ad7-418c-af8b-307df2d40387",
   "metadata": {},
   "outputs": [
    {
     "name": "stdout",
     "output_type": "stream",
     "text": [
      "https://esgf-node.llnl.gov/esg-search/search/?activity_id=CMIP6&experiment_id=omip2&variable_id=deptho&grid_label=gn&model=MIROC6&project=CMIP6&type=File&distrib=false&format=application%2Fsolr%2Bjson&offset=0\n"
     ]
    },
    {
     "data": {
      "text/plain": [
       "('MIROC6', [])"
      ]
     },
     "execution_count": 33,
     "metadata": {},
     "output_type": "execute_result"
    }
   ],
   "source": [
    "model, esgf_search(activity_id='CMIP6', experiment_id='omip2', variable_id=vari_2d, grid_label='gn', model=model)\n"
   ]
  },
  {
   "cell_type": "code",
   "execution_count": null,
   "id": "48bbfa6e-4224-43c1-ad68-8c584f73620b",
   "metadata": {},
   "outputs": [
    {
     "ename": "SyntaxError",
     "evalue": "invalid syntax (1661422233.py, line 1)",
     "output_type": "error",
     "traceback": [
      "\u001b[0;36m  Input \u001b[0;32mIn [32]\u001b[0;36m\u001b[0m\n\u001b[0;31m    hdl:21.14100/217389e1-a39a-4e48-89eb-ebcd45c3c9e3\u001b[0m\n\u001b[0m                                      ^\u001b[0m\n\u001b[0;31mSyntaxError\u001b[0m\u001b[0;31m:\u001b[0m invalid syntax\n"
     ]
    }
   ],
   "source": []
  }
 ],
 "metadata": {
  "kernelspec": {
   "display_name": "Python 3 (ipykernel)",
   "language": "python",
   "name": "python3"
  },
  "language_info": {
   "codemirror_mode": {
    "name": "ipython",
    "version": 3
   },
   "file_extension": ".py",
   "mimetype": "text/x-python",
   "name": "python",
   "nbconvert_exporter": "python",
   "pygments_lexer": "ipython3",
   "version": "3.9.13"
  }
 },
 "nbformat": 4,
 "nbformat_minor": 5
}
