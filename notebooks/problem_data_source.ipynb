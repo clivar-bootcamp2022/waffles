{
 "cells": [
  {
   "cell_type": "markdown",
   "id": "a649bf07-2eed-4203-b481-9fe5baa46ecf",
   "metadata": {},
   "source": [
    "# Test full calculation\n",
    "Test the full calculation of the "
   ]
  },
  {
   "cell_type": "code",
   "execution_count": 1,
   "id": "22dcfa42-4539-4613-9231-eb344da5f73f",
   "metadata": {
    "tags": []
   },
   "outputs": [
    {
     "name": "stdout",
     "output_type": "stream",
     "text": [
      "Requirement already satisfied: xmip in /srv/conda/envs/notebook/lib/python3.9/site-packages (0.6.1rc0)\n",
      "Requirement already satisfied: cf-xarray>=0.6.0 in /srv/conda/envs/notebook/lib/python3.9/site-packages (from xmip) (0.7.4)\n",
      "Requirement already satisfied: numpy in /srv/conda/envs/notebook/lib/python3.9/site-packages (from xmip) (1.23.2)\n",
      "Requirement already satisfied: xarrayutils in /srv/conda/envs/notebook/lib/python3.9/site-packages (from xmip) (1.1.1)\n",
      "Requirement already satisfied: cftime in /srv/conda/envs/notebook/lib/python3.9/site-packages (from xmip) (1.6.1)\n",
      "Requirement already satisfied: xgcm<0.7.0 in /srv/conda/envs/notebook/lib/python3.9/site-packages (from xmip) (0.6.1)\n",
      "Requirement already satisfied: pandas in /srv/conda/envs/notebook/lib/python3.9/site-packages (from xmip) (1.4.3)\n",
      "Requirement already satisfied: xarray>=0.17.0 in /srv/conda/envs/notebook/lib/python3.9/site-packages (from xmip) (2022.6.0)\n",
      "Requirement already satisfied: pint in /srv/conda/envs/notebook/lib/python3.9/site-packages (from xmip) (0.19.2)\n",
      "Requirement already satisfied: pint-xarray in /srv/conda/envs/notebook/lib/python3.9/site-packages (from xmip) (0.3)\n",
      "Requirement already satisfied: packaging>=20.0 in /srv/conda/envs/notebook/lib/python3.9/site-packages (from xarray>=0.17.0->xmip) (21.3)\n",
      "Requirement already satisfied: python-dateutil>=2.8.1 in /srv/conda/envs/notebook/lib/python3.9/site-packages (from pandas->xmip) (2.8.2)\n",
      "Requirement already satisfied: pytz>=2020.1 in /srv/conda/envs/notebook/lib/python3.9/site-packages (from pandas->xmip) (2022.2.1)\n",
      "Requirement already satisfied: future in /srv/conda/envs/notebook/lib/python3.9/site-packages (from xgcm<0.7.0->xmip) (0.18.2)\n",
      "Requirement already satisfied: dask in /srv/conda/envs/notebook/lib/python3.9/site-packages (from xgcm<0.7.0->xmip) (2022.8.0)\n",
      "Requirement already satisfied: scipy in /srv/conda/envs/notebook/lib/python3.9/site-packages (from xarrayutils->xmip) (1.9.0)\n",
      "Requirement already satisfied: pyparsing!=3.0.5,>=2.0.2 in /srv/conda/envs/notebook/lib/python3.9/site-packages (from packaging>=20.0->xarray>=0.17.0->xmip) (3.0.9)\n",
      "Requirement already satisfied: six>=1.5 in /srv/conda/envs/notebook/lib/python3.9/site-packages (from python-dateutil>=2.8.1->pandas->xmip) (1.16.0)\n",
      "Requirement already satisfied: fsspec>=0.6.0 in /srv/conda/envs/notebook/lib/python3.9/site-packages (from dask->xgcm<0.7.0->xmip) (2022.7.1)\n",
      "Requirement already satisfied: toolz>=0.8.2 in /srv/conda/envs/notebook/lib/python3.9/site-packages (from dask->xgcm<0.7.0->xmip) (0.12.0)\n",
      "Requirement already satisfied: partd>=0.3.10 in /srv/conda/envs/notebook/lib/python3.9/site-packages (from dask->xgcm<0.7.0->xmip) (1.3.0)\n",
      "Requirement already satisfied: cloudpickle>=1.1.1 in /srv/conda/envs/notebook/lib/python3.9/site-packages (from dask->xgcm<0.7.0->xmip) (2.1.0)\n",
      "Requirement already satisfied: pyyaml>=5.3.1 in /srv/conda/envs/notebook/lib/python3.9/site-packages (from dask->xgcm<0.7.0->xmip) (5.4.1)\n",
      "Requirement already satisfied: locket in /srv/conda/envs/notebook/lib/python3.9/site-packages (from partd>=0.3.10->dask->xgcm<0.7.0->xmip) (1.0.0)\n",
      "Note: you may need to restart the kernel to use updated packages.\n"
     ]
    }
   ],
   "source": [
    "pip install xmip"
   ]
  },
  {
   "cell_type": "markdown",
   "id": "e07da6cd-8b80-47b2-922f-3c69f6d13c5c",
   "metadata": {},
   "source": [
    "## Import packages"
   ]
  },
  {
   "cell_type": "code",
   "execution_count": 2,
   "id": "4a4357e6-e522-46e5-bbf9-b4f444b09ef9",
   "metadata": {
    "tags": []
   },
   "outputs": [],
   "source": [
    "%matplotlib inline\n",
    "import xarray as xr\n",
    "from xmip.preprocessing import rename_cmip6\n",
    "import s3fs\n",
    "import zarr\n",
    "\n",
    "import util"
   ]
  },
  {
   "cell_type": "code",
   "execution_count": 3,
   "id": "a48db78a-9325-4d71-ae2e-7de03c39278a",
   "metadata": {
    "tags": [
     "skip-execution"
    ]
   },
   "outputs": [],
   "source": [
    "from dask_gateway import Gateway\n",
    "gateway = Gateway()"
   ]
  },
  {
   "cell_type": "code",
   "execution_count": 4,
   "id": "2726b894-8346-486e-9edd-039674b2e10e",
   "metadata": {},
   "outputs": [
    {
     "name": "stdout",
     "output_type": "stream",
     "text": [
      "[]\n"
     ]
    }
   ],
   "source": [
    "##A line of trick to clean your dask cluster before you start your computation\n",
    "from dask.distributed import Client\n",
    "clusters=gateway.list_clusters()\n",
    "print(clusters )\n",
    "for cluster in clusters :\n",
    "    cluster= gateway.connect(cluster.name)\n",
    "    print(cluster)\n",
    "    client = Client(cluster)\n",
    "    client.close()\n",
    "    cluster.shutdown()"
   ]
  },
  {
   "cell_type": "markdown",
   "id": "bea469b1-9c4f-4ffc-86a0-7929fc61028e",
   "metadata": {
    "tags": []
   },
   "source": [
    "## Summary of some test data\n",
    "\n",
    "| model name | resolution | years in file for one variable | file size (one variable) | combined 3D variable data size | combined 2D variable data size |\n",
    "| --- | --- | --- | --- | --- | --- |\n",
    "| ACCESS-OM2 | 100 km | 10 | 670 MB | 17 GB | 0.4 GB |\n",
    "| ACCESS-OM2-025 | 25 km | 1 | 1.1 GB | 271 GB | 7 GB |\n",
    "| CMCC-CM2-SR5 | 100 km | 61 | 3.6 GB | 15 GB | 0.4 GB |\n",
    "| CMCC-CM2-HR4 | 25 km | 10 | 9.4 GB | 231 GB | 6 GB |\n",
    "\n",
    "\n",
    "## Problem in data source \n",
    "\n",
    "source_id=['CMCC-CM2-SR5','CMCC-CM2-HR4']\n",
    "\n",
    "These two data set are not in where ldap tells us where they are!!\n",
    "\n"
   ]
  },
  {
   "cell_type": "markdown",
   "id": "8b9040ee-df1f-4ba8-9289-33ec399a694b",
   "metadata": {},
   "source": [
    "## Load data from ESGF"
   ]
  },
  {
   "cell_type": "code",
   "execution_count": 5,
   "id": "3f6fd478-4420-4559-b0d0-d8052b8394e0",
   "metadata": {
    "tags": []
   },
   "outputs": [
    {
     "name": "stdout",
     "output_type": "stream",
     "text": [
      "https://esgf-node.llnl.gov/esg-search/search/?activity_id=OMIP&experiment_id=omip2&variable_id=vmo&source_id=CMCC-CM2-HR4&project=CMIP6&type=File&distrib=false&format=application%2Fsolr%2Bjson&offset=0\n",
      "https://esgf-node.llnl.gov/esg-search/search/?activity_id=OMIP&experiment_id=omip2&variable_id=vmo&source_id=CMCC-CM2-HR4&project=CMIP6&type=File&distrib=false&format=application%2Fsolr%2Bjson&offset=10\n",
      "https://esgf-node.llnl.gov/esg-search/search/?activity_id=OMIP&experiment_id=omip2&variable_id=vmo&source_id=CMCC-CM2-HR4&project=CMIP6&type=File&distrib=false&format=application%2Fsolr%2Bjson&offset=20\n",
      "https://esgf-node.llnl.gov/esg-search/search/?activity_id=OMIP&experiment_id=omip2&variable_id=vmo&source_id=CMCC-CM2-HR4&project=CMIP6&type=File&distrib=false&format=application%2Fsolr%2Bjson&offset=30\n"
     ]
    }
   ],
   "source": [
    "\n",
    "source_id='CMCC-CM2-SR5'\n",
    "source_id='CMCC-CM2-HR4'\n",
    "\n",
    "\n",
    "result = util.esgf_search(activity_id='OMIP'\n",
    "                          , experiment_id='omip2'\n",
    "                          , variable_id='vmo'\n",
    "                          , source_id=source_id)\n",
    "                          # works, source_id='ACCESS-OM2-025')\n",
    "                          # works, source_id='ACCESS-OM2')\n",
    "#CMCC-CM2-SR5')"
   ]
  },
  {
   "cell_type": "code",
   "execution_count": 9,
   "id": "2a707dc0-f7bb-4f60-8e2b-fd6f281247f9",
   "metadata": {},
   "outputs": [
    {
     "data": {
      "text/plain": [
       "'http://esgf-data1.llnl.gov/thredds/dodsC/css03_data/CMIP6/OMIP/CMCC/CMCC-CM2-HR4/omip2/r1i1p1f1/Omon/vmo/gn/v20200226/vmo_Omon_CMCC-CM2-HR4_omip2_r1i1p1f1_gn_200801-201812.nc'"
      ]
     },
     "execution_count": 9,
     "metadata": {},
     "output_type": "execute_result"
    }
   ],
   "source": [
    "result[-1]"
   ]
  },
  {
   "cell_type": "code",
   "execution_count": 11,
   "id": "d1551942-b157-4072-beff-898a769cd421",
   "metadata": {},
   "outputs": [
    {
     "name": "stdout",
     "output_type": "stream",
     "text": [
      "URL transformed to HTTPS due to an HSTS policy\n",
      "--2022-10-15 07:25:41--  https://esgf-data1.llnl.gov/thredds/dodsC/css03_data/CMIP6/OMIP/CMCC/CMCC-CM2-HR4/omip2/r1i1p1f1/Omon/vmo/gn/v20200226/vmo_Omon_CMCC-CM2-HR4_omip2_r1i1p1f1_gn_200801-201812.nc\n",
      "Resolving esgf-data1.llnl.gov (esgf-data1.llnl.gov)... 198.128.245.147\n",
      "Connecting to esgf-data1.llnl.gov (esgf-data1.llnl.gov)|198.128.245.147|:443... connected.\n",
      "HTTP request sent, awaiting response... 400 Bad Request\n",
      "2022-10-15 07:25:42 ERROR 400: Bad Request.\n",
      "\n"
     ]
    }
   ],
   "source": [
    "!wget http://esgf-data1.llnl.gov/thredds/dodsC/css03_data/CMIP6/OMIP/CMCC/CMCC-CM2-HR4/omip2/r1i1p1f1/Omon/vmo/gn/v20200226/vmo_Omon_CMCC-CM2-HR4_omip2_r1i1p1f1_gn_200801-201812.nc"
   ]
  },
  {
   "cell_type": "code",
   "execution_count": null,
   "id": "86530b68-1a2d-410d-8339-0dcc5bdb3116",
   "metadata": {},
   "outputs": [],
   "source": []
  }
 ],
 "metadata": {
  "kernelspec": {
   "display_name": "Python 3 (ipykernel)",
   "language": "python",
   "name": "python3"
  },
  "language_info": {
   "codemirror_mode": {
    "name": "ipython",
    "version": 3
   },
   "file_extension": ".py",
   "mimetype": "text/x-python",
   "name": "python",
   "nbconvert_exporter": "python",
   "pygments_lexer": "ipython3",
   "version": "3.9.13"
  }
 },
 "nbformat": 4,
 "nbformat_minor": 5
}
