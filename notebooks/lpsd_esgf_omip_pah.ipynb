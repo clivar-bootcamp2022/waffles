{
 "cells": [
  {
   "cell_type": "code",
   "execution_count": null,
   "id": "c9a0bcdb-6a91-4658-b2f0-4d2ea0ee0e20",
   "metadata": {},
   "outputs": [
    {
     "name": "stdout",
     "output_type": "stream",
     "text": [
      "Collecting package metadata (current_repodata.json): done\n",
      "Solving environment: done\n",
      "\n",
      "\n",
      "==> WARNING: A newer version of conda exists. <==\n",
      "  current version: 4.13.0\n",
      "  latest version: 22.9.0\n",
      "\n",
      "Please update conda by running\n",
      "\n",
      "    $ conda update -n base conda\n",
      "\n",
      "\n",
      "\n",
      "## Package Plan ##\n",
      "\n",
      "  environment location: /srv/conda/envs/notebook\n",
      "\n",
      "  added / updated specs:\n",
      "    - xmip\n",
      "\n",
      "\n",
      "The following packages will be downloaded:\n",
      "\n",
      "    package                    |            build\n",
      "    ---------------------------|-----------------\n",
      "    ca-certificates-2022.9.24  |       ha878542_0         150 KB  conda-forge\n",
      "    certifi-2022.9.24          |     pyhd8ed1ab_0         155 KB  conda-forge\n",
      "    pint-xarray-0.3            |     pyhd8ed1ab_0          33 KB  conda-forge\n",
      "    xmip-0.6.1rc0              |     pyhd8ed1ab_0          46 KB  conda-forge\n",
      "    ------------------------------------------------------------\n",
      "                                           Total:         384 KB\n",
      "\n",
      "The following NEW packages will be INSTALLED:\n",
      "\n",
      "  pint-xarray        conda-forge/noarch::pint-xarray-0.3-pyhd8ed1ab_0\n",
      "  xmip               conda-forge/noarch::xmip-0.6.1rc0-pyhd8ed1ab_0\n",
      "\n",
      "The following packages will be UPDATED:\n",
      "\n",
      "  ca-certificates                      2022.6.15-ha878542_0 --> 2022.9.24-ha878542_0\n",
      "  certifi            conda-forge/linux-64::certifi-2022.6.~ --> conda-forge/noarch::certifi-2022.9.24-pyhd8ed1ab_0\n",
      "\n",
      "\n",
      "Proceed ([y]/n)? "
     ]
    }
   ],
   "source": [
    "from matplotlib import pyplot as plt\n",
    "import numpy as np\n",
    "import pandas as pd\n",
    "import xarray as xr\n",
    "import cftime\n",
    "#import cmaps\n",
    "import cartopy.crs as ccrs\n",
    "\n",
    "import intake\n",
    "!conda install -c conda-forge xmip\n",
    "from xmip.preprocessing import rename_cmip6\n",
    "\n",
    "xr.set_options(display_style='html')\n",
    "%matplotlib inline\n",
    "%config InlineBackend.figure_format = 'retina' "
   ]
  },
  {
   "cell_type": "code",
   "execution_count": 1,
   "id": "1b2bc529-1e8b-433b-b7ce-a81593917b06",
   "metadata": {},
   "outputs": [],
   "source": [
    "#!/usr/bin/env python\n",
    "from __future__ import print_function\n",
    "import requests\n",
    "import xml.etree.ElementTree as ET\n",
    "import numpy\n",
    "\n",
    "# Author: Unknown\n",
    "# I got the original version from a word document published by ESGF\n",
    "# https://docs.google.com/document/d/1pxz1Kd3JHfFp8vR2JCVBfApbsHmbUQQstifhGNdc6U0/edit?usp=sharing\n",
    "\n",
    "# API AT: https://github.com/ESGF/esgf.github.io/wiki/ESGF_Search_REST_API#results-pagination\n",
    "\n",
    "def esgf_search(server=\"https://esgf-node.llnl.gov/esg-search/search\",\n",
    "                files_type=\"OPENDAP\", local_node=True, project=\"CMIP6\",\n",
    "                verbose=False, format=\"application%2Fsolr%2Bjson\",\n",
    "                use_csrf=False, **search):\n",
    "    client = requests.session()\n",
    "    payload = search\n",
    "    payload[\"project\"] = project\n",
    "    payload[\"type\"]= \"File\"\n",
    "    if local_node:\n",
    "        payload[\"distrib\"] = \"false\"\n",
    "    if use_csrf:\n",
    "        client.get(server)\n",
    "        if 'csrftoken' in client.cookies:\n",
    "            # Django 1.6 and up\n",
    "            csrftoken = client.cookies['csrftoken']\n",
    "        else:\n",
    "            # older versions\n",
    "            csrftoken = client.cookies['csrf']\n",
    "        payload[\"csrfmiddlewaretoken\"] = csrftoken\n",
    "\n",
    "    payload[\"format\"] = format\n",
    "\n",
    "    offset = 0\n",
    "    numFound = 10000\n",
    "    all_files = []\n",
    "    files_type = files_type.upper()\n",
    "    while offset < numFound:\n",
    "        payload[\"offset\"] = offset\n",
    "        url_keys = [] \n",
    "        for k in payload:\n",
    "            url_keys += [\"{}={}\".format(k, payload[k])]\n",
    "\n",
    "        url = \"{}/?{}\".format(server, \"&\".join(url_keys))\n",
    "        print(url)\n",
    "        r = client.get(url)\n",
    "        r.raise_for_status()\n",
    "        resp = r.json()[\"response\"]\n",
    "        numFound = int(resp[\"numFound\"])\n",
    "        resp = resp[\"docs\"]\n",
    "        offset += len(resp)\n",
    "        for d in resp:\n",
    "            if verbose:\n",
    "                for k in d:\n",
    "                    print(\"{}: {}\".format(k,d[k]))\n",
    "            url = d[\"url\"]\n",
    "            for f in d[\"url\"]:\n",
    "                sp = f.split(\"|\")\n",
    "                if sp[-1] == files_type:\n",
    "                    all_files.append(sp[0].split(\".html\")[0])\n",
    "    return sorted(all_files)"
   ]
  },
  {
   "cell_type": "code",
   "execution_count": null,
   "id": "faef97aa-f8b8-4e06-8de9-307db1d64dfc",
   "metadata": {
    "scrolled": true,
    "tags": []
   },
   "outputs": [],
   "source": [
    "#result = esgf_search(activity_id='OMIP', grid_label='gn', experiment_id='omip2', variable_id='so', nominal_resolution = '25 km')\n",
    "\n",
    "\n",
    "result = esgf_search(activity_id='OMIP', experiment_id='omip2', grid_label='gn', variable_id='so', source_id = 'CMCC-CM2-HR4') #SR5 #source_id = 'ACCESS-OM2-025')\n",
    "\n",
    "#result = esgf_search(activity_id='OMIP', grid_label='gn', experiment_id='omip2',\n",
    "#                      variable_id='so', table_id='Omon', source_id = ['CMCC-CM2-HR4', 'ACCESS-OM2-025']) #institution_id = ['CMCC', 'CSIRO-COSIMA']) #, nominal_resolution = ['25 km']) #, source_id = ['CMCC-CM2-HR4', 'ACCESS-OM2-025'])\n",
    "#                    #table_id=['Oday', 'SImon', 'Ofx']) \n",
    "len(result)"
   ]
  },
  {
   "cell_type": "code",
   "execution_count": null,
   "id": "74e1c1e7-3852-4552-b6ab-878f9110f522",
   "metadata": {},
   "outputs": [],
   "source": [
    "\n"
   ]
  },
  {
   "cell_type": "code",
   "execution_count": 3,
   "id": "99ec87db-53f9-4eb1-88bb-682060e9d2ea",
   "metadata": {},
   "outputs": [],
   "source": [
    "\n",
    "#url = \"https://storage.googleapis.com/cmip6/pangeo-cmip6.json\"\n",
    "#col = intake.open_esm_datastore(url)\n",
    "\n",
    "\n",
    "### load a few models to illustrate the problem\n",
    "#query = dict(activity_id='OMIP', grid_label='gn', experiment_id='omip2', variable_id='so', nominal_resolution = '25 km')\n",
    "#cat = col.search(**query)\n",
    "\n",
    "#cat.df['source_id'].unique()\n",
    "\n",
    "## show coordinates\n",
    "#for k, ds in dset_dict.items():\n",
    "#    print(k)\n",
    "#    print(list(ds.dims))"
   ]
  },
  {
   "cell_type": "code",
   "execution_count": 17,
   "id": "d086432b-fe47-45f0-a961-42005ffda286",
   "metadata": {},
   "outputs": [],
   "source": [
    "#files_to_open = result[-1]"
   ]
  },
  {
   "cell_type": "code",
   "execution_count": null,
   "id": "1c4b7044-1021-479d-bbce-d69072f4a658",
   "metadata": {},
   "outputs": [],
   "source": [
    "ds = xr.open_mfdataset([result[-1]], combine='by_coords')\n",
    "#ds = xr.open_mfdataset(files_to_open, combine='by_coords')\n",
    "ds"
   ]
  },
  {
   "cell_type": "code",
   "execution_count": null,
   "id": "a25a0653-919b-46ed-bc58-b0de04287995",
   "metadata": {},
   "outputs": [],
   "source": [
    "ds = rename_cmip6(ds)\n",
    "ds"
   ]
  },
  {
   "cell_type": "code",
   "execution_count": null,
   "id": "0392a012-8315-4f53-a675-43d579d41fa6",
   "metadata": {},
   "outputs": [],
   "source": []
  }
 ],
 "metadata": {
  "kernelspec": {
   "display_name": "Python 3 (ipykernel)",
   "language": "python",
   "name": "python3"
  },
  "language_info": {
   "codemirror_mode": {
    "name": "ipython",
    "version": 3
   },
   "file_extension": ".py",
   "mimetype": "text/x-python",
   "name": "python",
   "nbconvert_exporter": "python",
   "pygments_lexer": "ipython3",
   "version": "3.9.13"
  }
 },
 "nbformat": 4,
 "nbformat_minor": 5
}
