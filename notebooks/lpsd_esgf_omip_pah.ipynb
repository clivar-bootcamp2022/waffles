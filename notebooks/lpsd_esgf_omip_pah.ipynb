{
 "cells": [
  {
   "cell_type": "code",
   "execution_count": 5,
   "id": "c9a0bcdb-6a91-4658-b2f0-4d2ea0ee0e20",
   "metadata": {},
   "outputs": [
    {
     "ename": "ModuleNotFoundError",
     "evalue": "No module named 'xmip'",
     "output_type": "error",
     "traceback": [
      "\u001b[0;31m---------------------------------------------------------------------------\u001b[0m",
      "\u001b[0;31mModuleNotFoundError\u001b[0m                       Traceback (most recent call last)",
      "Input \u001b[0;32mIn [5]\u001b[0m, in \u001b[0;36m<cell line: 10>\u001b[0;34m()\u001b[0m\n\u001b[1;32m      7\u001b[0m \u001b[38;5;28;01mimport\u001b[39;00m \u001b[38;5;21;01mcartopy\u001b[39;00m\u001b[38;5;21;01m.\u001b[39;00m\u001b[38;5;21;01mcrs\u001b[39;00m \u001b[38;5;28;01mas\u001b[39;00m \u001b[38;5;21;01mccrs\u001b[39;00m\n\u001b[1;32m      9\u001b[0m \u001b[38;5;28;01mimport\u001b[39;00m \u001b[38;5;21;01mintake\u001b[39;00m\n\u001b[0;32m---> 10\u001b[0m \u001b[38;5;28;01mfrom\u001b[39;00m \u001b[38;5;21;01mxmip\u001b[39;00m\u001b[38;5;21;01m.\u001b[39;00m\u001b[38;5;21;01mpreprocessing\u001b[39;00m \u001b[38;5;28;01mimport\u001b[39;00m rename_cmip6\n\u001b[1;32m     12\u001b[0m xr\u001b[38;5;241m.\u001b[39mset_options(display_style\u001b[38;5;241m=\u001b[39m\u001b[38;5;124m'\u001b[39m\u001b[38;5;124mhtml\u001b[39m\u001b[38;5;124m'\u001b[39m)\n\u001b[1;32m     13\u001b[0m get_ipython()\u001b[38;5;241m.\u001b[39mrun_line_magic(\u001b[38;5;124m'\u001b[39m\u001b[38;5;124mmatplotlib\u001b[39m\u001b[38;5;124m'\u001b[39m, \u001b[38;5;124m'\u001b[39m\u001b[38;5;124minline\u001b[39m\u001b[38;5;124m'\u001b[39m)\n",
      "\u001b[0;31mModuleNotFoundError\u001b[0m: No module named 'xmip'"
     ]
    }
   ],
   "source": [
    "from matplotlib import pyplot as plt\n",
    "import numpy as np\n",
    "import pandas as pd\n",
    "import xarray as xr\n",
    "import cftime\n",
    "#import cmaps\n",
    "import cartopy.crs as ccrs\n",
    "\n",
    "import intake\n",
    "!conda install -c conda-forge xmip\n",
    "from xmip.preprocessing import rename_cmip6\n",
    "\n",
    "xr.set_options(display_style='html')\n",
    "%matplotlib inline\n",
    "%config InlineBackend.figure_format = 'retina' "
   ]
  },
  {
   "cell_type": "code",
   "execution_count": 1,
   "id": "1b2bc529-1e8b-433b-b7ce-a81593917b06",
   "metadata": {},
   "outputs": [],
   "source": [
    "#!/usr/bin/env python\n",
    "from __future__ import print_function\n",
    "import requests\n",
    "import xml.etree.ElementTree as ET\n",
    "import numpy\n",
    "\n",
    "# Author: Unknown\n",
    "# I got the original version from a word document published by ESGF\n",
    "# https://docs.google.com/document/d/1pxz1Kd3JHfFp8vR2JCVBfApbsHmbUQQstifhGNdc6U0/edit?usp=sharing\n",
    "\n",
    "# API AT: https://github.com/ESGF/esgf.github.io/wiki/ESGF_Search_REST_API#results-pagination\n",
    "\n",
    "def esgf_search(server=\"https://esgf-node.llnl.gov/esg-search/search\",\n",
    "                files_type=\"OPENDAP\", local_node=True, project=\"CMIP6\",\n",
    "                verbose=False, format=\"application%2Fsolr%2Bjson\",\n",
    "                use_csrf=False, **search):\n",
    "    client = requests.session()\n",
    "    payload = search\n",
    "    payload[\"project\"] = project\n",
    "    payload[\"type\"]= \"File\"\n",
    "    if local_node:\n",
    "        payload[\"distrib\"] = \"false\"\n",
    "    if use_csrf:\n",
    "        client.get(server)\n",
    "        if 'csrftoken' in client.cookies:\n",
    "            # Django 1.6 and up\n",
    "            csrftoken = client.cookies['csrftoken']\n",
    "        else:\n",
    "            # older versions\n",
    "            csrftoken = client.cookies['csrf']\n",
    "        payload[\"csrfmiddlewaretoken\"] = csrftoken\n",
    "\n",
    "    payload[\"format\"] = format\n",
    "\n",
    "    offset = 0\n",
    "    numFound = 10000\n",
    "    all_files = []\n",
    "    files_type = files_type.upper()\n",
    "    while offset < numFound:\n",
    "        payload[\"offset\"] = offset\n",
    "        url_keys = [] \n",
    "        for k in payload:\n",
    "            url_keys += [\"{}={}\".format(k, payload[k])]\n",
    "\n",
    "        url = \"{}/?{}\".format(server, \"&\".join(url_keys))\n",
    "        print(url)\n",
    "        r = client.get(url)\n",
    "        r.raise_for_status()\n",
    "        resp = r.json()[\"response\"]\n",
    "        numFound = int(resp[\"numFound\"])\n",
    "        resp = resp[\"docs\"]\n",
    "        offset += len(resp)\n",
    "        for d in resp:\n",
    "            if verbose:\n",
    "                for k in d:\n",
    "                    print(\"{}: {}\".format(k,d[k]))\n",
    "            url = d[\"url\"]\n",
    "            for f in d[\"url\"]:\n",
    "                sp = f.split(\"|\")\n",
    "                if sp[-1] == files_type:\n",
    "                    all_files.append(sp[0].split(\".html\")[0])\n",
    "    return sorted(all_files)"
   ]
  },
  {
   "cell_type": "code",
   "execution_count": 2,
   "id": "faef97aa-f8b8-4e06-8de9-307db1d64dfc",
   "metadata": {
    "scrolled": true,
    "tags": []
   },
   "outputs": [
    {
     "name": "stdout",
     "output_type": "stream",
     "text": [
      "https://esgf-node.llnl.gov/esg-search/search/?activity_id=OMIP&grid_label=gn&experiment_id=omip2&variable_id=so&nominal_resolution=25 km&project=CMIP6&type=File&distrib=false&format=application%2Fsolr%2Bjson&offset=0\n",
      "https://esgf-node.llnl.gov/esg-search/search/?activity_id=OMIP&grid_label=gn&experiment_id=omip2&variable_id=so&nominal_resolution=25 km&project=CMIP6&type=File&distrib=false&format=application%2Fsolr%2Bjson&offset=10\n",
      "https://esgf-node.llnl.gov/esg-search/search/?activity_id=OMIP&grid_label=gn&experiment_id=omip2&variable_id=so&nominal_resolution=25 km&project=CMIP6&type=File&distrib=false&format=application%2Fsolr%2Bjson&offset=20\n",
      "https://esgf-node.llnl.gov/esg-search/search/?activity_id=OMIP&grid_label=gn&experiment_id=omip2&variable_id=so&nominal_resolution=25 km&project=CMIP6&type=File&distrib=false&format=application%2Fsolr%2Bjson&offset=30\n",
      "https://esgf-node.llnl.gov/esg-search/search/?activity_id=OMIP&grid_label=gn&experiment_id=omip2&variable_id=so&nominal_resolution=25 km&project=CMIP6&type=File&distrib=false&format=application%2Fsolr%2Bjson&offset=40\n",
      "https://esgf-node.llnl.gov/esg-search/search/?activity_id=OMIP&grid_label=gn&experiment_id=omip2&variable_id=so&nominal_resolution=25 km&project=CMIP6&type=File&distrib=false&format=application%2Fsolr%2Bjson&offset=50\n",
      "https://esgf-node.llnl.gov/esg-search/search/?activity_id=OMIP&grid_label=gn&experiment_id=omip2&variable_id=so&nominal_resolution=25 km&project=CMIP6&type=File&distrib=false&format=application%2Fsolr%2Bjson&offset=60\n",
      "https://esgf-node.llnl.gov/esg-search/search/?activity_id=OMIP&grid_label=gn&experiment_id=omip2&variable_id=so&nominal_resolution=25 km&project=CMIP6&type=File&distrib=false&format=application%2Fsolr%2Bjson&offset=70\n",
      "https://esgf-node.llnl.gov/esg-search/search/?activity_id=OMIP&grid_label=gn&experiment_id=omip2&variable_id=so&nominal_resolution=25 km&project=CMIP6&type=File&distrib=false&format=application%2Fsolr%2Bjson&offset=80\n",
      "https://esgf-node.llnl.gov/esg-search/search/?activity_id=OMIP&grid_label=gn&experiment_id=omip2&variable_id=so&nominal_resolution=25 km&project=CMIP6&type=File&distrib=false&format=application%2Fsolr%2Bjson&offset=90\n",
      "https://esgf-node.llnl.gov/esg-search/search/?activity_id=OMIP&grid_label=gn&experiment_id=omip2&variable_id=so&nominal_resolution=25 km&project=CMIP6&type=File&distrib=false&format=application%2Fsolr%2Bjson&offset=100\n",
      "https://esgf-node.llnl.gov/esg-search/search/?activity_id=OMIP&grid_label=gn&experiment_id=omip2&variable_id=so&nominal_resolution=25 km&project=CMIP6&type=File&distrib=false&format=application%2Fsolr%2Bjson&offset=110\n",
      "https://esgf-node.llnl.gov/esg-search/search/?activity_id=OMIP&grid_label=gn&experiment_id=omip2&variable_id=so&nominal_resolution=25 km&project=CMIP6&type=File&distrib=false&format=application%2Fsolr%2Bjson&offset=120\n",
      "https://esgf-node.llnl.gov/esg-search/search/?activity_id=OMIP&grid_label=gn&experiment_id=omip2&variable_id=so&nominal_resolution=25 km&project=CMIP6&type=File&distrib=false&format=application%2Fsolr%2Bjson&offset=130\n",
      "https://esgf-node.llnl.gov/esg-search/search/?activity_id=OMIP&grid_label=gn&experiment_id=omip2&variable_id=so&nominal_resolution=25 km&project=CMIP6&type=File&distrib=false&format=application%2Fsolr%2Bjson&offset=140\n",
      "https://esgf-node.llnl.gov/esg-search/search/?activity_id=OMIP&grid_label=gn&experiment_id=omip2&variable_id=so&nominal_resolution=25 km&project=CMIP6&type=File&distrib=false&format=application%2Fsolr%2Bjson&offset=150\n",
      "https://esgf-node.llnl.gov/esg-search/search/?activity_id=OMIP&grid_label=gn&experiment_id=omip2&variable_id=so&nominal_resolution=25 km&project=CMIP6&type=File&distrib=false&format=application%2Fsolr%2Bjson&offset=160\n",
      "https://esgf-node.llnl.gov/esg-search/search/?activity_id=OMIP&grid_label=gn&experiment_id=omip2&variable_id=so&nominal_resolution=25 km&project=CMIP6&type=File&distrib=false&format=application%2Fsolr%2Bjson&offset=170\n",
      "https://esgf-node.llnl.gov/esg-search/search/?activity_id=OMIP&grid_label=gn&experiment_id=omip2&variable_id=so&nominal_resolution=25 km&project=CMIP6&type=File&distrib=false&format=application%2Fsolr%2Bjson&offset=180\n",
      "https://esgf-node.llnl.gov/esg-search/search/?activity_id=OMIP&grid_label=gn&experiment_id=omip2&variable_id=so&nominal_resolution=25 km&project=CMIP6&type=File&distrib=false&format=application%2Fsolr%2Bjson&offset=190\n",
      "https://esgf-node.llnl.gov/esg-search/search/?activity_id=OMIP&grid_label=gn&experiment_id=omip2&variable_id=so&nominal_resolution=25 km&project=CMIP6&type=File&distrib=false&format=application%2Fsolr%2Bjson&offset=200\n",
      "https://esgf-node.llnl.gov/esg-search/search/?activity_id=OMIP&grid_label=gn&experiment_id=omip2&variable_id=so&nominal_resolution=25 km&project=CMIP6&type=File&distrib=false&format=application%2Fsolr%2Bjson&offset=210\n",
      "https://esgf-node.llnl.gov/esg-search/search/?activity_id=OMIP&grid_label=gn&experiment_id=omip2&variable_id=so&nominal_resolution=25 km&project=CMIP6&type=File&distrib=false&format=application%2Fsolr%2Bjson&offset=220\n",
      "https://esgf-node.llnl.gov/esg-search/search/?activity_id=OMIP&grid_label=gn&experiment_id=omip2&variable_id=so&nominal_resolution=25 km&project=CMIP6&type=File&distrib=false&format=application%2Fsolr%2Bjson&offset=230\n",
      "https://esgf-node.llnl.gov/esg-search/search/?activity_id=OMIP&grid_label=gn&experiment_id=omip2&variable_id=so&nominal_resolution=25 km&project=CMIP6&type=File&distrib=false&format=application%2Fsolr%2Bjson&offset=240\n",
      "https://esgf-node.llnl.gov/esg-search/search/?activity_id=OMIP&grid_label=gn&experiment_id=omip2&variable_id=so&nominal_resolution=25 km&project=CMIP6&type=File&distrib=false&format=application%2Fsolr%2Bjson&offset=250\n",
      "https://esgf-node.llnl.gov/esg-search/search/?activity_id=OMIP&grid_label=gn&experiment_id=omip2&variable_id=so&nominal_resolution=25 km&project=CMIP6&type=File&distrib=false&format=application%2Fsolr%2Bjson&offset=260\n",
      "https://esgf-node.llnl.gov/esg-search/search/?activity_id=OMIP&grid_label=gn&experiment_id=omip2&variable_id=so&nominal_resolution=25 km&project=CMIP6&type=File&distrib=false&format=application%2Fsolr%2Bjson&offset=270\n",
      "https://esgf-node.llnl.gov/esg-search/search/?activity_id=OMIP&grid_label=gn&experiment_id=omip2&variable_id=so&nominal_resolution=25 km&project=CMIP6&type=File&distrib=false&format=application%2Fsolr%2Bjson&offset=280\n",
      "https://esgf-node.llnl.gov/esg-search/search/?activity_id=OMIP&grid_label=gn&experiment_id=omip2&variable_id=so&nominal_resolution=25 km&project=CMIP6&type=File&distrib=false&format=application%2Fsolr%2Bjson&offset=290\n",
      "https://esgf-node.llnl.gov/esg-search/search/?activity_id=OMIP&grid_label=gn&experiment_id=omip2&variable_id=so&nominal_resolution=25 km&project=CMIP6&type=File&distrib=false&format=application%2Fsolr%2Bjson&offset=300\n",
      "https://esgf-node.llnl.gov/esg-search/search/?activity_id=OMIP&grid_label=gn&experiment_id=omip2&variable_id=so&nominal_resolution=25 km&project=CMIP6&type=File&distrib=false&format=application%2Fsolr%2Bjson&offset=310\n",
      "https://esgf-node.llnl.gov/esg-search/search/?activity_id=OMIP&grid_label=gn&experiment_id=omip2&variable_id=so&nominal_resolution=25 km&project=CMIP6&type=File&distrib=false&format=application%2Fsolr%2Bjson&offset=320\n",
      "https://esgf-node.llnl.gov/esg-search/search/?activity_id=OMIP&grid_label=gn&experiment_id=omip2&variable_id=so&nominal_resolution=25 km&project=CMIP6&type=File&distrib=false&format=application%2Fsolr%2Bjson&offset=330\n",
      "https://esgf-node.llnl.gov/esg-search/search/?activity_id=OMIP&grid_label=gn&experiment_id=omip2&variable_id=so&nominal_resolution=25 km&project=CMIP6&type=File&distrib=false&format=application%2Fsolr%2Bjson&offset=340\n",
      "https://esgf-node.llnl.gov/esg-search/search/?activity_id=OMIP&grid_label=gn&experiment_id=omip2&variable_id=so&nominal_resolution=25 km&project=CMIP6&type=File&distrib=false&format=application%2Fsolr%2Bjson&offset=350\n",
      "https://esgf-node.llnl.gov/esg-search/search/?activity_id=OMIP&grid_label=gn&experiment_id=omip2&variable_id=so&nominal_resolution=25 km&project=CMIP6&type=File&distrib=false&format=application%2Fsolr%2Bjson&offset=360\n",
      "https://esgf-node.llnl.gov/esg-search/search/?activity_id=OMIP&grid_label=gn&experiment_id=omip2&variable_id=so&nominal_resolution=25 km&project=CMIP6&type=File&distrib=false&format=application%2Fsolr%2Bjson&offset=370\n",
      "https://esgf-node.llnl.gov/esg-search/search/?activity_id=OMIP&grid_label=gn&experiment_id=omip2&variable_id=so&nominal_resolution=25 km&project=CMIP6&type=File&distrib=false&format=application%2Fsolr%2Bjson&offset=380\n",
      "https://esgf-node.llnl.gov/esg-search/search/?activity_id=OMIP&grid_label=gn&experiment_id=omip2&variable_id=so&nominal_resolution=25 km&project=CMIP6&type=File&distrib=false&format=application%2Fsolr%2Bjson&offset=390\n",
      "https://esgf-node.llnl.gov/esg-search/search/?activity_id=OMIP&grid_label=gn&experiment_id=omip2&variable_id=so&nominal_resolution=25 km&project=CMIP6&type=File&distrib=false&format=application%2Fsolr%2Bjson&offset=400\n",
      "https://esgf-node.llnl.gov/esg-search/search/?activity_id=OMIP&grid_label=gn&experiment_id=omip2&variable_id=so&nominal_resolution=25 km&project=CMIP6&type=File&distrib=false&format=application%2Fsolr%2Bjson&offset=410\n",
      "https://esgf-node.llnl.gov/esg-search/search/?activity_id=OMIP&grid_label=gn&experiment_id=omip2&variable_id=so&nominal_resolution=25 km&project=CMIP6&type=File&distrib=false&format=application%2Fsolr%2Bjson&offset=420\n",
      "https://esgf-node.llnl.gov/esg-search/search/?activity_id=OMIP&grid_label=gn&experiment_id=omip2&variable_id=so&nominal_resolution=25 km&project=CMIP6&type=File&distrib=false&format=application%2Fsolr%2Bjson&offset=430\n",
      "https://esgf-node.llnl.gov/esg-search/search/?activity_id=OMIP&grid_label=gn&experiment_id=omip2&variable_id=so&nominal_resolution=25 km&project=CMIP6&type=File&distrib=false&format=application%2Fsolr%2Bjson&offset=440\n",
      "https://esgf-node.llnl.gov/esg-search/search/?activity_id=OMIP&grid_label=gn&experiment_id=omip2&variable_id=so&nominal_resolution=25 km&project=CMIP6&type=File&distrib=false&format=application%2Fsolr%2Bjson&offset=450\n",
      "https://esgf-node.llnl.gov/esg-search/search/?activity_id=OMIP&grid_label=gn&experiment_id=omip2&variable_id=so&nominal_resolution=25 km&project=CMIP6&type=File&distrib=false&format=application%2Fsolr%2Bjson&offset=460\n",
      "https://esgf-node.llnl.gov/esg-search/search/?activity_id=OMIP&grid_label=gn&experiment_id=omip2&variable_id=so&nominal_resolution=25 km&project=CMIP6&type=File&distrib=false&format=application%2Fsolr%2Bjson&offset=470\n"
     ]
    },
    {
     "data": {
      "text/plain": [
       "475"
      ]
     },
     "execution_count": 2,
     "metadata": {},
     "output_type": "execute_result"
    }
   ],
   "source": [
    "result = esgf_search(activity_id='OMIP', grid_label='gn', experiment_id='omip2', variable_id='so', nominal_resolution = '25 km')\n",
    "\n",
    "\n",
    "#result = esgf_search(activity_id='OMIP', experiment_id='omip2', variable_id='so', source_id = 'ACCESS-OM2-025')\n",
    "\n",
    "#result = esgf_search(activity_id='OMIP', grid_label='gn', experiment_id='omip2',\n",
    "#                      variable_id='so', table_id='Omon', source_id = ['CMCC-CM2-HR4', 'ACCESS-OM2-025']) #institution_id = ['CMCC', 'CSIRO-COSIMA']) #, nominal_resolution = ['25 km']) #, source_id = ['CMCC-CM2-HR4', 'ACCESS-OM2-025'])\n",
    "#                    #table_id=['Oday', 'SImon', 'Ofx']) \n",
    "len(result)"
   ]
  },
  {
   "cell_type": "code",
   "execution_count": null,
   "id": "74e1c1e7-3852-4552-b6ab-878f9110f522",
   "metadata": {},
   "outputs": [],
   "source": [
    "\n"
   ]
  },
  {
   "cell_type": "code",
   "execution_count": 3,
   "id": "99ec87db-53f9-4eb1-88bb-682060e9d2ea",
   "metadata": {},
   "outputs": [],
   "source": [
    "\n",
    "#url = \"https://storage.googleapis.com/cmip6/pangeo-cmip6.json\"\n",
    "#col = intake.open_esm_datastore(url)\n",
    "\n",
    "\n",
    "### load a few models to illustrate the problem\n",
    "#query = dict(activity_id='OMIP', grid_label='gn', experiment_id='omip2', variable_id='so', nominal_resolution = '25 km')\n",
    "#cat = col.search(**query)\n",
    "\n",
    "#cat.df['source_id'].unique()\n",
    "\n",
    "## show coordinates\n",
    "#for k, ds in dset_dict.items():\n",
    "#    print(k)\n",
    "#    print(list(ds.dims))"
   ]
  },
  {
   "cell_type": "code",
   "execution_count": 17,
   "id": "d086432b-fe47-45f0-a961-42005ffda286",
   "metadata": {},
   "outputs": [],
   "source": [
    "#files_to_open = result[-1]"
   ]
  },
  {
   "cell_type": "code",
   "execution_count": 6,
   "id": "1c4b7044-1021-479d-bbce-d69072f4a658",
   "metadata": {},
   "outputs": [
    {
     "name": "stderr",
     "output_type": "stream",
     "text": [
      "/srv/conda/envs/notebook/lib/python3.9/site-packages/xarray/coding/times.py:682: SerializationWarning: Unable to decode time axis into full numpy.datetime64 objects, continuing using cftime.datetime objects instead, reason: dates out of range\n",
      "  dtype = _decode_cf_datetime_dtype(data, units, calendar, self.use_cftime)\n",
      "/srv/conda/envs/notebook/lib/python3.9/site-packages/xarray/core/indexing.py:524: SerializationWarning: Unable to decode time axis into full numpy.datetime64 objects, continuing using cftime.datetime objects instead, reason: dates out of range\n",
      "  return np.asarray(array[self.key], dtype=None)\n"
     ]
    },
    {
     "ename": "TypeError",
     "evalue": "Cannot combine along dimension 'time' with mixed types. Found: DatetimeProlepticGregorian, DatetimeNoLeap. If importing data directly from a file then setting `use_cftime=True` may fix this issue.",
     "output_type": "error",
     "traceback": [
      "\u001b[0;31m---------------------------------------------------------------------------\u001b[0m",
      "\u001b[0;31mTypeError\u001b[0m                                 Traceback (most recent call last)",
      "Input \u001b[0;32mIn [6]\u001b[0m, in \u001b[0;36m<cell line: 1>\u001b[0;34m()\u001b[0m\n\u001b[0;32m----> 1\u001b[0m ds \u001b[38;5;241m=\u001b[39m \u001b[43mxr\u001b[49m\u001b[38;5;241;43m.\u001b[39;49m\u001b[43mopen_mfdataset\u001b[49m\u001b[43m(\u001b[49m\u001b[43mresult\u001b[49m\u001b[43m,\u001b[49m\u001b[43m \u001b[49m\u001b[43mcombine\u001b[49m\u001b[38;5;241;43m=\u001b[39;49m\u001b[38;5;124;43m'\u001b[39;49m\u001b[38;5;124;43mby_coords\u001b[39;49m\u001b[38;5;124;43m'\u001b[39;49m\u001b[43m)\u001b[49m\n\u001b[1;32m      2\u001b[0m \u001b[38;5;66;03m#ds = xr.open_mfdataset(files_to_open, combine='by_coords')\u001b[39;00m\n\u001b[1;32m      3\u001b[0m ds\n",
      "File \u001b[0;32m/srv/conda/envs/notebook/lib/python3.9/site-packages/xarray/backends/api.py:1000\u001b[0m, in \u001b[0;36mopen_mfdataset\u001b[0;34m(paths, chunks, concat_dim, compat, preprocess, engine, data_vars, coords, combine, parallel, join, attrs_file, combine_attrs, **kwargs)\u001b[0m\n\u001b[1;32m    987\u001b[0m     combined \u001b[38;5;241m=\u001b[39m _nested_combine(\n\u001b[1;32m    988\u001b[0m         datasets,\n\u001b[1;32m    989\u001b[0m         concat_dims\u001b[38;5;241m=\u001b[39mconcat_dim,\n\u001b[0;32m   (...)\u001b[0m\n\u001b[1;32m    995\u001b[0m         combine_attrs\u001b[38;5;241m=\u001b[39mcombine_attrs,\n\u001b[1;32m    996\u001b[0m     )\n\u001b[1;32m    997\u001b[0m \u001b[38;5;28;01melif\u001b[39;00m combine \u001b[38;5;241m==\u001b[39m \u001b[38;5;124m\"\u001b[39m\u001b[38;5;124mby_coords\u001b[39m\u001b[38;5;124m\"\u001b[39m:\n\u001b[1;32m    998\u001b[0m     \u001b[38;5;66;03m# Redo ordering from coordinates, ignoring how they were ordered\u001b[39;00m\n\u001b[1;32m    999\u001b[0m     \u001b[38;5;66;03m# previously\u001b[39;00m\n\u001b[0;32m-> 1000\u001b[0m     combined \u001b[38;5;241m=\u001b[39m \u001b[43mcombine_by_coords\u001b[49m\u001b[43m(\u001b[49m\n\u001b[1;32m   1001\u001b[0m \u001b[43m        \u001b[49m\u001b[43mdatasets\u001b[49m\u001b[43m,\u001b[49m\n\u001b[1;32m   1002\u001b[0m \u001b[43m        \u001b[49m\u001b[43mcompat\u001b[49m\u001b[38;5;241;43m=\u001b[39;49m\u001b[43mcompat\u001b[49m\u001b[43m,\u001b[49m\n\u001b[1;32m   1003\u001b[0m \u001b[43m        \u001b[49m\u001b[43mdata_vars\u001b[49m\u001b[38;5;241;43m=\u001b[39;49m\u001b[43mdata_vars\u001b[49m\u001b[43m,\u001b[49m\n\u001b[1;32m   1004\u001b[0m \u001b[43m        \u001b[49m\u001b[43mcoords\u001b[49m\u001b[38;5;241;43m=\u001b[39;49m\u001b[43mcoords\u001b[49m\u001b[43m,\u001b[49m\n\u001b[1;32m   1005\u001b[0m \u001b[43m        \u001b[49m\u001b[43mjoin\u001b[49m\u001b[38;5;241;43m=\u001b[39;49m\u001b[43mjoin\u001b[49m\u001b[43m,\u001b[49m\n\u001b[1;32m   1006\u001b[0m \u001b[43m        \u001b[49m\u001b[43mcombine_attrs\u001b[49m\u001b[38;5;241;43m=\u001b[39;49m\u001b[43mcombine_attrs\u001b[49m\u001b[43m,\u001b[49m\n\u001b[1;32m   1007\u001b[0m \u001b[43m    \u001b[49m\u001b[43m)\u001b[49m\n\u001b[1;32m   1008\u001b[0m \u001b[38;5;28;01melse\u001b[39;00m:\n\u001b[1;32m   1009\u001b[0m     \u001b[38;5;28;01mraise\u001b[39;00m \u001b[38;5;167;01mValueError\u001b[39;00m(\n\u001b[1;32m   1010\u001b[0m         \u001b[38;5;124m\"\u001b[39m\u001b[38;5;132;01m{}\u001b[39;00m\u001b[38;5;124m is an invalid option for the keyword argument\u001b[39m\u001b[38;5;124m\"\u001b[39m\n\u001b[1;32m   1011\u001b[0m         \u001b[38;5;124m\"\u001b[39m\u001b[38;5;124m ``combine``\u001b[39m\u001b[38;5;124m\"\u001b[39m\u001b[38;5;241m.\u001b[39mformat(combine)\n\u001b[1;32m   1012\u001b[0m     )\n",
      "File \u001b[0;32m/srv/conda/envs/notebook/lib/python3.9/site-packages/xarray/core/combine.py:982\u001b[0m, in \u001b[0;36mcombine_by_coords\u001b[0;34m(data_objects, compat, data_vars, coords, fill_value, join, combine_attrs, datasets)\u001b[0m\n\u001b[1;32m    980\u001b[0m     concatenated_grouped_by_data_vars \u001b[38;5;241m=\u001b[39m []\n\u001b[1;32m    981\u001b[0m     \u001b[38;5;28;01mfor\u001b[39;00m \u001b[38;5;28mvars\u001b[39m, datasets_with_same_vars \u001b[38;5;129;01min\u001b[39;00m grouped_by_vars:\n\u001b[0;32m--> 982\u001b[0m         concatenated \u001b[38;5;241m=\u001b[39m \u001b[43m_combine_single_variable_hypercube\u001b[49m\u001b[43m(\u001b[49m\n\u001b[1;32m    983\u001b[0m \u001b[43m            \u001b[49m\u001b[38;5;28;43mlist\u001b[39;49m\u001b[43m(\u001b[49m\u001b[43mdatasets_with_same_vars\u001b[49m\u001b[43m)\u001b[49m\u001b[43m,\u001b[49m\n\u001b[1;32m    984\u001b[0m \u001b[43m            \u001b[49m\u001b[43mfill_value\u001b[49m\u001b[38;5;241;43m=\u001b[39;49m\u001b[43mfill_value\u001b[49m\u001b[43m,\u001b[49m\n\u001b[1;32m    985\u001b[0m \u001b[43m            \u001b[49m\u001b[43mdata_vars\u001b[49m\u001b[38;5;241;43m=\u001b[39;49m\u001b[43mdata_vars\u001b[49m\u001b[43m,\u001b[49m\n\u001b[1;32m    986\u001b[0m \u001b[43m            \u001b[49m\u001b[43mcoords\u001b[49m\u001b[38;5;241;43m=\u001b[39;49m\u001b[43mcoords\u001b[49m\u001b[43m,\u001b[49m\n\u001b[1;32m    987\u001b[0m \u001b[43m            \u001b[49m\u001b[43mcompat\u001b[49m\u001b[38;5;241;43m=\u001b[39;49m\u001b[43mcompat\u001b[49m\u001b[43m,\u001b[49m\n\u001b[1;32m    988\u001b[0m \u001b[43m            \u001b[49m\u001b[43mjoin\u001b[49m\u001b[38;5;241;43m=\u001b[39;49m\u001b[43mjoin\u001b[49m\u001b[43m,\u001b[49m\n\u001b[1;32m    989\u001b[0m \u001b[43m            \u001b[49m\u001b[43mcombine_attrs\u001b[49m\u001b[38;5;241;43m=\u001b[39;49m\u001b[43mcombine_attrs\u001b[49m\u001b[43m,\u001b[49m\n\u001b[1;32m    990\u001b[0m \u001b[43m        \u001b[49m\u001b[43m)\u001b[49m\n\u001b[1;32m    991\u001b[0m         concatenated_grouped_by_data_vars\u001b[38;5;241m.\u001b[39mappend(concatenated)\n\u001b[1;32m    993\u001b[0m \u001b[38;5;28;01mreturn\u001b[39;00m merge(\n\u001b[1;32m    994\u001b[0m     concatenated_grouped_by_data_vars,\n\u001b[1;32m    995\u001b[0m     compat\u001b[38;5;241m=\u001b[39mcompat,\n\u001b[0;32m   (...)\u001b[0m\n\u001b[1;32m    998\u001b[0m     combine_attrs\u001b[38;5;241m=\u001b[39mcombine_attrs,\n\u001b[1;32m    999\u001b[0m )\n",
      "File \u001b[0;32m/srv/conda/envs/notebook/lib/python3.9/site-packages/xarray/core/combine.py:629\u001b[0m, in \u001b[0;36m_combine_single_variable_hypercube\u001b[0;34m(datasets, fill_value, data_vars, coords, compat, join, combine_attrs)\u001b[0m\n\u001b[1;32m    623\u001b[0m \u001b[38;5;28;01mif\u001b[39;00m \u001b[38;5;28mlen\u001b[39m(datasets) \u001b[38;5;241m==\u001b[39m \u001b[38;5;241m0\u001b[39m:\n\u001b[1;32m    624\u001b[0m     \u001b[38;5;28;01mraise\u001b[39;00m \u001b[38;5;167;01mValueError\u001b[39;00m(\n\u001b[1;32m    625\u001b[0m         \u001b[38;5;124m\"\u001b[39m\u001b[38;5;124mAt least one Dataset is required to resolve variable names \u001b[39m\u001b[38;5;124m\"\u001b[39m\n\u001b[1;32m    626\u001b[0m         \u001b[38;5;124m\"\u001b[39m\u001b[38;5;124mfor combined hypercube.\u001b[39m\u001b[38;5;124m\"\u001b[39m\n\u001b[1;32m    627\u001b[0m     )\n\u001b[0;32m--> 629\u001b[0m combined_ids, concat_dims \u001b[38;5;241m=\u001b[39m \u001b[43m_infer_concat_order_from_coords\u001b[49m\u001b[43m(\u001b[49m\u001b[38;5;28;43mlist\u001b[39;49m\u001b[43m(\u001b[49m\u001b[43mdatasets\u001b[49m\u001b[43m)\u001b[49m\u001b[43m)\u001b[49m\n\u001b[1;32m    631\u001b[0m \u001b[38;5;28;01mif\u001b[39;00m fill_value \u001b[38;5;129;01mis\u001b[39;00m \u001b[38;5;28;01mNone\u001b[39;00m:\n\u001b[1;32m    632\u001b[0m     \u001b[38;5;66;03m# check that datasets form complete hypercube\u001b[39;00m\n\u001b[1;32m    633\u001b[0m     _check_shape_tile_ids(combined_ids)\n",
      "File \u001b[0;32m/srv/conda/envs/notebook/lib/python3.9/site-packages/xarray/core/combine.py:131\u001b[0m, in \u001b[0;36m_infer_concat_order_from_coords\u001b[0;34m(datasets)\u001b[0m\n\u001b[1;32m    128\u001b[0m series \u001b[38;5;241m=\u001b[39m first_items\u001b[38;5;241m.\u001b[39mto_series()\n\u001b[1;32m    130\u001b[0m \u001b[38;5;66;03m# ensure series does not contain mixed types, e.g. cftime calendars\u001b[39;00m\n\u001b[0;32m--> 131\u001b[0m \u001b[43m_ensure_same_types\u001b[49m\u001b[43m(\u001b[49m\u001b[43mseries\u001b[49m\u001b[43m,\u001b[49m\u001b[43m \u001b[49m\u001b[43mdim\u001b[49m\u001b[43m)\u001b[49m\n\u001b[1;32m    133\u001b[0m \u001b[38;5;66;03m# Sort datasets along dim\u001b[39;00m\n\u001b[1;32m    134\u001b[0m \u001b[38;5;66;03m# We want rank but with identical elements given identical\u001b[39;00m\n\u001b[1;32m    135\u001b[0m \u001b[38;5;66;03m# position indices - they should be concatenated along another\u001b[39;00m\n\u001b[1;32m    136\u001b[0m \u001b[38;5;66;03m# dimension, not along this one\u001b[39;00m\n\u001b[1;32m    137\u001b[0m rank \u001b[38;5;241m=\u001b[39m series\u001b[38;5;241m.\u001b[39mrank(\n\u001b[1;32m    138\u001b[0m     method\u001b[38;5;241m=\u001b[39m\u001b[38;5;124m\"\u001b[39m\u001b[38;5;124mdense\u001b[39m\u001b[38;5;124m\"\u001b[39m, ascending\u001b[38;5;241m=\u001b[39mascending, numeric_only\u001b[38;5;241m=\u001b[39m\u001b[38;5;28;01mFalse\u001b[39;00m\n\u001b[1;32m    139\u001b[0m )\n",
      "File \u001b[0;32m/srv/conda/envs/notebook/lib/python3.9/site-packages/xarray/core/combine.py:78\u001b[0m, in \u001b[0;36m_ensure_same_types\u001b[0;34m(series, dim)\u001b[0m\n\u001b[1;32m     72\u001b[0m \u001b[38;5;28;01mif\u001b[39;00m cftimes:\n\u001b[1;32m     73\u001b[0m     error_msg \u001b[38;5;241m=\u001b[39m (\n\u001b[1;32m     74\u001b[0m         \u001b[38;5;124mf\u001b[39m\u001b[38;5;124m\"\u001b[39m\u001b[38;5;132;01m{\u001b[39;00merror_msg\u001b[38;5;132;01m}\u001b[39;00m\u001b[38;5;124m If importing data directly from a file then \u001b[39m\u001b[38;5;124m\"\u001b[39m\n\u001b[1;32m     75\u001b[0m         \u001b[38;5;124mf\u001b[39m\u001b[38;5;124m\"\u001b[39m\u001b[38;5;124msetting `use_cftime=True` may fix this issue.\u001b[39m\u001b[38;5;124m\"\u001b[39m\n\u001b[1;32m     76\u001b[0m     )\n\u001b[0;32m---> 78\u001b[0m \u001b[38;5;28;01mraise\u001b[39;00m \u001b[38;5;167;01mTypeError\u001b[39;00m(error_msg)\n",
      "\u001b[0;31mTypeError\u001b[0m: Cannot combine along dimension 'time' with mixed types. Found: DatetimeProlepticGregorian, DatetimeNoLeap. If importing data directly from a file then setting `use_cftime=True` may fix this issue."
     ]
    }
   ],
   "source": [
    "ds = xr.open_mfdataset(result, combine='by_coords')\n",
    "#ds = xr.open_mfdataset(files_to_open, combine='by_coords')\n",
    "ds"
   ]
  },
  {
   "cell_type": "code",
   "execution_count": null,
   "id": "a25a0653-919b-46ed-bc58-b0de04287995",
   "metadata": {},
   "outputs": [],
   "source": [
    "ds = rename_cmip6(ds)\n",
    "ds"
   ]
  },
  {
   "cell_type": "code",
   "execution_count": null,
   "id": "0392a012-8315-4f53-a675-43d579d41fa6",
   "metadata": {},
   "outputs": [],
   "source": []
  }
 ],
 "metadata": {
  "kernelspec": {
   "display_name": "Python 3 (ipykernel)",
   "language": "python",
   "name": "python3"
  },
  "language_info": {
   "codemirror_mode": {
    "name": "ipython",
    "version": 3
   },
   "file_extension": ".py",
   "mimetype": "text/x-python",
   "name": "python",
   "nbconvert_exporter": "python",
   "pygments_lexer": "ipython3",
   "version": "3.9.13"
  }
 },
 "nbformat": 4,
 "nbformat_minor": 5
}
