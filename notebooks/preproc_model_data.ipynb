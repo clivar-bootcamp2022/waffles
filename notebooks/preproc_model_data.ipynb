{
 "cells": [
  {
   "cell_type": "markdown",
   "id": "41e696f4-dffb-4d80-b022-8538ced9bae8",
   "metadata": {},
   "source": [
    "# Preprocess OMIP2 Model Output\n",
    "This notebook:\n",
    "1. Generates a catalog of OMIP2 simulations from the ESGF Search Catalog that are:\n",
    "    1. On the native grid\n",
    "    2. Have the varaibles:\n",
    "        1. `umo`\n",
    "        2. `vmo`\n",
    "        3. `so`\n",
    "        4. `thetao`\n",
    "        5. `zos`\n",
    "        6. `mlotst`\n",
    "        7. `siconc`\n",
    "        8. `deptho`\n",
    "        9. `areacello`\n",
    "    3. At monthly time steps\n",
    "2. Keeps only the monthly variable files that are for the last 61 years of the simulation\n",
    "3. For each simulation:\n",
    "    1. Clean up model data using `XMIP` to deal with:\n",
    "        1. Inconsistent naming of dimensions and coordinates\n",
    "        2. Inconsistent values,shape and dataset location of coordinates\n",
    "        3. Inconsistent longitude conventions\n",
    "        4. Inconsistent units\n",
    "        5. Inconsistent longitude/latitude bounds\n",
    "    4. Extract a subset of each model output for the Pan-Arctic Region (lat > 50N)\n",
    "    5. Save the subset on a local machine"
   ]
  },
  {
   "cell_type": "code",
   "execution_count": null,
   "id": "d8b2ceba-048c-4ee9-9cd0-5757d4cfb737",
   "metadata": {},
   "outputs": [],
   "source": []
  }
 ],
 "metadata": {
  "kernelspec": {
   "display_name": "Python [conda env:notebook] *",
   "language": "python",
   "name": "conda-env-notebook-py"
  },
  "language_info": {
   "codemirror_mode": {
    "name": "ipython",
    "version": 3
   },
   "file_extension": ".py",
   "mimetype": "text/x-python",
   "name": "python",
   "nbconvert_exporter": "python",
   "pygments_lexer": "ipython3",
   "version": "3.9.13"
  }
 },
 "nbformat": 4,
 "nbformat_minor": 5
}
