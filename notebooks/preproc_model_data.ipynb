{
 "cells": [
  {
   "cell_type": "markdown",
   "id": "41e696f4-dffb-4d80-b022-8538ced9bae8",
   "metadata": {},
   "source": [
    "# Preprocess OMIP2 Model Output"
   ]
  },
  {
   "cell_type": "code",
   "execution_count": null,
   "id": "b5ce885c-a799-43c7-b76f-2efff841bf6d",
   "metadata": {},
   "outputs": [],
   "source": [
    "pip install xmip"
   ]
  },
  {
   "cell_type": "markdown",
   "id": "585234a8-5ea7-4dba-91d5-98dd64a20b9e",
   "metadata": {
    "tags": []
   },
   "source": [
    "## Import packages"
   ]
  },
  {
   "cell_type": "code",
   "execution_count": 1,
   "id": "9dca5d81-2c3c-474e-b5a4-8dbd733aa097",
   "metadata": {
    "tags": []
   },
   "outputs": [],
   "source": [
    "%matplotlib inline\n",
    "import numpy as np\n",
    "import xarray as xr\n",
    "import s3fs\n",
    "import zarr\n",
    "import dask\n",
    "import xmip.preprocessing as xmip\n",
    "import warnings\n",
    "warnings.filterwarnings('ignore')"
   ]
  },
  {
   "cell_type": "markdown",
   "id": "a50774cd-05b4-40b2-aa12-27902b0842b0",
   "metadata": {},
   "source": [
    "## Create a new Dask cluster with the Dask Gateway"
   ]
  },
  {
   "cell_type": "code",
   "execution_count": 2,
   "id": "05e47109-52d7-44f6-a780-3c36571ce6a3",
   "metadata": {
    "tags": [
     "skip-execution"
    ]
   },
   "outputs": [],
   "source": [
    "from dask_gateway import Gateway\n",
    "gateway = Gateway()"
   ]
  },
  {
   "cell_type": "code",
   "execution_count": 23,
   "id": "8fe812a8-8f7f-4f3c-8e17-5ccf5aff0786",
   "metadata": {},
   "outputs": [
    {
     "name": "stdout",
     "output_type": "stream",
     "text": [
      "[]\n"
     ]
    }
   ],
   "source": [
    "##A line of trick to clean your dask cluster before you start your computation\n",
    "from dask.distributed import Client\n",
    "clusters=gateway.list_clusters()\n",
    "print(clusters )\n",
    "for cluster in clusters :\n",
    "    cluster= gateway.connect(cluster.name)\n",
    "    print(cluster)\n",
    "    client = Client(cluster)\n",
    "    client.close()\n",
    "    cluster.shutdown()"
   ]
  },
  {
   "cell_type": "code",
   "execution_count": 4,
   "id": "29b7e591-5174-4a5c-b075-3f41ff7afad2",
   "metadata": {
    "tags": [
     "skip-execution"
    ]
   },
   "outputs": [
    {
     "data": {
      "application/vnd.jupyter.widget-view+json": {
       "model_id": "691ee2314bcb42679920073810bc2b49",
       "version_major": 2,
       "version_minor": 0
      },
      "text/plain": [
       "VBox(children=(HTML(value='<h2>GatewayCluster</h2>'), HBox(children=(HTML(value='\\n<div>\\n<style scoped>\\n    …"
      ]
     },
     "metadata": {},
     "output_type": "display_data"
    }
   ],
   "source": [
    "cluster = gateway.new_cluster(worker_memory=2, worker_cores=1)\n",
    "\n",
    "cluster.scale(8)\n",
    "cluster"
   ]
  },
  {
   "cell_type": "markdown",
   "id": "4868bdd0-fcc1-4c4a-bedb-073997c1231c",
   "metadata": {
    "tags": []
   },
   "source": [
    "## Get a client from the Dask Gateway Cluster\n",
    "\n",
    "As stated above, creating a Dask `Client` is mandatory in order to perform following Daks computations on your Dask Cluster."
   ]
  },
  {
   "cell_type": "code",
   "execution_count": 5,
   "id": "24c27e68-a4a6-4bcc-8bc9-f3d032718a90",
   "metadata": {},
   "outputs": [
    {
     "data": {
      "text/html": [
       "<div>\n",
       "    <div style=\"width: 24px; height: 24px; background-color: #e1e1e1; border: 3px solid #9D9D9D; border-radius: 5px; position: absolute;\"> </div>\n",
       "    <div style=\"margin-left: 48px;\">\n",
       "        <h3 style=\"margin-bottom: 0px;\">Client</h3>\n",
       "        <p style=\"color: #9D9D9D; margin-bottom: 0px;\">Client-e971bc18-5f79-11ed-858d-e60f0c4fb13c</p>\n",
       "        <table style=\"width: 100%; text-align: left;\">\n",
       "\n",
       "        <tr>\n",
       "        \n",
       "            <td style=\"text-align: left;\"><strong>Connection method:</strong> Cluster object</td>\n",
       "            <td style=\"text-align: left;\"><strong>Cluster type:</strong> dask_gateway.GatewayCluster</td>\n",
       "        \n",
       "        </tr>\n",
       "\n",
       "        \n",
       "            <tr>\n",
       "                <td style=\"text-align: left;\">\n",
       "                    <strong>Dashboard: </strong> <a href=\"/jupyterhub/services/dask-gateway/clusters/daskhub.b1b7b935f3214a169bd90e122436c57d/status\" target=\"_blank\">/jupyterhub/services/dask-gateway/clusters/daskhub.b1b7b935f3214a169bd90e122436c57d/status</a>\n",
       "                </td>\n",
       "                <td style=\"text-align: left;\"></td>\n",
       "            </tr>\n",
       "        \n",
       "\n",
       "        </table>\n",
       "\n",
       "        \n",
       "            <details>\n",
       "            <summary style=\"margin-bottom: 20px;\"><h3 style=\"display: inline;\">Cluster Info</h3></summary>\n",
       "            <div style='background-color: #f2f2f2; display: inline-block; padding: 10px; border: 1px solid #999999;'>\n",
       "  <h3>GatewayCluster</h3>\n",
       "  <ul>\n",
       "    <li><b>Name: </b>daskhub.b1b7b935f3214a169bd90e122436c57d\n",
       "    <li><b>Dashboard: </b><a href='/jupyterhub/services/dask-gateway/clusters/daskhub.b1b7b935f3214a169bd90e122436c57d/status' target='_blank'>/jupyterhub/services/dask-gateway/clusters/daskhub.b1b7b935f3214a169bd90e122436c57d/status</a>\n",
       "  </ul>\n",
       "</div>\n",
       "\n",
       "            </details>\n",
       "        \n",
       "\n",
       "    </div>\n",
       "</div>"
      ],
      "text/plain": [
       "<Client: 'tls://10.244.29.49:8786' processes=0 threads=0, memory=0 B>"
      ]
     },
     "execution_count": 5,
     "metadata": {},
     "output_type": "execute_result"
    }
   ],
   "source": [
    "from distributed import Client\n",
    "\n",
    "if cluster:\n",
    "    client = Client(cluster) # create a dask Gateway cluster\n",
    "else:\n",
    "    client = Client()   # create a local dask cluster on the machine.\n",
    "client"
   ]
  },
  {
   "cell_type": "markdown",
   "id": "6a9e17db-c371-4b74-a554-6dd2c9c7a538",
   "metadata": {
    "tags": []
   },
   "source": [
    "## Open dictionary of OMIP2 simulations\n",
    "With file lists taken from the ESGF Search Catalog with the following search requirements:\n",
    "1. On the native grid\n",
    "2. Have the varaibles:`umo`, `vmo`, `so`, `thetao`, `zos`, `mlotst`, `siconc`, `deptho`, `areacello`\n",
    "3. At monthly time steps\n",
    "4. The last 61 years of the simulation"
   ]
  },
  {
   "cell_type": "code",
   "execution_count": 6,
   "id": "2ac5fd69-477e-471d-8f58-4c3b34eacbe2",
   "metadata": {},
   "outputs": [],
   "source": [
    "# Load in file of model names and fnames\n",
    "model_fnames_dict = np.load(\"models.npy\", allow_pickle=True).item()"
   ]
  },
  {
   "cell_type": "markdown",
   "id": "7aa6daaa-6363-4276-a6fc-6382ba4a6ca9",
   "metadata": {},
   "source": [
    "## Function for writing zarr file to bucket"
   ]
  },
  {
   "cell_type": "code",
   "execution_count": 7,
   "id": "41411b1b-185b-4803-a7b4-ed1a67640fdd",
   "metadata": {},
   "outputs": [],
   "source": [
    "def write_dataset_to_zarr(ds,sim_name):\n",
    "    # set path on bucket\n",
    "    path='WAFFLES/OMIP2/'\n",
    "    s3_prefix = \"s3://\" + path\n",
    "    print(s3_prefix)\n",
    "    \n",
    "    # get storage keys\n",
    "    access_key = !aws configure get aws_access_key_id\n",
    "    access_key = access_key[0]\n",
    "    secret_key = !aws configure get aws_secret_access_key\n",
    "    secret_key = secret_key[0]\n",
    "    \n",
    "    # set storage target\n",
    "    client_kwargs = {'endpoint_url': 'https://object-store.cloud.muni.cz'}\n",
    "    target = s3fs.S3FileSystem(anon=False,client_kwargs=client_kwargs)\n",
    "    \n",
    "    # make file name for variable in simulation\n",
    "    zarr_file_name = sim_name\n",
    "    uri = f\"{s3_prefix}/{zarr_file_name}\"\n",
    "    \n",
    "    # get store argument for zarr\n",
    "    store = zarr.storage.FSStore(uri,client_kwargs=client_kwargs,\n",
    "                                 key=access_key, secret=secret_key)\n",
    "    \n",
    "    # write variable to zarr\n",
    "    %time ds.to_zarr(store=store,mode='w',consolidated=True)\n",
    "    \n",
    "    return"
   ]
  },
  {
   "cell_type": "markdown",
   "id": "fa48f420-57c6-4602-84d3-c1c1fe2ebe62",
   "metadata": {},
   "source": [
    "## Function for reading from zarr bucket"
   ]
  },
  {
   "cell_type": "code",
   "execution_count": 8,
   "id": "8698dd0b-7655-4a99-a33a-61ed0ef32b16",
   "metadata": {
    "tags": []
   },
   "outputs": [],
   "source": [
    "def read_dataset_from_zarr(sim_name):\n",
    "    # set path on bucket\n",
    "    path='WAFFLES/OMIP2/'\n",
    "    s3_prefix = \"s3://\" + path\n",
    "    print(s3_prefix)\n",
    "    \n",
    "    # get storage keys\n",
    "    access_key = !aws configure get aws_access_key_id\n",
    "    access_key = access_key[0]\n",
    "    secret_key = !aws configure get aws_secret_access_key\n",
    "    secret_key = secret_key[0]\n",
    "    \n",
    "    # set storage target\n",
    "    client_kwargs={'endpoint_url': 'https://object-store.cloud.muni.cz'}\n",
    "    target = s3fs.S3FileSystem(anon=False,client_kwargs=client_kwargs)\n",
    "    \n",
    "    # file name for simulation\n",
    "    zarr_file_name = sim_name\n",
    "    uri = f\"{s3_prefix}/{zarr_file_name}\"\n",
    "    \n",
    "    # get store argument for zarr\n",
    "    store = zarr.storage.FSStore(uri,client_kwargs=client_kwargs,\n",
    "                                 key=access_key, secret=secret_key)\n",
    "    \n",
    "    # read variable from zarr\n",
    "    ds=xr.open_zarr(store=store)\n",
    "    \n",
    "    return ds"
   ]
  },
  {
   "cell_type": "markdown",
   "id": "e9abc6e5-7600-4976-9b1e-d8994126739b",
   "metadata": {},
   "source": [
    "## Preprocess and write subsets of all model data\n",
    "Open a model and save each variable in the dataset as a `zarr` file in the `waffles` bucket"
   ]
  },
  {
   "cell_type": "raw",
   "id": "43882c13-ebe0-4c19-acbf-c4ccf673b96a",
   "metadata": {},
   "source": [
    "for sim_name in list(model_fnames_dict.keys()):\n",
    "    # load model from esgf\n",
    "    ds = util.load_ds_from_esgf_file_in_model_fnames_dict(sim_name, model_fnames_dict)\n",
    "    \n",
    "    # save each simulation in zarr format \n",
    "    write_dataset_to_zarr(ds,sim_name)"
   ]
  },
  {
   "cell_type": "markdown",
   "id": "86a8e5cd-7769-436d-b2ac-c636a1656fc2",
   "metadata": {},
   "source": [
    "## Testing below this line\n",
    "---"
   ]
  },
  {
   "cell_type": "markdown",
   "id": "d8a7b5e5-aa01-4d9a-a7fc-fad162d90bc4",
   "metadata": {
    "tags": []
   },
   "source": [
    "## Function for loading data from ESGF node"
   ]
  },
  {
   "cell_type": "code",
   "execution_count": 10,
   "id": "09a53568-e2ec-4ecf-8ee2-ce87ee039cc2",
   "metadata": {},
   "outputs": [],
   "source": [
    "def reindex_lat(ds):\n",
    "    # check if lat is decreasing\n",
    "    if ds.lat.isel(x=0,y=0) > 0:\n",
    "        ds = ds.reindex(y=list(reversed(ds.y))).assign_coords(y=ds.y)\n",
    "    \n",
    "    return ds\n",
    "\n",
    "def model_preproc(ds):\n",
    "    # fix naming\n",
    "    ds = xmip.rename_cmip6(ds)\n",
    "    # reindex y if lat is decreasing\n",
    "    ds = reindex_lat(ds)\n",
    "    # promote empty dims to actual coordinates\n",
    "    ds = xmip.promote_empty_dims(ds)\n",
    "    # demote coordinates from data_variables\n",
    "    ds = xmip.correct_coordinates(ds)\n",
    "    # broadcast lon/lat\n",
    "    ds = xmip.broadcast_lonlat(ds)\n",
    "    # shift all lons to consistent 0-360\n",
    "    ds = xmip.correct_lon(ds)\n",
    "    # fix the units\n",
    "    ds = xmip.correct_units(ds)\n",
    "    # rename the `bounds` according to their style (bound or vertex)\n",
    "    ds = xmip.parse_lon_lat_bounds(ds)\n",
    "    # sort verticies in a consistent manner\n",
    "    ds = xmip.sort_vertex_order(ds)\n",
    "    # convert vertex into bounds and vice versa, so both are available\n",
    "    ds = xmip.maybe_convert_bounds_to_vertex(ds)\n",
    "    ds = xmip.maybe_convert_vertex_to_bounds(ds)\n",
    "    ds = xmip.fix_metadata(ds)\n",
    "    ds = ds.drop_vars([\"bnds\", \"vertex\"], errors=\"ignore\")\n",
    "    return ds\n",
    "\n",
    "def ds_from_esgf(model,model_fnames_dict,variables,flg_onefile=False,testing=False):    \n",
    "    ## Generate filename from model_fnames_dict\n",
    "    fnames_i = model_fnames_dict[model]\n",
    "    \n",
    "    # testing: Open a diverse, but small dataset\n",
    "    if testing:\n",
    "        fnames_i = fnames_i[0:30:6]\n",
    "        \n",
    "    # Only open a single file\n",
    "    if flg_onefile:\n",
    "        fnames_i = [fnames_i[0]]\n",
    "        \n",
    "    print(fnames_i)\n",
    "    \n",
    "    dss = {}\n",
    "    print('Going through the variables...')\n",
    "    \n",
    "    for v in variables:\n",
    "        print(v)\n",
    "        ffs = [f for f in fnames_i if v+'_' in f]\n",
    "        if len(ffs) > 0:\n",
    "            n_files = str(len(ffs))\n",
    "            print('Opening '+n_files+' file(s)...')\n",
    "            # Open filenames\n",
    "            with dask.config.set(**{'array.slicing.split_large_chunks': True}):\n",
    "                dss[v] = xr.open_mfdataset(ffs,preprocess=model_preproc)\n",
    "    \n",
    "    # Combine datasets\n",
    "    ds = xr.merge([dss[v] for v in dss.keys()],compat='override')\n",
    "    # Subset by >50N\n",
    "    print('Subsetting...')\n",
    "    cond = (ds['lat']>=50)\n",
    "    dsnow = ds.where(cond,drop=True) #.persist()\n",
    "    \n",
    "    # rechunk\n",
    "    print('Rechunking...')\n",
    "    if ('time' in list(dsnow.dims)) & ('lev' in list(dsnow.dims)):\n",
    "        dsnow = dsnow.chunk(chunks={'time':-1,'lev':-1,'x':50,'y':50})\n",
    "    elif 'time' in list(dsnow.dims):\n",
    "        dsnow = dsnow.chunk(chunks={'time':-1,'x':50,'y':50})\n",
    "    else:\n",
    "        dsnow = dsnow.chunk(chunks={'x':50,'y':50})\n",
    "    \n",
    "    print('Done.')\n",
    "    return(dsnow)"
   ]
  },
  {
   "cell_type": "markdown",
   "id": "7213d2f7-e741-4640-a50d-b8c2befa39f3",
   "metadata": {
    "tags": []
   },
   "source": [
    "Models that **do not** load with `util.load_ds_from_esgf_file_in_model_fnames_dict`\n",
    "1. CMCC-CM2-SR5 : `OSError: [Errno -68] NetCDF: I/O failure: b'http://esgf-data1.llnl.gov/thredds/dodsC/css03_data/CMIP6/OMIP/CMCC/CMCC-CM2-SR5/omip2/r1i1p1f1/Omon/thetao/gn/v20200226/thetao_Omon_CMCC-CM2-SR5_omip2_r1i1p1f1_gn_195801-201812.nc'`\n",
    "2. ACCESS-OM2 : Takes prohibatively long time to even load <- allow to run last just to see if it ever loads\n",
    "3. ACCESS-OM2-025 : Takes prohibatively long time to even load  \n",
    "``` \n",
    "Task exception was never retrieved\n",
    "future: <Task finished name='Task-8173' coro=<Client._gather.<locals>.wait() done, defined at /srv/conda/envs/notebook/lib/python3.9/site-packages/distributed/client.py:2038> exception=AllExit()>\n",
    "Traceback (most recent call last):\n",
    "  File \"/srv/conda/envs/notebook/lib/python3.9/site-packages/distributed/client.py\", line 2047, in wait\n",
    "    raise AllExit()\n",
    "distributed.client.AllExit\n",
    "```\n",
    "4. EC-Earth3 : `OSError: [Errno -68] NetCDF: I/O failure: b'https://esgf-data1.llnl.gov/thredds/dodsC/css03_data/CMIP6/OMIP/EC-Earth-Consortium/EC-Earth3/omip2/r1i1p1f1/Omon/mlotst/gn/v20200928/mlotst_Omon_EC-Earth3_omip2_r1i1p1f1_gn_199401-199412.nc'`\n",
    "5. \n",
    "\n",
    "Models that **do not** save to zarr when including 4D variables\n",
    "1. TaiESM1-TIMCOM2 : `RuntimeError: NetCDF: Authorization failure`\n",
    "2. NorESM2-LM : `RuntimeError: NetCDF: Authorization failure`\n",
    "3. MRI-ESM2-0 : `OSError: [Errno -70] NetCDF: DAP server error: b'http://esgf-data2.diasjp.net/thredds/dodsC/esg_dataroot/CMIP6/OMIP/MRI/MRI-ESM2-0/omip1-spunup/r1i1p1f1/Ofx/areacello/gn/v20200406/areacello_Ofx_MRI-ESM2-0_omip1-spunup_r1i1p1f1_gn.nc'`\n",
    "4. TaiESM1-TIMCOM : `RuntimeError: NetCDF: Authorization failure`\n",
    "5. FGOALS-f3-L (Failed for 3D vars!) : `RuntimeError: NetCDF: Authorization failure`\n",
    "6. MIROC6 (Failed for 3D vars!) : `OSError: [Errno -70] NetCDF: DAP server error: b'http://esgf-data2.diasjp.net/thredds/dodsC/esg_dataroot/CMIP6/OMIP/MIROC/MIROC6/omip2/r2i1p1f1/Omon/zos/gn/v20200612/zos_Omon_MIROC6_omip2_r2i1p1f1_gn_189801-199712.nc'`\n",
    "7. CNRM-CM6-1 : (Failed for 3D vars!) : `RuntimeError: NetCDF: Authorization failure`\n",
    "8. CMCC-CM2-HR4 : `RuntimeError: NetCDF: Authorization failure`\n",
    "9. CNRM-CM6-1-HR : `RuntimeError: NetCDF: Authorization failure`"
   ]
  },
  {
   "cell_type": "code",
   "execution_count": 9,
   "id": "f7289be7-4013-4b30-9b89-858d5a499836",
   "metadata": {},
   "outputs": [
    {
     "data": {
      "text/plain": [
       "['EC-Earth3',\n",
       " 'NorESM2-LM',\n",
       " 'MRI-ESM2-0',\n",
       " 'CMCC-CM2-SR5',\n",
       " 'CNRM-CM6-1',\n",
       " 'FGOALS-f3-L',\n",
       " 'CMCC-CM2-HR4',\n",
       " 'MIROC6',\n",
       " 'TaiESM1-TIMCOM2',\n",
       " 'CNRM-CM6-1-HR',\n",
       " 'ACCESS-OM2-025',\n",
       " 'ACCESS-OM2',\n",
       " 'TaiESM1-TIMCOM']"
      ]
     },
     "execution_count": 9,
     "metadata": {},
     "output_type": "execute_result"
    }
   ],
   "source": [
    "list(model_fnames_dict.keys())"
   ]
  },
  {
   "cell_type": "code",
   "execution_count": 16,
   "id": "f27f02bd-2951-4090-9597-72b2be0c6491",
   "metadata": {},
   "outputs": [],
   "source": [
    "sim_name = list(model_fnames_dict.keys())[1]"
   ]
  },
  {
   "cell_type": "code",
   "execution_count": 17,
   "id": "5f45f122-bdc0-45ab-9483-3ffe572fa62e",
   "metadata": {},
   "outputs": [
    {
     "data": {
      "text/plain": [
       "'NorESM2-LM'"
      ]
     },
     "execution_count": 17,
     "metadata": {},
     "output_type": "execute_result"
    }
   ],
   "source": [
    "sim_name"
   ]
  },
  {
   "cell_type": "code",
   "execution_count": null,
   "id": "c8cbf686-fbec-4d9c-bd5a-9f66241372e0",
   "metadata": {},
   "outputs": [],
   "source": [
    "variables = ['vmo','thetao','so','umo','zos','mlotst','areacello','deptho']"
   ]
  },
  {
   "cell_type": "code",
   "execution_count": 18,
   "id": "d6b1e507-f957-4550-9eb0-b93b2b6c157d",
   "metadata": {
    "tags": []
   },
   "outputs": [
    {
     "ename": "OSError",
     "evalue": "[Errno -68] NetCDF: I/O failure: b'https://esgf-data1.llnl.gov/thredds/dodsC/css03_data/CMIP6/OMIP/NCC/NorESM2-LM/omip2/r1i1p1f1/Omon/vmo/gn/v20190920/vmo_Omon_NorESM2-LM_omip2_r1i1p1f1_gn_201001-201812.nc'",
     "output_type": "error",
     "traceback": [
      "\u001b[0;31m---------------------------------------------------------------------------\u001b[0m",
      "\u001b[0;31mOSError\u001b[0m                                   Traceback (most recent call last)",
      "File \u001b[0;32m<timed exec>:2\u001b[0m, in \u001b[0;36m<module>\u001b[0;34m\u001b[0m\n",
      "File \u001b[0;32m~/waffles/notebooks/util.py:124\u001b[0m, in \u001b[0;36mload_ds_from_esgf_file_in_model_fnames_dict\u001b[0;34m(model, model_fnames_dict, flg_onefile)\u001b[0m\n\u001b[1;32m    122\u001b[0m \u001b[38;5;66;03m# Open filenames\u001b[39;00m\n\u001b[1;32m    123\u001b[0m \u001b[38;5;28;01mwith\u001b[39;00m dask\u001b[38;5;241m.\u001b[39mconfig\u001b[38;5;241m.\u001b[39mset(\u001b[38;5;241m*\u001b[39m\u001b[38;5;241m*\u001b[39m{\u001b[38;5;124m'\u001b[39m\u001b[38;5;124marray.slicing.split_large_chunks\u001b[39m\u001b[38;5;124m'\u001b[39m: \u001b[38;5;28;01mTrue\u001b[39;00m}):\n\u001b[0;32m--> 124\u001b[0m     ds \u001b[38;5;241m=\u001b[39m \u001b[43mxr\u001b[49m\u001b[38;5;241;43m.\u001b[39;49m\u001b[43mopen_mfdataset\u001b[49m\u001b[43m(\u001b[49m\u001b[43mfnames_i\u001b[49m\u001b[43m,\u001b[49m\u001b[43m \u001b[49m\u001b[43mcoords\u001b[49m\u001b[38;5;241;43m=\u001b[39;49m\u001b[38;5;124;43m'\u001b[39;49m\u001b[38;5;124;43mminimal\u001b[39;49m\u001b[38;5;124;43m'\u001b[39;49m\u001b[43m,\u001b[49m\n\u001b[1;32m    125\u001b[0m \u001b[43m                           \u001b[49m\u001b[43mcompat\u001b[49m\u001b[38;5;241;43m=\u001b[39;49m\u001b[38;5;124;43m'\u001b[39;49m\u001b[38;5;124;43moverride\u001b[39;49m\u001b[38;5;124;43m'\u001b[39;49m\u001b[43m,\u001b[49m\u001b[43m \u001b[49m\u001b[43mpreprocess\u001b[49m\u001b[38;5;241;43m=\u001b[39;49m\u001b[43mmodel_preproc\u001b[49m\u001b[43m)\u001b[49m \u001b[38;5;66;03m#.persist()\u001b[39;00m\n\u001b[1;32m    127\u001b[0m \u001b[38;5;66;03m# Subset by >50N\u001b[39;00m\n\u001b[1;32m    128\u001b[0m cond \u001b[38;5;241m=\u001b[39m (ds[\u001b[38;5;124m'\u001b[39m\u001b[38;5;124mlat\u001b[39m\u001b[38;5;124m'\u001b[39m]\u001b[38;5;241m>\u001b[39m\u001b[38;5;241m=\u001b[39m\u001b[38;5;241m50\u001b[39m)\n",
      "File \u001b[0;32m/srv/conda/envs/notebook/lib/python3.9/site-packages/xarray/backends/api.py:975\u001b[0m, in \u001b[0;36mopen_mfdataset\u001b[0;34m(paths, chunks, concat_dim, compat, preprocess, engine, data_vars, coords, combine, parallel, join, attrs_file, combine_attrs, **kwargs)\u001b[0m\n\u001b[1;32m    973\u001b[0m closers \u001b[38;5;241m=\u001b[39m [getattr_(ds, \u001b[38;5;124m\"\u001b[39m\u001b[38;5;124m_close\u001b[39m\u001b[38;5;124m\"\u001b[39m) \u001b[38;5;28;01mfor\u001b[39;00m ds \u001b[38;5;129;01min\u001b[39;00m datasets]\n\u001b[1;32m    974\u001b[0m \u001b[38;5;28;01mif\u001b[39;00m preprocess \u001b[38;5;129;01mis\u001b[39;00m \u001b[38;5;129;01mnot\u001b[39;00m \u001b[38;5;28;01mNone\u001b[39;00m:\n\u001b[0;32m--> 975\u001b[0m     datasets \u001b[38;5;241m=\u001b[39m [preprocess(ds) \u001b[38;5;28;01mfor\u001b[39;00m ds \u001b[38;5;129;01min\u001b[39;00m datasets]\n\u001b[1;32m    977\u001b[0m \u001b[38;5;28;01mif\u001b[39;00m parallel:\n\u001b[1;32m    978\u001b[0m     \u001b[38;5;66;03m# calling compute here will return the datasets/file_objs lists,\u001b[39;00m\n\u001b[1;32m    979\u001b[0m     \u001b[38;5;66;03m# the underlying datasets will still be stored as dask arrays\u001b[39;00m\n\u001b[1;32m    980\u001b[0m     datasets, closers \u001b[38;5;241m=\u001b[39m dask\u001b[38;5;241m.\u001b[39mcompute(datasets, closers)\n",
      "File \u001b[0;32m/srv/conda/envs/notebook/lib/python3.9/site-packages/xarray/backends/api.py:975\u001b[0m, in \u001b[0;36m<listcomp>\u001b[0;34m(.0)\u001b[0m\n\u001b[1;32m    973\u001b[0m closers \u001b[38;5;241m=\u001b[39m [getattr_(ds, \u001b[38;5;124m\"\u001b[39m\u001b[38;5;124m_close\u001b[39m\u001b[38;5;124m\"\u001b[39m) \u001b[38;5;28;01mfor\u001b[39;00m ds \u001b[38;5;129;01min\u001b[39;00m datasets]\n\u001b[1;32m    974\u001b[0m \u001b[38;5;28;01mif\u001b[39;00m preprocess \u001b[38;5;129;01mis\u001b[39;00m \u001b[38;5;129;01mnot\u001b[39;00m \u001b[38;5;28;01mNone\u001b[39;00m:\n\u001b[0;32m--> 975\u001b[0m     datasets \u001b[38;5;241m=\u001b[39m [\u001b[43mpreprocess\u001b[49m\u001b[43m(\u001b[49m\u001b[43mds\u001b[49m\u001b[43m)\u001b[49m \u001b[38;5;28;01mfor\u001b[39;00m ds \u001b[38;5;129;01min\u001b[39;00m datasets]\n\u001b[1;32m    977\u001b[0m \u001b[38;5;28;01mif\u001b[39;00m parallel:\n\u001b[1;32m    978\u001b[0m     \u001b[38;5;66;03m# calling compute here will return the datasets/file_objs lists,\u001b[39;00m\n\u001b[1;32m    979\u001b[0m     \u001b[38;5;66;03m# the underlying datasets will still be stored as dask arrays\u001b[39;00m\n\u001b[1;32m    980\u001b[0m     datasets, closers \u001b[38;5;241m=\u001b[39m dask\u001b[38;5;241m.\u001b[39mcompute(datasets, closers)\n",
      "File \u001b[0;32m~/waffles/notebooks/util.py:106\u001b[0m, in \u001b[0;36mmodel_preproc\u001b[0;34m(ds)\u001b[0m\n\u001b[1;32m    104\u001b[0m ds \u001b[38;5;241m=\u001b[39m xmip\u001b[38;5;241m.\u001b[39mparse_lon_lat_bounds(ds)\n\u001b[1;32m    105\u001b[0m \u001b[38;5;66;03m# sort verticies in a consistent manner\u001b[39;00m\n\u001b[0;32m--> 106\u001b[0m ds \u001b[38;5;241m=\u001b[39m \u001b[43mxmip\u001b[49m\u001b[38;5;241;43m.\u001b[39;49m\u001b[43msort_vertex_order\u001b[49m\u001b[43m(\u001b[49m\u001b[43mds\u001b[49m\u001b[43m)\u001b[49m\n\u001b[1;32m    107\u001b[0m \u001b[38;5;66;03m# convert vertex into bounds and vice versa, so both are available\u001b[39;00m\n\u001b[1;32m    108\u001b[0m ds \u001b[38;5;241m=\u001b[39m xmip\u001b[38;5;241m.\u001b[39mmaybe_convert_bounds_to_vertex(ds)\n",
      "File \u001b[0;32m/srv/conda/envs/notebook/lib/python3.9/site-packages/xmip-0.6.1rc1.dev11+g37985f0-py3.9.egg/xmip/preprocessing.py:405\u001b[0m, in \u001b[0;36msort_vertex_order\u001b[0;34m(ds)\u001b[0m\n\u001b[1;32m    402\u001b[0m x_idx \u001b[38;5;241m=\u001b[39m \u001b[38;5;28mlen\u001b[39m(ds\u001b[38;5;241m.\u001b[39mx) \u001b[38;5;241m/\u001b[39m\u001b[38;5;241m/\u001b[39m \u001b[38;5;241m2\u001b[39m\n\u001b[1;32m    403\u001b[0m y_idx \u001b[38;5;241m=\u001b[39m \u001b[38;5;28mlen\u001b[39m(ds\u001b[38;5;241m.\u001b[39my) \u001b[38;5;241m/\u001b[39m\u001b[38;5;241m/\u001b[39m \u001b[38;5;241m2\u001b[39m\n\u001b[0;32m--> 405\u001b[0m lon_b \u001b[38;5;241m=\u001b[39m \u001b[43mds\u001b[49m\u001b[38;5;241;43m.\u001b[39;49m\u001b[43mlon_verticies\u001b[49m\u001b[38;5;241;43m.\u001b[39;49m\u001b[43misel\u001b[49m\u001b[43m(\u001b[49m\u001b[43mx\u001b[49m\u001b[38;5;241;43m=\u001b[39;49m\u001b[43mx_idx\u001b[49m\u001b[43m,\u001b[49m\u001b[43m \u001b[49m\u001b[43my\u001b[49m\u001b[38;5;241;43m=\u001b[39;49m\u001b[43my_idx\u001b[49m\u001b[43m)\u001b[49m\u001b[38;5;241;43m.\u001b[39;49m\u001b[43mload\u001b[49m\u001b[43m(\u001b[49m\u001b[43m)\u001b[49m\u001b[38;5;241m.\u001b[39mdata\n\u001b[1;32m    406\u001b[0m lat_b \u001b[38;5;241m=\u001b[39m ds\u001b[38;5;241m.\u001b[39mlat_verticies\u001b[38;5;241m.\u001b[39misel(x\u001b[38;5;241m=\u001b[39mx_idx, y\u001b[38;5;241m=\u001b[39my_idx)\u001b[38;5;241m.\u001b[39mload()\u001b[38;5;241m.\u001b[39mdata\n\u001b[1;32m    407\u001b[0m vert \u001b[38;5;241m=\u001b[39m ds\u001b[38;5;241m.\u001b[39mvertex\u001b[38;5;241m.\u001b[39mload()\u001b[38;5;241m.\u001b[39mdata\n",
      "File \u001b[0;32m/srv/conda/envs/notebook/lib/python3.9/site-packages/xarray/core/dataarray.py:967\u001b[0m, in \u001b[0;36mDataArray.load\u001b[0;34m(self, **kwargs)\u001b[0m\n\u001b[1;32m    949\u001b[0m \u001b[38;5;28;01mdef\u001b[39;00m \u001b[38;5;21mload\u001b[39m(\u001b[38;5;28mself\u001b[39m: T_DataArray, \u001b[38;5;241m*\u001b[39m\u001b[38;5;241m*\u001b[39mkwargs) \u001b[38;5;241m-\u001b[39m\u001b[38;5;241m>\u001b[39m T_DataArray:\n\u001b[1;32m    950\u001b[0m     \u001b[38;5;124;03m\"\"\"Manually trigger loading of this array's data from disk or a\u001b[39;00m\n\u001b[1;32m    951\u001b[0m \u001b[38;5;124;03m    remote source into memory and return this array.\u001b[39;00m\n\u001b[1;32m    952\u001b[0m \n\u001b[0;32m   (...)\u001b[0m\n\u001b[1;32m    965\u001b[0m \u001b[38;5;124;03m    dask.compute\u001b[39;00m\n\u001b[1;32m    966\u001b[0m \u001b[38;5;124;03m    \"\"\"\u001b[39;00m\n\u001b[0;32m--> 967\u001b[0m     ds \u001b[38;5;241m=\u001b[39m \u001b[38;5;28;43mself\u001b[39;49m\u001b[38;5;241;43m.\u001b[39;49m\u001b[43m_to_temp_dataset\u001b[49m\u001b[43m(\u001b[49m\u001b[43m)\u001b[49m\u001b[38;5;241;43m.\u001b[39;49m\u001b[43mload\u001b[49m\u001b[43m(\u001b[49m\u001b[38;5;241;43m*\u001b[39;49m\u001b[38;5;241;43m*\u001b[39;49m\u001b[43mkwargs\u001b[49m\u001b[43m)\u001b[49m\n\u001b[1;32m    968\u001b[0m     new \u001b[38;5;241m=\u001b[39m \u001b[38;5;28mself\u001b[39m\u001b[38;5;241m.\u001b[39m_from_temp_dataset(ds)\n\u001b[1;32m    969\u001b[0m     \u001b[38;5;28mself\u001b[39m\u001b[38;5;241m.\u001b[39m_variable \u001b[38;5;241m=\u001b[39m new\u001b[38;5;241m.\u001b[39m_variable\n",
      "File \u001b[0;32m/srv/conda/envs/notebook/lib/python3.9/site-packages/xarray/core/dataset.py:733\u001b[0m, in \u001b[0;36mDataset.load\u001b[0;34m(self, **kwargs)\u001b[0m\n\u001b[1;32m    730\u001b[0m \u001b[38;5;28;01mimport\u001b[39;00m \u001b[38;5;21;01mdask\u001b[39;00m\u001b[38;5;21;01m.\u001b[39;00m\u001b[38;5;21;01marray\u001b[39;00m \u001b[38;5;28;01mas\u001b[39;00m \u001b[38;5;21;01mda\u001b[39;00m\n\u001b[1;32m    732\u001b[0m \u001b[38;5;66;03m# evaluate all the dask arrays simultaneously\u001b[39;00m\n\u001b[0;32m--> 733\u001b[0m evaluated_data \u001b[38;5;241m=\u001b[39m \u001b[43mda\u001b[49m\u001b[38;5;241;43m.\u001b[39;49m\u001b[43mcompute\u001b[49m\u001b[43m(\u001b[49m\u001b[38;5;241;43m*\u001b[39;49m\u001b[43mlazy_data\u001b[49m\u001b[38;5;241;43m.\u001b[39;49m\u001b[43mvalues\u001b[49m\u001b[43m(\u001b[49m\u001b[43m)\u001b[49m\u001b[43m,\u001b[49m\u001b[43m \u001b[49m\u001b[38;5;241;43m*\u001b[39;49m\u001b[38;5;241;43m*\u001b[39;49m\u001b[43mkwargs\u001b[49m\u001b[43m)\u001b[49m\n\u001b[1;32m    735\u001b[0m \u001b[38;5;28;01mfor\u001b[39;00m k, data \u001b[38;5;129;01min\u001b[39;00m \u001b[38;5;28mzip\u001b[39m(lazy_data, evaluated_data):\n\u001b[1;32m    736\u001b[0m     \u001b[38;5;28mself\u001b[39m\u001b[38;5;241m.\u001b[39mvariables[k]\u001b[38;5;241m.\u001b[39mdata \u001b[38;5;241m=\u001b[39m data\n",
      "File \u001b[0;32m/srv/conda/envs/notebook/lib/python3.9/site-packages/dask/base.py:598\u001b[0m, in \u001b[0;36mcompute\u001b[0;34m(traverse, optimize_graph, scheduler, get, *args, **kwargs)\u001b[0m\n\u001b[1;32m    595\u001b[0m     keys\u001b[38;5;241m.\u001b[39mappend(x\u001b[38;5;241m.\u001b[39m__dask_keys__())\n\u001b[1;32m    596\u001b[0m     postcomputes\u001b[38;5;241m.\u001b[39mappend(x\u001b[38;5;241m.\u001b[39m__dask_postcompute__())\n\u001b[0;32m--> 598\u001b[0m results \u001b[38;5;241m=\u001b[39m \u001b[43mschedule\u001b[49m\u001b[43m(\u001b[49m\u001b[43mdsk\u001b[49m\u001b[43m,\u001b[49m\u001b[43m \u001b[49m\u001b[43mkeys\u001b[49m\u001b[43m,\u001b[49m\u001b[43m \u001b[49m\u001b[38;5;241;43m*\u001b[39;49m\u001b[38;5;241;43m*\u001b[39;49m\u001b[43mkwargs\u001b[49m\u001b[43m)\u001b[49m\n\u001b[1;32m    599\u001b[0m \u001b[38;5;28;01mreturn\u001b[39;00m repack([f(r, \u001b[38;5;241m*\u001b[39ma) \u001b[38;5;28;01mfor\u001b[39;00m r, (f, a) \u001b[38;5;129;01min\u001b[39;00m \u001b[38;5;28mzip\u001b[39m(results, postcomputes)])\n",
      "File \u001b[0;32m/srv/conda/envs/notebook/lib/python3.9/site-packages/distributed/client.py:3036\u001b[0m, in \u001b[0;36mClient.get\u001b[0;34m(self, dsk, keys, workers, allow_other_workers, resources, sync, asynchronous, direct, retries, priority, fifo_timeout, actors, **kwargs)\u001b[0m\n\u001b[1;32m   3034\u001b[0m         should_rejoin \u001b[38;5;241m=\u001b[39m \u001b[38;5;28;01mFalse\u001b[39;00m\n\u001b[1;32m   3035\u001b[0m \u001b[38;5;28;01mtry\u001b[39;00m:\n\u001b[0;32m-> 3036\u001b[0m     results \u001b[38;5;241m=\u001b[39m \u001b[38;5;28;43mself\u001b[39;49m\u001b[38;5;241;43m.\u001b[39;49m\u001b[43mgather\u001b[49m\u001b[43m(\u001b[49m\u001b[43mpacked\u001b[49m\u001b[43m,\u001b[49m\u001b[43m \u001b[49m\u001b[43masynchronous\u001b[49m\u001b[38;5;241;43m=\u001b[39;49m\u001b[43masynchronous\u001b[49m\u001b[43m,\u001b[49m\u001b[43m \u001b[49m\u001b[43mdirect\u001b[49m\u001b[38;5;241;43m=\u001b[39;49m\u001b[43mdirect\u001b[49m\u001b[43m)\u001b[49m\n\u001b[1;32m   3037\u001b[0m \u001b[38;5;28;01mfinally\u001b[39;00m:\n\u001b[1;32m   3038\u001b[0m     \u001b[38;5;28;01mfor\u001b[39;00m f \u001b[38;5;129;01min\u001b[39;00m futures\u001b[38;5;241m.\u001b[39mvalues():\n",
      "File \u001b[0;32m/srv/conda/envs/notebook/lib/python3.9/site-packages/distributed/client.py:2210\u001b[0m, in \u001b[0;36mClient.gather\u001b[0;34m(self, futures, errors, direct, asynchronous)\u001b[0m\n\u001b[1;32m   2208\u001b[0m \u001b[38;5;28;01melse\u001b[39;00m:\n\u001b[1;32m   2209\u001b[0m     local_worker \u001b[38;5;241m=\u001b[39m \u001b[38;5;28;01mNone\u001b[39;00m\n\u001b[0;32m-> 2210\u001b[0m \u001b[38;5;28;01mreturn\u001b[39;00m \u001b[38;5;28;43mself\u001b[39;49m\u001b[38;5;241;43m.\u001b[39;49m\u001b[43msync\u001b[49m\u001b[43m(\u001b[49m\n\u001b[1;32m   2211\u001b[0m \u001b[43m    \u001b[49m\u001b[38;5;28;43mself\u001b[39;49m\u001b[38;5;241;43m.\u001b[39;49m\u001b[43m_gather\u001b[49m\u001b[43m,\u001b[49m\n\u001b[1;32m   2212\u001b[0m \u001b[43m    \u001b[49m\u001b[43mfutures\u001b[49m\u001b[43m,\u001b[49m\n\u001b[1;32m   2213\u001b[0m \u001b[43m    \u001b[49m\u001b[43merrors\u001b[49m\u001b[38;5;241;43m=\u001b[39;49m\u001b[43merrors\u001b[49m\u001b[43m,\u001b[49m\n\u001b[1;32m   2214\u001b[0m \u001b[43m    \u001b[49m\u001b[43mdirect\u001b[49m\u001b[38;5;241;43m=\u001b[39;49m\u001b[43mdirect\u001b[49m\u001b[43m,\u001b[49m\n\u001b[1;32m   2215\u001b[0m \u001b[43m    \u001b[49m\u001b[43mlocal_worker\u001b[49m\u001b[38;5;241;43m=\u001b[39;49m\u001b[43mlocal_worker\u001b[49m\u001b[43m,\u001b[49m\n\u001b[1;32m   2216\u001b[0m \u001b[43m    \u001b[49m\u001b[43masynchronous\u001b[49m\u001b[38;5;241;43m=\u001b[39;49m\u001b[43masynchronous\u001b[49m\u001b[43m,\u001b[49m\n\u001b[1;32m   2217\u001b[0m \u001b[43m\u001b[49m\u001b[43m)\u001b[49m\n",
      "File \u001b[0;32m/srv/conda/envs/notebook/lib/python3.9/site-packages/distributed/utils.py:338\u001b[0m, in \u001b[0;36mSyncMethodMixin.sync\u001b[0;34m(self, func, asynchronous, callback_timeout, *args, **kwargs)\u001b[0m\n\u001b[1;32m    336\u001b[0m     \u001b[38;5;28;01mreturn\u001b[39;00m future\n\u001b[1;32m    337\u001b[0m \u001b[38;5;28;01melse\u001b[39;00m:\n\u001b[0;32m--> 338\u001b[0m     \u001b[38;5;28;01mreturn\u001b[39;00m \u001b[43msync\u001b[49m\u001b[43m(\u001b[49m\n\u001b[1;32m    339\u001b[0m \u001b[43m        \u001b[49m\u001b[38;5;28;43mself\u001b[39;49m\u001b[38;5;241;43m.\u001b[39;49m\u001b[43mloop\u001b[49m\u001b[43m,\u001b[49m\u001b[43m \u001b[49m\u001b[43mfunc\u001b[49m\u001b[43m,\u001b[49m\u001b[43m \u001b[49m\u001b[38;5;241;43m*\u001b[39;49m\u001b[43margs\u001b[49m\u001b[43m,\u001b[49m\u001b[43m \u001b[49m\u001b[43mcallback_timeout\u001b[49m\u001b[38;5;241;43m=\u001b[39;49m\u001b[43mcallback_timeout\u001b[49m\u001b[43m,\u001b[49m\u001b[43m \u001b[49m\u001b[38;5;241;43m*\u001b[39;49m\u001b[38;5;241;43m*\u001b[39;49m\u001b[43mkwargs\u001b[49m\n\u001b[1;32m    340\u001b[0m \u001b[43m    \u001b[49m\u001b[43m)\u001b[49m\n",
      "File \u001b[0;32m/srv/conda/envs/notebook/lib/python3.9/site-packages/distributed/utils.py:405\u001b[0m, in \u001b[0;36msync\u001b[0;34m(loop, func, callback_timeout, *args, **kwargs)\u001b[0m\n\u001b[1;32m    403\u001b[0m \u001b[38;5;28;01mif\u001b[39;00m error:\n\u001b[1;32m    404\u001b[0m     typ, exc, tb \u001b[38;5;241m=\u001b[39m error\n\u001b[0;32m--> 405\u001b[0m     \u001b[38;5;28;01mraise\u001b[39;00m exc\u001b[38;5;241m.\u001b[39mwith_traceback(tb)\n\u001b[1;32m    406\u001b[0m \u001b[38;5;28;01melse\u001b[39;00m:\n\u001b[1;32m    407\u001b[0m     \u001b[38;5;28;01mreturn\u001b[39;00m result\n",
      "File \u001b[0;32m/srv/conda/envs/notebook/lib/python3.9/site-packages/distributed/utils.py:378\u001b[0m, in \u001b[0;36msync.<locals>.f\u001b[0;34m()\u001b[0m\n\u001b[1;32m    376\u001b[0m         future \u001b[38;5;241m=\u001b[39m asyncio\u001b[38;5;241m.\u001b[39mwait_for(future, callback_timeout)\n\u001b[1;32m    377\u001b[0m     future \u001b[38;5;241m=\u001b[39m asyncio\u001b[38;5;241m.\u001b[39mensure_future(future)\n\u001b[0;32m--> 378\u001b[0m     result \u001b[38;5;241m=\u001b[39m \u001b[38;5;28;01myield\u001b[39;00m future\n\u001b[1;32m    379\u001b[0m \u001b[38;5;28;01mexcept\u001b[39;00m \u001b[38;5;167;01mException\u001b[39;00m:\n\u001b[1;32m    380\u001b[0m     error \u001b[38;5;241m=\u001b[39m sys\u001b[38;5;241m.\u001b[39mexc_info()\n",
      "File \u001b[0;32m/srv/conda/envs/notebook/lib/python3.9/site-packages/tornado/gen.py:762\u001b[0m, in \u001b[0;36mRunner.run\u001b[0;34m(self)\u001b[0m\n\u001b[1;32m    759\u001b[0m exc_info \u001b[38;5;241m=\u001b[39m \u001b[38;5;28;01mNone\u001b[39;00m\n\u001b[1;32m    761\u001b[0m \u001b[38;5;28;01mtry\u001b[39;00m:\n\u001b[0;32m--> 762\u001b[0m     value \u001b[38;5;241m=\u001b[39m \u001b[43mfuture\u001b[49m\u001b[38;5;241;43m.\u001b[39;49m\u001b[43mresult\u001b[49m\u001b[43m(\u001b[49m\u001b[43m)\u001b[49m\n\u001b[1;32m    763\u001b[0m \u001b[38;5;28;01mexcept\u001b[39;00m \u001b[38;5;167;01mException\u001b[39;00m:\n\u001b[1;32m    764\u001b[0m     exc_info \u001b[38;5;241m=\u001b[39m sys\u001b[38;5;241m.\u001b[39mexc_info()\n",
      "File \u001b[0;32m/srv/conda/envs/notebook/lib/python3.9/site-packages/distributed/client.py:2073\u001b[0m, in \u001b[0;36mClient._gather\u001b[0;34m(self, futures, errors, direct, local_worker)\u001b[0m\n\u001b[1;32m   2071\u001b[0m         exc \u001b[38;5;241m=\u001b[39m CancelledError(key)\n\u001b[1;32m   2072\u001b[0m     \u001b[38;5;28;01melse\u001b[39;00m:\n\u001b[0;32m-> 2073\u001b[0m         \u001b[38;5;28;01mraise\u001b[39;00m exception\u001b[38;5;241m.\u001b[39mwith_traceback(traceback)\n\u001b[1;32m   2074\u001b[0m     \u001b[38;5;28;01mraise\u001b[39;00m exc\n\u001b[1;32m   2075\u001b[0m \u001b[38;5;28;01mif\u001b[39;00m errors \u001b[38;5;241m==\u001b[39m \u001b[38;5;124m\"\u001b[39m\u001b[38;5;124mskip\u001b[39m\u001b[38;5;124m\"\u001b[39m:\n",
      "File \u001b[0;32m/srv/conda/envs/notebook/lib/python3.9/site-packages/dask/optimization.py:990\u001b[0m, in \u001b[0;36m__call__\u001b[0;34m()\u001b[0m\n\u001b[1;32m    988\u001b[0m \u001b[38;5;28;01mif\u001b[39;00m \u001b[38;5;129;01mnot\u001b[39;00m \u001b[38;5;28mlen\u001b[39m(args) \u001b[38;5;241m==\u001b[39m \u001b[38;5;28mlen\u001b[39m(\u001b[38;5;28mself\u001b[39m\u001b[38;5;241m.\u001b[39minkeys):\n\u001b[1;32m    989\u001b[0m     \u001b[38;5;28;01mraise\u001b[39;00m \u001b[38;5;167;01mValueError\u001b[39;00m(\u001b[38;5;124m\"\u001b[39m\u001b[38;5;124mExpected \u001b[39m\u001b[38;5;132;01m%d\u001b[39;00m\u001b[38;5;124m args, got \u001b[39m\u001b[38;5;132;01m%d\u001b[39;00m\u001b[38;5;124m\"\u001b[39m \u001b[38;5;241m%\u001b[39m (\u001b[38;5;28mlen\u001b[39m(\u001b[38;5;28mself\u001b[39m\u001b[38;5;241m.\u001b[39minkeys), \u001b[38;5;28mlen\u001b[39m(args)))\n\u001b[0;32m--> 990\u001b[0m \u001b[38;5;28;01mreturn\u001b[39;00m core\u001b[38;5;241m.\u001b[39mget(\u001b[38;5;28mself\u001b[39m\u001b[38;5;241m.\u001b[39mdsk, \u001b[38;5;28mself\u001b[39m\u001b[38;5;241m.\u001b[39moutkey, \u001b[38;5;28mdict\u001b[39m(\u001b[38;5;28mzip\u001b[39m(\u001b[38;5;28mself\u001b[39m\u001b[38;5;241m.\u001b[39minkeys, args)))\n",
      "File \u001b[0;32m/srv/conda/envs/notebook/lib/python3.9/site-packages/dask/core.py:149\u001b[0m, in \u001b[0;36mget\u001b[0;34m()\u001b[0m\n\u001b[1;32m    147\u001b[0m \u001b[38;5;28;01mfor\u001b[39;00m key \u001b[38;5;129;01min\u001b[39;00m toposort(dsk):\n\u001b[1;32m    148\u001b[0m     task \u001b[38;5;241m=\u001b[39m dsk[key]\n\u001b[0;32m--> 149\u001b[0m     result \u001b[38;5;241m=\u001b[39m _execute_task(task, cache)\n\u001b[1;32m    150\u001b[0m     cache[key] \u001b[38;5;241m=\u001b[39m result\n\u001b[1;32m    151\u001b[0m result \u001b[38;5;241m=\u001b[39m _execute_task(out, cache)\n",
      "File \u001b[0;32m/srv/conda/envs/notebook/lib/python3.9/site-packages/dask/core.py:119\u001b[0m, in \u001b[0;36m_execute_task\u001b[0;34m()\u001b[0m\n\u001b[1;32m    115\u001b[0m     func, args \u001b[38;5;241m=\u001b[39m arg[\u001b[38;5;241m0\u001b[39m], arg[\u001b[38;5;241m1\u001b[39m:]\n\u001b[1;32m    116\u001b[0m     \u001b[38;5;66;03m# Note: Don't assign the subtask results to a variable. numpy detects\u001b[39;00m\n\u001b[1;32m    117\u001b[0m     \u001b[38;5;66;03m# temporaries by their reference count and can execute certain\u001b[39;00m\n\u001b[1;32m    118\u001b[0m     \u001b[38;5;66;03m# operations in-place.\u001b[39;00m\n\u001b[0;32m--> 119\u001b[0m     \u001b[38;5;28;01mreturn\u001b[39;00m func(\u001b[38;5;241m*\u001b[39m(_execute_task(a, cache) \u001b[38;5;28;01mfor\u001b[39;00m a \u001b[38;5;129;01min\u001b[39;00m args))\n\u001b[1;32m    120\u001b[0m \u001b[38;5;28;01melif\u001b[39;00m \u001b[38;5;129;01mnot\u001b[39;00m ishashable(arg):\n\u001b[1;32m    121\u001b[0m     \u001b[38;5;28;01mreturn\u001b[39;00m arg\n",
      "File \u001b[0;32m/srv/conda/envs/notebook/lib/python3.9/site-packages/dask/array/core.py:128\u001b[0m, in \u001b[0;36mgetter\u001b[0;34m()\u001b[0m\n\u001b[1;32m    123\u001b[0m     \u001b[38;5;66;03m# Below we special-case `np.matrix` to force a conversion to\u001b[39;00m\n\u001b[1;32m    124\u001b[0m     \u001b[38;5;66;03m# `np.ndarray` and preserve original Dask behavior for `getter`,\u001b[39;00m\n\u001b[1;32m    125\u001b[0m     \u001b[38;5;66;03m# as for all purposes `np.matrix` is array-like and thus\u001b[39;00m\n\u001b[1;32m    126\u001b[0m     \u001b[38;5;66;03m# `is_arraylike` evaluates to `True` in that case.\u001b[39;00m\n\u001b[1;32m    127\u001b[0m     \u001b[38;5;28;01mif\u001b[39;00m asarray \u001b[38;5;129;01mand\u001b[39;00m (\u001b[38;5;129;01mnot\u001b[39;00m is_arraylike(c) \u001b[38;5;129;01mor\u001b[39;00m \u001b[38;5;28misinstance\u001b[39m(c, np\u001b[38;5;241m.\u001b[39mmatrix)):\n\u001b[0;32m--> 128\u001b[0m         c \u001b[38;5;241m=\u001b[39m np\u001b[38;5;241m.\u001b[39masarray(c)\n\u001b[1;32m    129\u001b[0m \u001b[38;5;28;01mfinally\u001b[39;00m:\n\u001b[1;32m    130\u001b[0m     \u001b[38;5;28;01mif\u001b[39;00m lock:\n",
      "File \u001b[0;32m/srv/conda/envs/notebook/lib/python3.9/site-packages/xarray/core/indexing.py:459\u001b[0m, in \u001b[0;36m__array__\u001b[0;34m()\u001b[0m\n\u001b[1;32m    458\u001b[0m \u001b[38;5;28;01mdef\u001b[39;00m \u001b[38;5;21m__array__\u001b[39m(\u001b[38;5;28mself\u001b[39m, dtype\u001b[38;5;241m=\u001b[39m\u001b[38;5;28;01mNone\u001b[39;00m):\n\u001b[0;32m--> 459\u001b[0m     \u001b[38;5;28;01mreturn\u001b[39;00m np\u001b[38;5;241m.\u001b[39masarray(\u001b[38;5;28mself\u001b[39m\u001b[38;5;241m.\u001b[39marray, dtype\u001b[38;5;241m=\u001b[39mdtype)\n",
      "File \u001b[0;32m/srv/conda/envs/notebook/lib/python3.9/site-packages/xarray/core/indexing.py:623\u001b[0m, in \u001b[0;36m__array__\u001b[0;34m()\u001b[0m\n\u001b[1;32m    622\u001b[0m \u001b[38;5;28;01mdef\u001b[39;00m \u001b[38;5;21m__array__\u001b[39m(\u001b[38;5;28mself\u001b[39m, dtype\u001b[38;5;241m=\u001b[39m\u001b[38;5;28;01mNone\u001b[39;00m):\n\u001b[0;32m--> 623\u001b[0m     \u001b[38;5;28;01mreturn\u001b[39;00m np\u001b[38;5;241m.\u001b[39masarray(\u001b[38;5;28mself\u001b[39m\u001b[38;5;241m.\u001b[39marray, dtype\u001b[38;5;241m=\u001b[39mdtype)\n",
      "File \u001b[0;32m/srv/conda/envs/notebook/lib/python3.9/site-packages/xarray/core/indexing.py:524\u001b[0m, in \u001b[0;36m__array__\u001b[0;34m()\u001b[0m\n\u001b[1;32m    522\u001b[0m \u001b[38;5;28;01mdef\u001b[39;00m \u001b[38;5;21m__array__\u001b[39m(\u001b[38;5;28mself\u001b[39m, dtype\u001b[38;5;241m=\u001b[39m\u001b[38;5;28;01mNone\u001b[39;00m):\n\u001b[1;32m    523\u001b[0m     array \u001b[38;5;241m=\u001b[39m as_indexable(\u001b[38;5;28mself\u001b[39m\u001b[38;5;241m.\u001b[39marray)\n\u001b[0;32m--> 524\u001b[0m     \u001b[38;5;28;01mreturn\u001b[39;00m np\u001b[38;5;241m.\u001b[39masarray(array[\u001b[38;5;28mself\u001b[39m\u001b[38;5;241m.\u001b[39mkey], dtype\u001b[38;5;241m=\u001b[39m\u001b[38;5;28;01mNone\u001b[39;00m)\n",
      "File \u001b[0;32m/srv/conda/envs/notebook/lib/python3.9/site-packages/xarray/coding/variables.py:72\u001b[0m, in \u001b[0;36m__array__\u001b[0;34m()\u001b[0m\n\u001b[1;32m     71\u001b[0m \u001b[38;5;28;01mdef\u001b[39;00m \u001b[38;5;21m__array__\u001b[39m(\u001b[38;5;28mself\u001b[39m, dtype\u001b[38;5;241m=\u001b[39m\u001b[38;5;28;01mNone\u001b[39;00m):\n\u001b[0;32m---> 72\u001b[0m     \u001b[38;5;28;01mreturn\u001b[39;00m \u001b[38;5;28mself\u001b[39m\u001b[38;5;241m.\u001b[39mfunc(\u001b[38;5;28mself\u001b[39m\u001b[38;5;241m.\u001b[39marray)\n",
      "File \u001b[0;32m/srv/conda/envs/notebook/lib/python3.9/site-packages/xarray/coding/variables.py:139\u001b[0m, in \u001b[0;36m_apply_mask\u001b[0;34m()\u001b[0m\n\u001b[1;32m    135\u001b[0m \u001b[38;5;28;01mdef\u001b[39;00m \u001b[38;5;21m_apply_mask\u001b[39m(\n\u001b[1;32m    136\u001b[0m     data: np\u001b[38;5;241m.\u001b[39mndarray, encoded_fill_values: \u001b[38;5;28mlist\u001b[39m, decoded_fill_value: Any, dtype: Any\n\u001b[1;32m    137\u001b[0m ) \u001b[38;5;241m-\u001b[39m\u001b[38;5;241m>\u001b[39m np\u001b[38;5;241m.\u001b[39mndarray:\n\u001b[1;32m    138\u001b[0m     \u001b[38;5;124;03m\"\"\"Mask all matching values in a NumPy arrays.\"\"\"\u001b[39;00m\n\u001b[0;32m--> 139\u001b[0m     data \u001b[38;5;241m=\u001b[39m np\u001b[38;5;241m.\u001b[39masarray(data, dtype\u001b[38;5;241m=\u001b[39mdtype)\n\u001b[1;32m    140\u001b[0m     condition \u001b[38;5;241m=\u001b[39m \u001b[38;5;28;01mFalse\u001b[39;00m\n\u001b[1;32m    141\u001b[0m     \u001b[38;5;28;01mfor\u001b[39;00m fv \u001b[38;5;129;01min\u001b[39;00m encoded_fill_values:\n",
      "File \u001b[0;32m/srv/conda/envs/notebook/lib/python3.9/site-packages/xarray/core/indexing.py:524\u001b[0m, in \u001b[0;36m__array__\u001b[0;34m()\u001b[0m\n\u001b[1;32m    522\u001b[0m \u001b[38;5;28;01mdef\u001b[39;00m \u001b[38;5;21m__array__\u001b[39m(\u001b[38;5;28mself\u001b[39m, dtype\u001b[38;5;241m=\u001b[39m\u001b[38;5;28;01mNone\u001b[39;00m):\n\u001b[1;32m    523\u001b[0m     array \u001b[38;5;241m=\u001b[39m as_indexable(\u001b[38;5;28mself\u001b[39m\u001b[38;5;241m.\u001b[39marray)\n\u001b[0;32m--> 524\u001b[0m     \u001b[38;5;28;01mreturn\u001b[39;00m np\u001b[38;5;241m.\u001b[39masarray(array[\u001b[38;5;28mself\u001b[39m\u001b[38;5;241m.\u001b[39mkey], dtype\u001b[38;5;241m=\u001b[39m\u001b[38;5;28;01mNone\u001b[39;00m)\n",
      "File \u001b[0;32m/srv/conda/envs/notebook/lib/python3.9/site-packages/xarray/backends/netCDF4_.py:95\u001b[0m, in \u001b[0;36m__getitem__\u001b[0;34m()\u001b[0m\n\u001b[1;32m     94\u001b[0m \u001b[38;5;28;01mdef\u001b[39;00m \u001b[38;5;21m__getitem__\u001b[39m(\u001b[38;5;28mself\u001b[39m, key):\n\u001b[0;32m---> 95\u001b[0m     \u001b[38;5;28;01mreturn\u001b[39;00m indexing\u001b[38;5;241m.\u001b[39mexplicit_indexing_adapter(\n\u001b[1;32m     96\u001b[0m         key, \u001b[38;5;28mself\u001b[39m\u001b[38;5;241m.\u001b[39mshape, indexing\u001b[38;5;241m.\u001b[39mIndexingSupport\u001b[38;5;241m.\u001b[39mOUTER, \u001b[38;5;28mself\u001b[39m\u001b[38;5;241m.\u001b[39m_getitem\n\u001b[1;32m     97\u001b[0m     )\n",
      "File \u001b[0;32m/srv/conda/envs/notebook/lib/python3.9/site-packages/xarray/core/indexing.py:815\u001b[0m, in \u001b[0;36mexplicit_indexing_adapter\u001b[0;34m()\u001b[0m\n\u001b[1;32m    793\u001b[0m \u001b[38;5;124;03m\"\"\"Support explicit indexing by delegating to a raw indexing method.\u001b[39;00m\n\u001b[1;32m    794\u001b[0m \n\u001b[1;32m    795\u001b[0m \u001b[38;5;124;03mOuter and/or vectorized indexers are supported by indexing a second time\u001b[39;00m\n\u001b[0;32m   (...)\u001b[0m\n\u001b[1;32m    812\u001b[0m \u001b[38;5;124;03mIndexing result, in the form of a duck numpy-array.\u001b[39;00m\n\u001b[1;32m    813\u001b[0m \u001b[38;5;124;03m\"\"\"\u001b[39;00m\n\u001b[1;32m    814\u001b[0m raw_key, numpy_indices \u001b[38;5;241m=\u001b[39m decompose_indexer(key, shape, indexing_support)\n\u001b[0;32m--> 815\u001b[0m result \u001b[38;5;241m=\u001b[39m raw_indexing_method(raw_key\u001b[38;5;241m.\u001b[39mtuple)\n\u001b[1;32m    816\u001b[0m \u001b[38;5;28;01mif\u001b[39;00m numpy_indices\u001b[38;5;241m.\u001b[39mtuple:\n\u001b[1;32m    817\u001b[0m     \u001b[38;5;66;03m# index the loaded np.ndarray\u001b[39;00m\n\u001b[1;32m    818\u001b[0m     result \u001b[38;5;241m=\u001b[39m NumpyIndexingAdapter(np\u001b[38;5;241m.\u001b[39masarray(result))[numpy_indices]\n",
      "File \u001b[0;32m/srv/conda/envs/notebook/lib/python3.9/site-packages/xarray/backends/netCDF4_.py:107\u001b[0m, in \u001b[0;36m_getitem\u001b[0;34m()\u001b[0m\n\u001b[1;32m    105\u001b[0m \u001b[38;5;28;01mtry\u001b[39;00m:\n\u001b[1;32m    106\u001b[0m     \u001b[38;5;28;01mwith\u001b[39;00m \u001b[38;5;28mself\u001b[39m\u001b[38;5;241m.\u001b[39mdatastore\u001b[38;5;241m.\u001b[39mlock:\n\u001b[0;32m--> 107\u001b[0m         original_array \u001b[38;5;241m=\u001b[39m \u001b[38;5;28mself\u001b[39m\u001b[38;5;241m.\u001b[39mget_array(needs_lock\u001b[38;5;241m=\u001b[39m\u001b[38;5;28;01mFalse\u001b[39;00m)\n\u001b[1;32m    108\u001b[0m         array \u001b[38;5;241m=\u001b[39m getitem(original_array, key)\n\u001b[1;32m    109\u001b[0m \u001b[38;5;28;01mexcept\u001b[39;00m \u001b[38;5;167;01mIndexError\u001b[39;00m:\n\u001b[1;32m    110\u001b[0m     \u001b[38;5;66;03m# Catch IndexError in netCDF4 and return a more informative\u001b[39;00m\n\u001b[1;32m    111\u001b[0m     \u001b[38;5;66;03m# error message.  This is most often called when an unsorted\u001b[39;00m\n\u001b[1;32m    112\u001b[0m     \u001b[38;5;66;03m# indexer is used before the data is loaded from disk.\u001b[39;00m\n",
      "File \u001b[0;32m/srv/conda/envs/notebook/lib/python3.9/site-packages/xarray/backends/netCDF4_.py:86\u001b[0m, in \u001b[0;36mget_array\u001b[0;34m()\u001b[0m\n\u001b[1;32m     85\u001b[0m \u001b[38;5;28;01mdef\u001b[39;00m \u001b[38;5;21mget_array\u001b[39m(\u001b[38;5;28mself\u001b[39m, needs_lock\u001b[38;5;241m=\u001b[39m\u001b[38;5;28;01mTrue\u001b[39;00m):\n\u001b[0;32m---> 86\u001b[0m     ds \u001b[38;5;241m=\u001b[39m \u001b[38;5;28mself\u001b[39m\u001b[38;5;241m.\u001b[39mdatastore\u001b[38;5;241m.\u001b[39m_acquire(needs_lock)\n\u001b[1;32m     87\u001b[0m     variable \u001b[38;5;241m=\u001b[39m ds\u001b[38;5;241m.\u001b[39mvariables[\u001b[38;5;28mself\u001b[39m\u001b[38;5;241m.\u001b[39mvariable_name]\n\u001b[1;32m     88\u001b[0m     variable\u001b[38;5;241m.\u001b[39mset_auto_maskandscale(\u001b[38;5;28;01mFalse\u001b[39;00m)\n",
      "File \u001b[0;32m/srv/conda/envs/notebook/lib/python3.9/site-packages/xarray/backends/netCDF4_.py:387\u001b[0m, in \u001b[0;36m_acquire\u001b[0;34m()\u001b[0m\n\u001b[1;32m    386\u001b[0m \u001b[38;5;28;01mdef\u001b[39;00m \u001b[38;5;21m_acquire\u001b[39m(\u001b[38;5;28mself\u001b[39m, needs_lock\u001b[38;5;241m=\u001b[39m\u001b[38;5;28;01mTrue\u001b[39;00m):\n\u001b[0;32m--> 387\u001b[0m     \u001b[38;5;28;01mwith\u001b[39;00m \u001b[38;5;28mself\u001b[39m\u001b[38;5;241m.\u001b[39m_manager\u001b[38;5;241m.\u001b[39macquire_context(needs_lock) \u001b[38;5;28;01mas\u001b[39;00m root:\n\u001b[1;32m    388\u001b[0m         ds \u001b[38;5;241m=\u001b[39m _nc4_require_group(root, \u001b[38;5;28mself\u001b[39m\u001b[38;5;241m.\u001b[39m_group, \u001b[38;5;28mself\u001b[39m\u001b[38;5;241m.\u001b[39m_mode)\n\u001b[1;32m    389\u001b[0m     \u001b[38;5;28;01mreturn\u001b[39;00m ds\n",
      "File \u001b[0;32m/srv/conda/envs/notebook/lib/python3.9/contextlib.py:119\u001b[0m, in \u001b[0;36m__enter__\u001b[0;34m()\u001b[0m\n\u001b[1;32m    117\u001b[0m \u001b[38;5;28;01mdel\u001b[39;00m \u001b[38;5;28mself\u001b[39m\u001b[38;5;241m.\u001b[39margs, \u001b[38;5;28mself\u001b[39m\u001b[38;5;241m.\u001b[39mkwds, \u001b[38;5;28mself\u001b[39m\u001b[38;5;241m.\u001b[39mfunc\n\u001b[1;32m    118\u001b[0m \u001b[38;5;28;01mtry\u001b[39;00m:\n\u001b[0;32m--> 119\u001b[0m     \u001b[38;5;28;01mreturn\u001b[39;00m \u001b[38;5;28mnext\u001b[39m(\u001b[38;5;28mself\u001b[39m\u001b[38;5;241m.\u001b[39mgen)\n\u001b[1;32m    120\u001b[0m \u001b[38;5;28;01mexcept\u001b[39;00m \u001b[38;5;167;01mStopIteration\u001b[39;00m:\n\u001b[1;32m    121\u001b[0m     \u001b[38;5;28;01mraise\u001b[39;00m \u001b[38;5;167;01mRuntimeError\u001b[39;00m(\u001b[38;5;124m\"\u001b[39m\u001b[38;5;124mgenerator didn\u001b[39m\u001b[38;5;124m'\u001b[39m\u001b[38;5;124mt yield\u001b[39m\u001b[38;5;124m\"\u001b[39m) \u001b[38;5;28;01mfrom\u001b[39;00m \u001b[38;5;28mNone\u001b[39m\n",
      "File \u001b[0;32m/srv/conda/envs/notebook/lib/python3.9/site-packages/xarray/backends/file_manager.py:189\u001b[0m, in \u001b[0;36macquire_context\u001b[0;34m()\u001b[0m\n\u001b[1;32m    186\u001b[0m \u001b[38;5;129m@contextlib\u001b[39m\u001b[38;5;241m.\u001b[39mcontextmanager\n\u001b[1;32m    187\u001b[0m \u001b[38;5;28;01mdef\u001b[39;00m \u001b[38;5;21macquire_context\u001b[39m(\u001b[38;5;28mself\u001b[39m, needs_lock\u001b[38;5;241m=\u001b[39m\u001b[38;5;28;01mTrue\u001b[39;00m):\n\u001b[1;32m    188\u001b[0m     \u001b[38;5;124;03m\"\"\"Context manager for acquiring a file.\"\"\"\u001b[39;00m\n\u001b[0;32m--> 189\u001b[0m     file, cached \u001b[38;5;241m=\u001b[39m \u001b[38;5;28mself\u001b[39m\u001b[38;5;241m.\u001b[39m_acquire_with_cache_info(needs_lock)\n\u001b[1;32m    190\u001b[0m     \u001b[38;5;28;01mtry\u001b[39;00m:\n\u001b[1;32m    191\u001b[0m         \u001b[38;5;28;01myield\u001b[39;00m file\n",
      "File \u001b[0;32m/srv/conda/envs/notebook/lib/python3.9/site-packages/xarray/backends/file_manager.py:207\u001b[0m, in \u001b[0;36m_acquire_with_cache_info\u001b[0;34m()\u001b[0m\n\u001b[1;32m    205\u001b[0m     kwargs \u001b[38;5;241m=\u001b[39m kwargs\u001b[38;5;241m.\u001b[39mcopy()\n\u001b[1;32m    206\u001b[0m     kwargs[\u001b[38;5;124m\"\u001b[39m\u001b[38;5;124mmode\u001b[39m\u001b[38;5;124m\"\u001b[39m] \u001b[38;5;241m=\u001b[39m \u001b[38;5;28mself\u001b[39m\u001b[38;5;241m.\u001b[39m_mode\n\u001b[0;32m--> 207\u001b[0m file \u001b[38;5;241m=\u001b[39m \u001b[38;5;28mself\u001b[39m\u001b[38;5;241m.\u001b[39m_opener(\u001b[38;5;241m*\u001b[39m\u001b[38;5;28mself\u001b[39m\u001b[38;5;241m.\u001b[39m_args, \u001b[38;5;241m*\u001b[39m\u001b[38;5;241m*\u001b[39mkwargs)\n\u001b[1;32m    208\u001b[0m \u001b[38;5;28;01mif\u001b[39;00m \u001b[38;5;28mself\u001b[39m\u001b[38;5;241m.\u001b[39m_mode \u001b[38;5;241m==\u001b[39m \u001b[38;5;124m\"\u001b[39m\u001b[38;5;124mw\u001b[39m\u001b[38;5;124m\"\u001b[39m:\n\u001b[1;32m    209\u001b[0m     \u001b[38;5;66;03m# ensure file doesn't get overridden when opened again\u001b[39;00m\n\u001b[1;32m    210\u001b[0m     \u001b[38;5;28mself\u001b[39m\u001b[38;5;241m.\u001b[39m_mode \u001b[38;5;241m=\u001b[39m \u001b[38;5;124m\"\u001b[39m\u001b[38;5;124ma\u001b[39m\u001b[38;5;124m\"\u001b[39m\n",
      "File \u001b[0;32msrc/netCDF4/_netCDF4.pyx:2353\u001b[0m, in \u001b[0;36mnetCDF4._netCDF4.Dataset.__init__\u001b[0;34m()\u001b[0m\n",
      "File \u001b[0;32msrc/netCDF4/_netCDF4.pyx:1963\u001b[0m, in \u001b[0;36mnetCDF4._netCDF4._ensure_nc_success\u001b[0;34m()\u001b[0m\n",
      "\u001b[0;31mOSError\u001b[0m: [Errno -68] NetCDF: I/O failure: b'https://esgf-data1.llnl.gov/thredds/dodsC/css03_data/CMIP6/OMIP/NCC/NorESM2-LM/omip2/r1i1p1f1/Omon/vmo/gn/v20190920/vmo_Omon_NorESM2-LM_omip2_r1i1p1f1_gn_201001-201812.nc'"
     ]
    }
   ],
   "source": [
    "%%time\n",
    "# load model from sim_name\n",
    "ds = ds_from_esgf(sim_name1,model_fnames_dict,variables)"
   ]
  },
  {
   "cell_type": "code",
   "execution_count": 19,
   "id": "f7c1688e-2161-48a7-91fe-9a71fe6e1615",
   "metadata": {},
   "outputs": [
    {
     "ename": "NameError",
     "evalue": "name 'ds' is not defined",
     "output_type": "error",
     "traceback": [
      "\u001b[0;31m---------------------------------------------------------------------------\u001b[0m",
      "\u001b[0;31mNameError\u001b[0m                                 Traceback (most recent call last)",
      "Input \u001b[0;32mIn [19]\u001b[0m, in \u001b[0;36m<cell line: 1>\u001b[0;34m()\u001b[0m\n\u001b[0;32m----> 1\u001b[0m \u001b[43mds\u001b[49m\n",
      "\u001b[0;31mNameError\u001b[0m: name 'ds' is not defined"
     ]
    }
   ],
   "source": [
    "ds"
   ]
  },
  {
   "cell_type": "code",
   "execution_count": null,
   "id": "1398de48-f619-4823-a69f-c7681e64bf4b",
   "metadata": {},
   "outputs": [],
   "source": [
    "list(ds.keys())"
   ]
  },
  {
   "cell_type": "code",
   "execution_count": null,
   "id": "88713a99-5aa6-4ad4-9b1b-56772759a8cf",
   "metadata": {},
   "outputs": [],
   "source": [
    "ds_sub = ds[['so']]\n",
    "# ds_sub = ds[['areacello','deptho','mlotst','zos','so']]\n",
    "# ds_sub = ds[['areacello','deptho','mlotst','zos']]"
   ]
  },
  {
   "cell_type": "code",
   "execution_count": null,
   "id": "6c768a28-7661-4bbf-a85d-afe75e878cb1",
   "metadata": {},
   "outputs": [],
   "source": [
    "ds_sub"
   ]
  },
  {
   "cell_type": "code",
   "execution_count": null,
   "id": "a7d5baee-8e28-4b21-b2a4-96fbb1c208a4",
   "metadata": {},
   "outputs": [],
   "source": []
  },
  {
   "cell_type": "code",
   "execution_count": 17,
   "id": "ba66916f-7005-41d9-bf34-6886139fab9e",
   "metadata": {},
   "outputs": [
    {
     "data": {
      "text/plain": [
       "['WAFFLES/OMIP2/']"
      ]
     },
     "execution_count": 17,
     "metadata": {},
     "output_type": "execute_result"
    }
   ],
   "source": [
    "# See what's already in the bucket\n",
    "target = s3fs.S3FileSystem(anon=False,client_kwargs={'endpoint_url': 'https://object-store.cloud.muni.cz'})\n",
    "path='WAFFLES/OMIP2/'\n",
    "target.ls(path)"
   ]
  },
  {
   "cell_type": "code",
   "execution_count": null,
   "id": "64bdbbd5-9ded-448c-9b9f-8fecbd18daec",
   "metadata": {},
   "outputs": [],
   "source": [
    "ds_sub = ds_sub.persist()"
   ]
  },
  {
   "cell_type": "code",
   "execution_count": null,
   "id": "cb9d218d-379b-46b9-bc17-2aef260f8af7",
   "metadata": {},
   "outputs": [],
   "source": [
    "write_dataset_to_zarr(ds_sub,sim_name)"
   ]
  },
  {
   "cell_type": "code",
   "execution_count": null,
   "id": "fdcef32c-231d-4448-845a-18657eaf1632",
   "metadata": {
    "tags": []
   },
   "outputs": [],
   "source": [
    "test = read_dataset_from_zarr(sim_name)"
   ]
  },
  {
   "cell_type": "code",
   "execution_count": null,
   "id": "bc903449-12a2-426a-a890-4576b4c27e5e",
   "metadata": {},
   "outputs": [],
   "source": [
    "test"
   ]
  },
  {
   "cell_type": "code",
   "execution_count": null,
   "id": "b02e7e4b-509d-433d-be59-b701232fe344",
   "metadata": {
    "tags": []
   },
   "outputs": [],
   "source": [
    "test.so.isel(time=0,lev=0).plot(robust=True)"
   ]
  },
  {
   "cell_type": "markdown",
   "id": "8dc87e53-0794-4e83-bb1c-0b674e18b1da",
   "metadata": {},
   "source": [
    "## Some useful, spare code"
   ]
  },
  {
   "cell_type": "raw",
   "id": "eb12227f-db5c-474d-9b29-010b16e96696",
   "metadata": {},
   "source": [
    "target = s3fs.S3FileSystem(anon=False,\n",
    "      client_kwargs={\n",
    "         'endpoint_url': 'https://object-store.cloud.muni.cz'\n",
    "      })\n",
    "path='WAFFLES/'\n",
    "target.ls(path)"
   ]
  },
  {
   "cell_type": "raw",
   "id": "abf241dd-d2e9-4025-8d07-db4201f02b0d",
   "metadata": {},
   "source": [
    "# empty simulation bucket, if exists\n",
    "target.rm(path,recursive=True)"
   ]
  }
 ],
 "metadata": {
  "kernelspec": {
   "display_name": "Python [conda env:notebook] *",
   "language": "python",
   "name": "conda-env-notebook-py"
  },
  "language_info": {
   "codemirror_mode": {
    "name": "ipython",
    "version": 3
   },
   "file_extension": ".py",
   "mimetype": "text/x-python",
   "name": "python",
   "nbconvert_exporter": "python",
   "pygments_lexer": "ipython3",
   "version": "3.9.13"
  }
 },
 "nbformat": 4,
 "nbformat_minor": 5
}
