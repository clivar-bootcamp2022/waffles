{
 "cells": [
  {
   "cell_type": "markdown",
   "id": "41e696f4-dffb-4d80-b022-8538ced9bae8",
   "metadata": {},
   "source": [
    "# Preprocess OMIP2 Model Output"
   ]
  },
  {
   "cell_type": "markdown",
   "id": "585234a8-5ea7-4dba-91d5-98dd64a20b9e",
   "metadata": {
    "tags": []
   },
   "source": [
    "## Import packages"
   ]
  },
  {
   "cell_type": "code",
   "execution_count": 1,
   "id": "9dca5d81-2c3c-474e-b5a4-8dbd733aa097",
   "metadata": {
    "tags": []
   },
   "outputs": [],
   "source": [
    "%matplotlib inline\n",
    "import numpy as np\n",
    "import xarray as xr\n",
    "import s3fs\n",
    "import zarr\n",
    "import util"
   ]
  },
  {
   "cell_type": "markdown",
   "id": "a50774cd-05b4-40b2-aa12-27902b0842b0",
   "metadata": {},
   "source": [
    "## Create a new Dask cluster with the Dask Gateway"
   ]
  },
  {
   "cell_type": "code",
   "execution_count": 2,
   "id": "05e47109-52d7-44f6-a780-3c36571ce6a3",
   "metadata": {
    "tags": [
     "skip-execution"
    ]
   },
   "outputs": [],
   "source": [
    "from dask_gateway import Gateway\n",
    "gateway = Gateway()"
   ]
  },
  {
   "cell_type": "code",
   "execution_count": 10,
   "id": "8fe812a8-8f7f-4f3c-8e17-5ccf5aff0786",
   "metadata": {},
   "outputs": [
    {
     "name": "stdout",
     "output_type": "stream",
     "text": [
      "[ClusterReport<name=daskhub.721f762a870545f19b9beef3d6fd5415, status=RUNNING>]\n",
      "GatewayCluster<daskhub.721f762a870545f19b9beef3d6fd5415, status=running>\n"
     ]
    }
   ],
   "source": [
    "##A line of trick to clean your dask cluster before you start your computation\n",
    "from dask.distributed import Client\n",
    "clusters=gateway.list_clusters()\n",
    "print(clusters )\n",
    "for cluster in clusters :\n",
    "    cluster= gateway.connect(cluster.name)\n",
    "    print(cluster)\n",
    "    client = Client(cluster)\n",
    "    client.close()\n",
    "    cluster.shutdown()"
   ]
  },
  {
   "cell_type": "code",
   "execution_count": 4,
   "id": "29b7e591-5174-4a5c-b075-3f41ff7afad2",
   "metadata": {
    "tags": [
     "skip-execution"
    ]
   },
   "outputs": [
    {
     "data": {
      "application/vnd.jupyter.widget-view+json": {
       "model_id": "d28d9c364870438da3ad6c5e66e71b35",
       "version_major": 2,
       "version_minor": 0
      },
      "text/plain": [
       "VBox(children=(HTML(value='<h2>GatewayCluster</h2>'), HBox(children=(HTML(value='\\n<div>\\n<style scoped>\\n    …"
      ]
     },
     "metadata": {},
     "output_type": "display_data"
    }
   ],
   "source": [
    "cluster = gateway.new_cluster(worker_memory=2, worker_cores=1)\n",
    "\n",
    "cluster.scale(8)\n",
    "cluster"
   ]
  },
  {
   "cell_type": "markdown",
   "id": "4868bdd0-fcc1-4c4a-bedb-073997c1231c",
   "metadata": {
    "tags": []
   },
   "source": [
    "## Get a client from the Dask Gateway Cluster\n",
    "\n",
    "As stated above, creating a Dask `Client` is mandatory in order to perform following Daks computations on your Dask Cluster."
   ]
  },
  {
   "cell_type": "code",
   "execution_count": 5,
   "id": "24c27e68-a4a6-4bcc-8bc9-f3d032718a90",
   "metadata": {},
   "outputs": [
    {
     "data": {
      "text/html": [
       "<div>\n",
       "    <div style=\"width: 24px; height: 24px; background-color: #e1e1e1; border: 3px solid #9D9D9D; border-radius: 5px; position: absolute;\"> </div>\n",
       "    <div style=\"margin-left: 48px;\">\n",
       "        <h3 style=\"margin-bottom: 0px;\">Client</h3>\n",
       "        <p style=\"color: #9D9D9D; margin-bottom: 0px;\">Client-94d8fa12-4f12-11ed-8cba-9a10e23e9e2e</p>\n",
       "        <table style=\"width: 100%; text-align: left;\">\n",
       "\n",
       "        <tr>\n",
       "        \n",
       "            <td style=\"text-align: left;\"><strong>Connection method:</strong> Cluster object</td>\n",
       "            <td style=\"text-align: left;\"><strong>Cluster type:</strong> dask_gateway.GatewayCluster</td>\n",
       "        \n",
       "        </tr>\n",
       "\n",
       "        \n",
       "            <tr>\n",
       "                <td style=\"text-align: left;\">\n",
       "                    <strong>Dashboard: </strong> <a href=\"/jupyterhub/services/dask-gateway/clusters/daskhub.721f762a870545f19b9beef3d6fd5415/status\" target=\"_blank\">/jupyterhub/services/dask-gateway/clusters/daskhub.721f762a870545f19b9beef3d6fd5415/status</a>\n",
       "                </td>\n",
       "                <td style=\"text-align: left;\"></td>\n",
       "            </tr>\n",
       "        \n",
       "\n",
       "        </table>\n",
       "\n",
       "        \n",
       "            <details>\n",
       "            <summary style=\"margin-bottom: 20px;\"><h3 style=\"display: inline;\">Cluster Info</h3></summary>\n",
       "            <div style='background-color: #f2f2f2; display: inline-block; padding: 10px; border: 1px solid #999999;'>\n",
       "  <h3>GatewayCluster</h3>\n",
       "  <ul>\n",
       "    <li><b>Name: </b>daskhub.721f762a870545f19b9beef3d6fd5415\n",
       "    <li><b>Dashboard: </b><a href='/jupyterhub/services/dask-gateway/clusters/daskhub.721f762a870545f19b9beef3d6fd5415/status' target='_blank'>/jupyterhub/services/dask-gateway/clusters/daskhub.721f762a870545f19b9beef3d6fd5415/status</a>\n",
       "  </ul>\n",
       "</div>\n",
       "\n",
       "            </details>\n",
       "        \n",
       "\n",
       "    </div>\n",
       "</div>"
      ],
      "text/plain": [
       "<Client: 'tls://10.244.17.59:8786' processes=0 threads=0, memory=0 B>"
      ]
     },
     "execution_count": 5,
     "metadata": {},
     "output_type": "execute_result"
    }
   ],
   "source": [
    "from distributed import Client\n",
    "\n",
    "if cluster:\n",
    "    client = Client(cluster) # create a dask Gateway cluster\n",
    "else:\n",
    "    client = Client()   # create a local dask cluster on the machine.\n",
    "client"
   ]
  },
  {
   "cell_type": "markdown",
   "id": "6a9e17db-c371-4b74-a554-6dd2c9c7a538",
   "metadata": {
    "tags": []
   },
   "source": [
    "## Open dictionary of OMIP2 simulations\n",
    "With file lists taken from the ESGF Search Catalog with the following search requirements:\n",
    "1. On the native grid\n",
    "2. Have the varaibles:`umo`, `vmo`, `so`, `thetao`, `zos`, `mlotst`, `siconc`, `deptho`, `areacello`\n",
    "3. At monthly time steps\n",
    "4. The last 61 years of the simulation"
   ]
  },
  {
   "cell_type": "code",
   "execution_count": 6,
   "id": "2ac5fd69-477e-471d-8f58-4c3b34eacbe2",
   "metadata": {},
   "outputs": [],
   "source": [
    "# Load in file of model names and fnames\n",
    "model_fnames_dict = np.load(\"../models.npy\", allow_pickle=True).item()"
   ]
  },
  {
   "cell_type": "code",
   "execution_count": 7,
   "id": "f7289be7-4013-4b30-9b89-858d5a499836",
   "metadata": {},
   "outputs": [
    {
     "data": {
      "text/plain": [
       "['CMCC-CM2-SR5',\n",
       " 'NorESM2-LM',\n",
       " 'MRI-ESM2-0',\n",
       " 'CNRM-CM6-1',\n",
       " 'FGOALS-f3-L',\n",
       " 'CNRM-CM6-1-HR',\n",
       " 'TaiESM1-TIMCOM',\n",
       " 'CMCC-CM2-HR4',\n",
       " 'TaiESM1-TIMCOM2',\n",
       " 'ACCESS-OM2',\n",
       " 'EC-Earth3',\n",
       " 'ACCESS-OM2-025',\n",
       " 'MIROC6']"
      ]
     },
     "execution_count": 7,
     "metadata": {},
     "output_type": "execute_result"
    }
   ],
   "source": [
    "list(model_fnames_dict.keys())"
   ]
  },
  {
   "cell_type": "markdown",
   "id": "7aa6daaa-6363-4276-a6fc-6382ba4a6ca9",
   "metadata": {},
   "source": [
    "## Function for writing zarr file to bucket"
   ]
  },
  {
   "cell_type": "code",
   "execution_count": 8,
   "id": "41411b1b-185b-4803-a7b4-ed1a67640fdd",
   "metadata": {},
   "outputs": [],
   "source": [
    "def write_subset_to_zarr(ds,sim_name,v_name):\n",
    "    # set path on bucket\n",
    "    path='WAFFLES/OMIP2/'+sim_name\n",
    "    s3_prefix =  \"s3://\"+path\n",
    "    print(s3_prefix)\n",
    "    # get storage keys\n",
    "    access_key = !aws configure get aws_access_key_id\n",
    "    access_key = access_key[0]\n",
    "    secret_key = !aws configure get aws_secret_access_key\n",
    "    secret_key = secret_key[0]\n",
    "    # set storage target\n",
    "    client_kwargs={'endpoint_url': 'https://object-store.cloud.muni.cz'}\n",
    "    target = s3fs.S3FileSystem(anon=False,client_kwargs=client_kwargs)\n",
    "    # empty simulation bucket, if exists\n",
    "    target.rm(path,recursive=True)\n",
    "    # make file name for variable in simulation\n",
    "    zarr_file_name= f'{v_name}_{sim_name}'\n",
    "    uri = f\"{s3_prefix}/{zarr_file_name}\"\n",
    "    # get store argument for zarr\n",
    "    store = zarr.storage.FSStore(uri,client_kwargs=client_kwargs,\n",
    "                                 key=access_key, secret=secret_key)\n",
    "    # write variable to zarr\n",
    "    %time ds[v_name].to_zarr(store=store, mode='w', consolidated=True)\n",
    "    \n",
    "    return"
   ]
  },
  {
   "cell_type": "markdown",
   "id": "e9abc6e5-7600-4976-9b1e-d8994126739b",
   "metadata": {},
   "source": [
    "## Preprocess and write subsets of all model data\n",
    "Open a model and save each variable in the dataset as a `zarr` file in the `waffles` bucket"
   ]
  },
  {
   "cell_type": "raw",
   "id": "43882c13-ebe0-4c19-acbf-c4ccf673b96a",
   "metadata": {},
   "source": [
    "for sim_name in list(model_fnames_dict.keys()):\n",
    "    # load model from esgf\n",
    "    ds = load_ds_from_esgf_file_in_model_fnames_dict(sim_name, model_fnames_dict)\n",
    "    \n",
    "    # save each variable of the subset in zarr format \n",
    "    for v_name in list(ds.keys()):\n",
    "        write_subset_to_zarr(ds,sim_name,v_name)"
   ]
  },
  {
   "cell_type": "code",
   "execution_count": 9,
   "id": "f27f02bd-2951-4090-9597-72b2be0c6491",
   "metadata": {},
   "outputs": [],
   "source": [
    "sim_name = list(model_fnames_dict.keys())[0]"
   ]
  },
  {
   "cell_type": "code",
   "execution_count": null,
   "id": "d6b1e507-f957-4550-9eb0-b93b2b6c157d",
   "metadata": {},
   "outputs": [],
   "source": [
    "# load model from esgf\n",
    "ds = load_ds_from_esgf_file_in_model_fnames_dict(sim_name, model_fnames_dict)"
   ]
  },
  {
   "cell_type": "code",
   "execution_count": null,
   "id": "7d9f1ba9-88bf-45df-a269-d3c53044c37a",
   "metadata": {},
   "outputs": [],
   "source": [
    "v_name = list(ds.keys())[0]"
   ]
  },
  {
   "cell_type": "code",
   "execution_count": null,
   "id": "276e9156-2fb2-4125-9a99-8d9455cfefab",
   "metadata": {},
   "outputs": [],
   "source": [
    "write_subset_to_zarr(ds,sim_name,v_name)"
   ]
  }
 ],
 "metadata": {
  "kernelspec": {
   "display_name": "Python [conda env:notebook] *",
   "language": "python",
   "name": "conda-env-notebook-py"
  },
  "language_info": {
   "codemirror_mode": {
    "name": "ipython",
    "version": 3
   },
   "file_extension": ".py",
   "mimetype": "text/x-python",
   "name": "python",
   "nbconvert_exporter": "python",
   "pygments_lexer": "ipython3",
   "version": "3.9.13"
  }
 },
 "nbformat": 4,
 "nbformat_minor": 5
}
