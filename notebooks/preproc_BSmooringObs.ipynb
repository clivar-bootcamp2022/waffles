{
 "cells": [
  {
   "cell_type": "markdown",
   "id": "5f92a19c-683d-44e3-baa6-736e75ca9f9a",
   "metadata": {},
   "source": [
    "# Obs to xr Dataset\n",
    "Read in the observational data and save it locally as netcdf files using xarray."
   ]
  },
  {
   "cell_type": "code",
   "execution_count": 1,
   "id": "3117ed9b-6b67-489b-bc2c-c4230d966646",
   "metadata": {},
   "outputs": [],
   "source": [
    "import xarray as xr\n",
    "import numpy as np"
   ]
  },
  {
   "cell_type": "markdown",
   "id": "4bd7d067-318a-4b35-b4c6-12eba3b8009e",
   "metadata": {
    "tags": []
   },
   "source": [
    "## Set data path"
   ]
  },
  {
   "cell_type": "code",
   "execution_count": 2,
   "id": "13e91c06-e1b0-4dac-8ff1-364a4c369008",
   "metadata": {},
   "outputs": [],
   "source": [
    "path_obs = '../data/moorings_BS/'"
   ]
  },
  {
   "cell_type": "code",
   "execution_count": 3,
   "id": "ed536a79-f7fb-44c8-b90c-c7db89f9c3fb",
   "metadata": {},
   "outputs": [],
   "source": [
    "fn_end = '_Jan2021.txt'"
   ]
  },
  {
   "cell_type": "markdown",
   "id": "cbab59b2-2ac1-4648-bdb5-913001da9125",
   "metadata": {},
   "source": [
    "## Monthly obs"
   ]
  },
  {
   "cell_type": "markdown",
   "id": "d78f27fe-ae45-4b04-bf87-1b63e2e26998",
   "metadata": {},
   "source": [
    "### Read in observational data"
   ]
  },
  {
   "cell_type": "code",
   "execution_count": 4,
   "id": "6905272a-59ca-4d53-b75c-908f624e90eb",
   "metadata": {},
   "outputs": [],
   "source": [
    "fn_month = 'BeringStrait_Monthlymeans_'"
   ]
  },
  {
   "cell_type": "code",
   "execution_count": 5,
   "id": "d976bb96-0f31-49ad-a289-1a166d8e3653",
   "metadata": {},
   "outputs": [],
   "source": [
    "# Volume transport\n",
    "BST = np.loadtxt(f'{path_obs}{fn_month}TRANSPORT{fn_end}', comments='%')\n",
    "# Heat flux\n",
    "BSH = np.loadtxt(f'{path_obs}{fn_month}HEAT{fn_end}', comments='%')\n",
    "# Freshwater flux\n",
    "BSF = np.loadtxt(f'{path_obs}{fn_month}FW{fn_end}', comments='%')\n",
    "# V velocity\n",
    "BSV = np.loadtxt(f'{path_obs}{fn_month}VVEL{fn_end}', comments='%')\n",
    "# Temperature\n",
    "BStheta = np.loadtxt(f'{path_obs}{fn_month}TEMPERATURE{fn_end}', comments='%')\n",
    "# Salinity\n",
    "BSS = np.loadtxt(f'{path_obs}{fn_month}SALINITY{fn_end}', comments='%')"
   ]
  },
  {
   "cell_type": "markdown",
   "id": "54c8c3df-5b12-4eb2-ad0c-816a256cb551",
   "metadata": {},
   "source": [
    "### Make observational time series"
   ]
  },
  {
   "cell_type": "code",
   "execution_count": 6,
   "id": "93d80efc-10db-4e36-981e-0b6e0f268b10",
   "metadata": {},
   "outputs": [],
   "source": [
    "# Make time array\n",
    "time = xr.cftime_range(start=BST[0,1].astype('int').astype('str'), periods=BST.shape[0],\n",
    "                       freq=\"MS\", calendar=\"noleap\").shift(15,'D')"
   ]
  },
  {
   "cell_type": "code",
   "execution_count": 7,
   "id": "77c8d5ed-8136-4b6d-928f-7df778287df3",
   "metadata": {},
   "outputs": [],
   "source": [
    "# Volume transport [Sv] (uncorrected for ACC)\n",
    "T_vol  = BST[:,-2]\n",
    "T_volE = BST[:,-1]"
   ]
  },
  {
   "cell_type": "code",
   "execution_count": 8,
   "id": "5795ce4b-1bd7-4e4e-bca2-3f6531b941ca",
   "metadata": {},
   "outputs": [],
   "source": [
    "# Heat flux [TW] (uncorrected for ACC)\n",
    "F_heat  = BSH[:,-2]\n",
    "F_heatE = BSH[:,-1]"
   ]
  },
  {
   "cell_type": "code",
   "execution_count": 9,
   "id": "f8ab2ccc-4b8a-401b-9e42-32e5e8b5209a",
   "metadata": {},
   "outputs": [],
   "source": [
    "# Freshwater flux [Sv] (uncorrected for ACC)\n",
    "F_fresh  = BSF[:,-2]\n",
    "F_freshE = BSF[:,-1]"
   ]
  },
  {
   "cell_type": "code",
   "execution_count": 10,
   "id": "f32545ff-0ef3-4dbf-8768-c2d935fa6bb2",
   "metadata": {},
   "outputs": [],
   "source": [
    "# V velocity [m/s]\n",
    "vo  = BSV[:,-2]/100\n",
    "voE = BSV[:,-1]/100"
   ]
  },
  {
   "cell_type": "code",
   "execution_count": 11,
   "id": "2e4cd253-417f-46d7-af5e-1aa4ca63a3ad",
   "metadata": {},
   "outputs": [],
   "source": [
    "# Temperature [degC]\n",
    "thetao  = BStheta[:,-2]\n",
    "thetaoE = BStheta[:,-1]"
   ]
  },
  {
   "cell_type": "code",
   "execution_count": 12,
   "id": "34ac5112-e95b-44d4-9472-5f81bf178902",
   "metadata": {},
   "outputs": [],
   "source": [
    "# Salinity [PSU]\n",
    "so  = BSS[:,-2]\n",
    "soE = BSS[:,-1]"
   ]
  },
  {
   "cell_type": "code",
   "execution_count": 13,
   "id": "c9bd8460-b67c-4089-942f-df8c77eb0609",
   "metadata": {},
   "outputs": [],
   "source": [
    "# Make dataset\n",
    "DS_obs = xr.Dataset(\n",
    "    data_vars=dict(\n",
    "        T_vol    = ([\"time\"], T_vol),\n",
    "        T_volE   = ([\"time\"], T_volE),\n",
    "        F_heat   = ([\"time\"], F_heat),\n",
    "        F_heatE  = ([\"time\"], F_heatE),\n",
    "        F_fresh  = ([\"time\"], F_fresh),\n",
    "        F_freshE = ([\"time\"], F_freshE),\n",
    "        vo       = ([\"time\"], vo),\n",
    "        voE      = ([\"time\"], voE),\n",
    "        thetao   = ([\"time\"], thetao),\n",
    "        thetaoE  = ([\"time\"], thetaoE),\n",
    "        so       = ([\"time\"], so),\n",
    "        soE      = ([\"time\"], soE),\n",
    "    ),\n",
    "    coords=dict(\n",
    "        time=time,\n",
    "    ),\n",
    "    attrs=dict(description=\"Monlthy mean Bering Strait mooring transports and fluxes from Woodgate (2018).\"),\n",
    ")"
   ]
  },
  {
   "cell_type": "code",
   "execution_count": 14,
   "id": "38b5302b-c83b-4f54-926a-ec558ab116ac",
   "metadata": {},
   "outputs": [],
   "source": [
    "# Add metadata\n",
    "# transport\n",
    "DS_obs['T_vol'].attrs = {'units':'Sv', 'long_name':'Volume transport',\n",
    "                         'note':'Uncorrected for ACC or stratification'}\n",
    "DS_obs['T_volE'].attrs = {'units':'Sv', 'long_name':'Volume transport error'}\n",
    "\n",
    "# Heat flux\n",
    "DS_obs['F_heat'].attrs = {'units':'TW', 'long_name':'Heat flux',\n",
    "                          'note':'Uncorrected for ACC or stratification'}\n",
    "DS_obs['F_heatE'].attrs = {'units':'TW', 'long_name':'Heat flux error'}\n",
    "\n",
    "# Freshwater flux\n",
    "DS_obs['F_fresh'].attrs = {'units':'Sv', 'long_name':'Freshwater flux',\n",
    "                           'note':'Uncorrected for ACC or stratification'}\n",
    "DS_obs['F_freshE'].attrs = {'units':'Sv', 'long_name':'Freshwater flux error'}\n",
    "\n",
    "# Meridional velocity\n",
    "DS_obs['vo'].attrs = {'units':'m/s', 'long_name':'Meridional velocity',\n",
    "                      'note':'Uncorrected for ACC or stratification'}\n",
    "DS_obs['voE'].attrs = {'units':'m/s', 'long_name':'Meridional velocity error'}\n",
    "\n",
    "# Bottom temperature\n",
    "DS_obs['thetao'].attrs = {'units':'deg C', 'long_name':'Insitu Near Bottom Temperature',\n",
    "                          'note':'Uncorrected for ACC or stratification'}\n",
    "DS_obs['thetaoE'].attrs = {'units':'deg C', 'long_name':'Insitu Near Bottom Temperature error'}\n",
    "\n",
    "# Bottom salinity\n",
    "DS_obs['so'].attrs = {'units':'psu', 'long_name':'Insitu Near Bottom Salinity',\n",
    "                      'note':'Uncorrected for ACC or stratification'}\n",
    "DS_obs['soE'].attrs = {'units':'psu', 'long_name':'Insitu Near Bottom Salinity error'}"
   ]
  },
  {
   "cell_type": "markdown",
   "id": "27b4877e-3817-42ce-827f-7c05f4c3cec4",
   "metadata": {},
   "source": [
    "### Save observational time series"
   ]
  },
  {
   "cell_type": "code",
   "execution_count": 15,
   "id": "7e023274-e8d7-4764-8578-c552261e8ff1",
   "metadata": {},
   "outputs": [],
   "source": [
    "DS_obs.to_netcdf(f'{path_obs}{fn_month}Jan2021.nc')"
   ]
  },
  {
   "cell_type": "markdown",
   "id": "43ac90e9-0255-4302-b624-7c2dfe96b372",
   "metadata": {},
   "source": [
    "## Annual obs"
   ]
  },
  {
   "cell_type": "markdown",
   "id": "75d02501-f875-4f92-8941-50191344602a",
   "metadata": {},
   "source": [
    "### Read in observational data"
   ]
  },
  {
   "cell_type": "code",
   "execution_count": 16,
   "id": "51cd82f6-dcd5-4b95-8ca3-505ff62e3be6",
   "metadata": {},
   "outputs": [],
   "source": [
    "fn_year = 'BeringStrait_Annualmeans_'"
   ]
  },
  {
   "cell_type": "code",
   "execution_count": 17,
   "id": "9b5af0de-031b-4548-8133-1e480e9cfa10",
   "metadata": {},
   "outputs": [],
   "source": [
    "# Volume transport\n",
    "BST = np.loadtxt(f'{path_obs}{fn_year}TRANSPORT{fn_end}', comments='%')\n",
    "# Heat flux\n",
    "BSH = np.loadtxt(f'{path_obs}{fn_year}HEAT{fn_end}', comments='%')\n",
    "# Freshwater flux\n",
    "BSF = np.loadtxt(f'{path_obs}{fn_year}FW{fn_end}', comments='%')\n",
    "# Temperature\n",
    "BStheta = np.loadtxt(f'{path_obs}{fn_year}TEMPERATURE{fn_end}', comments='%')\n",
    "# Salinity\n",
    "BSS = np.loadtxt(f'{path_obs}{fn_year}SALINITY{fn_end}', comments='%')"
   ]
  },
  {
   "cell_type": "markdown",
   "id": "3ae282b4-fdfe-401b-9954-544251dbc7b1",
   "metadata": {},
   "source": [
    "### Make observational time series"
   ]
  },
  {
   "cell_type": "code",
   "execution_count": 18,
   "id": "deb77970-61b1-47ad-8459-3697346cca55",
   "metadata": {},
   "outputs": [],
   "source": [
    "# Make time array\n",
    "time = xr.cftime_range(start=BST[0,0].astype('int').astype('str'), \n",
    "                       periods=BST.shape[0], freq=\"A-JUN\", calendar=\"noleap\")"
   ]
  },
  {
   "cell_type": "code",
   "execution_count": 19,
   "id": "03c3ec41-7ca1-4736-813a-52277236f70e",
   "metadata": {},
   "outputs": [],
   "source": [
    "# Volume transport\n",
    "T_vol  = BST[:,-2] + 0.1\n",
    "T_volE = BST[:,-1]"
   ]
  },
  {
   "cell_type": "code",
   "execution_count": 20,
   "id": "e6380638-8051-4e6b-a7d2-88a5faa28841",
   "metadata": {},
   "outputs": [],
   "source": [
    "# Heat transport\n",
    "T_heat  = (BSH[:,-2] + BSH[:,-1])/2\n",
    "T_heatE = BSH[:,5]"
   ]
  },
  {
   "cell_type": "code",
   "execution_count": 21,
   "id": "98b4a859-5d57-4034-ac77-f38fa2519ca5",
   "metadata": {},
   "outputs": [],
   "source": [
    "# Freshwater transport\n",
    "T_fresh  = (BSF[:,-2] + BSF[:,-1])/2\n",
    "T_freshE = BSF[:,5]"
   ]
  },
  {
   "cell_type": "code",
   "execution_count": 22,
   "id": "5d31717d-e748-4dfa-8b73-1e41c801e784",
   "metadata": {},
   "outputs": [],
   "source": [
    "# Temperature [degC]\n",
    "thetao  = BStheta[:,-2]\n",
    "thetaoE = BStheta[:,-1]"
   ]
  },
  {
   "cell_type": "code",
   "execution_count": 23,
   "id": "79dffa08-8532-4cb1-bc28-9716d42dd436",
   "metadata": {},
   "outputs": [],
   "source": [
    "# Salinity [PSU]\n",
    "so  = BSS[:,-2]\n",
    "soE = BSS[:,-1]"
   ]
  },
  {
   "cell_type": "code",
   "execution_count": 24,
   "id": "a2b8b1d1-89fb-4ede-bf2d-f3e68ffa526d",
   "metadata": {},
   "outputs": [],
   "source": [
    "# Make dataset\n",
    "DS_obs = xr.Dataset(\n",
    "    data_vars=dict(\n",
    "        T_vol    = ([\"time\"], T_vol),\n",
    "        T_volE   = ([\"time\"], T_volE),\n",
    "        T_heat   = ([\"time\"], T_heat),\n",
    "        T_heatE  = ([\"time\"], T_heatE),\n",
    "        T_fresh  = ([\"time\"], T_fresh),\n",
    "        T_freshE = ([\"time\"], T_freshE),\n",
    "        thetao   = ([\"time\"], thetao),\n",
    "        thetaoE  = ([\"time\"], thetaoE),\n",
    "        so       = ([\"time\"], so),\n",
    "        soE      = ([\"time\"], soE),\n",
    "    ),\n",
    "    coords=dict(\n",
    "        time=time,\n",
    "    ),\n",
    "    attrs=dict(description=\"Annual mean Bering Strait mooring transports and fluxes from Woodgate (2018).\"),\n",
    ")"
   ]
  },
  {
   "cell_type": "code",
   "execution_count": 25,
   "id": "08e51201-a255-4551-86dd-7dcbeacb6ec4",
   "metadata": {},
   "outputs": [],
   "source": [
    "# Add metadata\n",
    "# transport\n",
    "DS_obs['T_vol'].attrs = {'units':'Sv', 'long_name':'Annual mean volume transport from A3',\n",
    "                         'note':'with corrections for instrument depth, data dropouts, and ACC '}\n",
    "DS_obs['T_volE'].attrs = {'units':'Sv', 'long_name':'Annual mean volume transport error from A3'}\n",
    "\n",
    "# Heat transport\n",
    "DS_obs['T_heat'].attrs = {'units':'10^20 J', 'long_name':'Total annual heat transport',\n",
    "                          'note':'with ACC & stratification corrections'}\n",
    "DS_obs['T_heatE'].attrs = {'units':'10^20 J', 'long_name':'Total annual heat transport error'}\n",
    "\n",
    "# Freshwater transport\n",
    "DS_obs['T_fresh'].attrs = {'units':'km^3', 'long_name':'Total annual freshwater transport',\n",
    "                      'note':'with ACC & stratification corrections'}\n",
    "DS_obs['T_freshE'].attrs = {'units':'km^3', 'long_name':'Total annual freshwater transport error'}\n",
    "\n",
    "# Bottom temperature\n",
    "DS_obs['thetao'].attrs = {'units':'deg C', 'long_name':'Annual mean near-bottom temperature at A3'}\n",
    "DS_obs['thetaoE'].attrs = {'units':'deg C', 'long_name':'Annual mean near-bottom temperature at A3 error'}\n",
    "\n",
    "# Bottom salinity\n",
    "DS_obs['so'].attrs = {'units':'psu', 'long_name':'Annual mean near-bottom salinity at A3',\n",
    "                      'note':'with corrections for biofoulings'}\n",
    "DS_obs['soE'].attrs = {'units':'psu', 'long_name':'Annual mean near-bottom salinity at A3 error'}"
   ]
  },
  {
   "cell_type": "markdown",
   "id": "805ebd67-cc39-48e4-92b4-592f4346a146",
   "metadata": {},
   "source": [
    "### Save observational time series"
   ]
  },
  {
   "cell_type": "code",
   "execution_count": 26,
   "id": "c39b1961-a840-4277-b0ae-5d3bd7e2dcee",
   "metadata": {},
   "outputs": [],
   "source": [
    "DS_obs.to_netcdf(f'{path_obs}{fn_year}Jan2021.nc')"
   ]
  }
 ],
 "metadata": {
  "kernelspec": {
   "display_name": "Python [conda env:notebook] *",
   "language": "python",
   "name": "conda-env-notebook-py"
  },
  "language_info": {
   "codemirror_mode": {
    "name": "ipython",
    "version": 3
   },
   "file_extension": ".py",
   "mimetype": "text/x-python",
   "name": "python",
   "nbconvert_exporter": "python",
   "pygments_lexer": "ipython3",
   "version": "3.9.13"
  }
 },
 "nbformat": 4,
 "nbformat_minor": 5
}
